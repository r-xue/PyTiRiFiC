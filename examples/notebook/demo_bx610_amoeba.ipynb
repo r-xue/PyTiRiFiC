{
 "cells": [
  {
   "cell_type": "markdown",
   "metadata": {
    "button": false,
    "deletable": true,
    "new_sheet": false,
    "run_control": {
     "read_only": false
    }
   },
   "source": [
    "[![Open In Colab](https://colab.research.google.com/assets/colab-badge.svg)](https://colab.research.google.com/github/r-xue/casa_proc/blob/master/demo/test_casaproc.ipynb)\n",
    "\n",
    "## Example BX610: perform model fitting using method='amoeba'"
   ]
  },
  {
   "cell_type": "code",
   "execution_count": 1,
   "metadata": {
    "button": false,
    "collapsed": false,
    "deletable": true,
    "jupyter": {
     "outputs_hidden": false
    },
    "new_sheet": false,
    "run_control": {
     "read_only": false
    }
   },
   "outputs": [
    {
     "name": "stdout",
     "output_type": "stream",
     "text": [
      "3.7.5 (default, Oct 19 2019, 11:15:26) \n",
      "[Clang 11.0.0 (clang-1100.0.33.8)]\n",
      "hyperion\n",
      "/Users/Rui/Dropbox/Worklib/projects/GMaKE/examples/output\n",
      "**********exe read_inp()**************\n",
      "0.2.dev1\n",
      "rx.astro@gmail.com\n",
      "/Users/Rui/Dropbox/Worklib/projects/GMaKE/gmake\n",
      ">>>>>>>>>>>>>>>>>>>>>>>>>>>>>>>>>>>>>>>>\n",
      "**********exe read_inp()**************\n",
      "<Logger gmake (DEBUG)>\n",
      "[<FileHandler /Users/Rui/Dropbox/Worklib/projects/GMaKE/examples/output/bx610_b6c3_uv_ab/gmake.log (DEBUG)>, <StreamHandler stderr (DEBUG)>]\n"
     ]
    }
   ],
   "source": [
    "import sys\n",
    "import glob\n",
    "import os\n",
    "import io\n",
    "import logging\n",
    "from pprint import pprint\n",
    "\n",
    "print(sys.version)\n",
    "\n",
    "import socket \n",
    "if  'hypersion' or 'mini' in socket.gethostname() :\n",
    "    os.chdir('/Users/Rui/Dropbox/Worklib/projects/GMaKE/examples/output/')\n",
    "print(socket.gethostname())\n",
    "print(os.getcwd())\n",
    "\n",
    "import gmake\n",
    "print(gmake.__version__)\n",
    "print(gmake.__email__)\n",
    "print(gmake.__demo__)\n",
    "\n",
    "inpfile=gmake.__demo__+'/../examples/inpfile/bx610_b6c3_uv_ab.inp'\n",
    "logfile=''\n",
    "\n",
    "print('>'*40)\n",
    "#gmake.logger_config()\n",
    "#gmake.logger_status()\n",
    "#import pprint\n",
    "#pprint.pprint(logging.Logger.manager.loggerDict) \n",
    "gmake.logger_config()\n",
    "inp_dct=gmake.read_inp(inpfile)\n",
    "inp_dct=gmake.inp_validate(inp_dct)\n",
    "outdir=inp_dct['general']['outdir']\n",
    "gmake.logger_config(logfile=outdir+'/gmake.log',loglevel='DEBUG',logfilelevel='DEBUG')\n",
    "gmake.logger_status()\n"
   ]
  },
  {
   "cell_type": "code",
   "execution_count": 2,
   "metadata": {
    "button": false,
    "collapsed": false,
    "deletable": true,
    "jupyter": {
     "outputs_hidden": false
    },
    "new_sheet": false,
    "run_control": {
     "read_only": false
    }
   },
   "outputs": [
    {
     "name": "stderr",
     "output_type": "stream",
     "text": [
      "read data (may take some time..)\n",
      "\n",
      "Read: ../data/bx610/alma/2015.1.00250.S/bb2.ms\n",
      "\n",
      "data@../data/bx610/alma/2015.1.00250.S/bb2.ms                (56354, 238)         102 MiB             \n",
      "uvw@../data/bx610/alma/2015.1.00250.S/bb2.ms                 (56354, 3)           661 KiB             \n",
      "weight@../data/bx610/alma/2015.1.00250.S/bb2.ms              (56354,)             220 KiB             161.43835\n",
      "chanfreq@../data/bx610/alma/2015.1.00250.S/bb2.ms            (238,)     250752859438.0543 Hz 252604264234.0391 Hz\n",
      "chanwidth@../data/bx610/alma/2015.1.00250.S/bb2.ms           (238,)     7811834.5822 Hz 7811834.5822 Hz\n",
      "phasecenter@../data/bx610/alma/2015.1.00250.S/bb2.ms         23h46m09.44s  12d49m19.3s\n",
      "data flagging fraction: 0.0\n",
      "\n",
      "Read: ../data/bx610/alma/2015.1.00250.S/bb3.ms\n",
      "\n",
      "data@../data/bx610/alma/2015.1.00250.S/bb3.ms                (53466, 238)          97 MiB             \n",
      "uvw@../data/bx610/alma/2015.1.00250.S/bb3.ms                 (53466, 3)           627 KiB             \n",
      "weight@../data/bx610/alma/2015.1.00250.S/bb3.ms              (53466,)             209 KiB             187.34055\n",
      "chanfreq@../data/bx610/alma/2015.1.00250.S/bb3.ms            (238,)     233254349973.6942 Hz 235105754769.6790 Hz\n",
      "chanwidth@../data/bx610/alma/2015.1.00250.S/bb3.ms           (238,)     -7811834.5822 Hz -7811834.5822 Hz\n",
      "phasecenter@../data/bx610/alma/2015.1.00250.S/bb3.ms         23h46m09.44s  12d49m19.3s\n",
      "data flagging fraction: 0.0\n",
      "\n",
      "Read: ../data/bx610/alma/2015.1.00250.S/bb1.mfs.ms\n",
      "\n",
      "data@../data/bx610/alma/2015.1.00250.S/bb1.mfs.ms            (56354, 1)           440 KiB             \n",
      "uvw@../data/bx610/alma/2015.1.00250.S/bb1.mfs.ms             (56354, 3)           661 KiB             \n",
      "weight@../data/bx610/alma/2015.1.00250.S/bb1.mfs.ms          (56354,)             220 KiB             35061.727\n",
      "chanfreq@../data/bx610/alma/2015.1.00250.S/bb1.mfs.ms        (1,)       250073373567.0543 Hz 250073373567.0543 Hz\n",
      "chanwidth@../data/bx610/alma/2015.1.00250.S/bb1.mfs.ms       (1,)       1859216630.5597 Hz 1859216630.5597 Hz\n",
      "phasecenter@../data/bx610/alma/2015.1.00250.S/bb1.mfs.ms     23h46m09.44s  12d49m19.3s\n",
      "data flagging fraction: 0.0\n",
      "\n",
      "Read: ../data/bx610/alma/2015.1.00250.S/bb4.mfs.ms\n",
      "\n",
      "data@../data/bx610/alma/2015.1.00250.S/bb4.mfs.ms            (56354, 1)           440 KiB             \n",
      "uvw@../data/bx610/alma/2015.1.00250.S/bb4.mfs.ms             (56354, 3)           661 KiB             \n",
      "weight@../data/bx610/alma/2015.1.00250.S/bb4.mfs.ms          (56354,)             220 KiB             48239.17\n",
      "chanfreq@../data/bx610/alma/2015.1.00250.S/bb4.mfs.ms        (1,)       235879907576.7765 Hz 235879907576.7765 Hz\n",
      "chanwidth@../data/bx610/alma/2015.1.00250.S/bb4.mfs.ms       (1,)       -1859216630.5670 Hz -1859216630.5670 Hz\n",
      "phasecenter@../data/bx610/alma/2015.1.00250.S/bb4.mfs.ms     23h46m09.44s  12d49m19.3s\n",
      "data flagging fraction: 0.0\n",
      "--------------------------------------------------------------------------------\n",
      "--- dat_dct size 203.68 Mibyte ---\n",
      "--- took 2.05208  seconds ---\n"
     ]
    }
   ],
   "source": [
    "dat_dct=gmake.read_data(inp_dct,fill_mask=True,fill_error=True)"
   ]
  },
  {
   "cell_type": "code",
   "execution_count": 3,
   "metadata": {
    "button": false,
    "collapsed": false,
    "deletable": true,
    "jupyter": {
     "outputs_hidden": false
    },
    "new_sheet": false,
    "run_control": {
     "read_only": false
    }
   },
   "outputs": [],
   "source": [
    "#\n",
    "#mod_dct=gmake.inp2mod(inp_dct)\n",
    "#gmake.pprint(mod_dct)\n",
    "#gmake.model_vrot(mod_dct)\n",
    "#gmake.pprint(mod_dct)\n",
    "#gmake.model_vrot_plot(mod_dct['co76'])"
   ]
  },
  {
   "cell_type": "code",
   "execution_count": 4,
   "metadata": {
    "button": false,
    "collapsed": false,
    "deletable": true,
    "jupyter": {
     "outputs_hidden": false
    },
    "new_sheet": false,
    "run_control": {
     "read_only": false
    }
   },
   "outputs": [
    {
     "name": "stdout",
     "output_type": "stream",
     "text": [
      "**********exe read_inp()**************\n"
     ]
    },
    {
     "name": "stderr",
     "output_type": "stream",
     "text": [
      "++++++++++++++++++++++++++++++++++++++++++++++++++++++++++++++++++++++++++++++++++++++++++++++++++++\n",
      "optimizer: amoeba\n",
      "optimizing parameters:\n",
      "----------------------------------------------------------------------------------------------------\n",
      "index    name    unit    start    lo_limit    up_limit    scale\n",
      " 0   disk_sd@diskdyn   solMass / pc2        5000.00     (    100.00    ,    50000.00    )   45000.00    \n",
      " 1   xypos.ra@basics   deg                356.5393258   (  356.5387703 ,   356.5398814  )   0.0005556   \n",
      " 2   xypos.dec@basics  deg                12.8220182    (  12.8214626  ,   12.8225738   )   0.0005556   \n",
      "++++++++++++++++++++++++++++++++++++++++++++++++++++++++++++++++++++++++++++++++++++++++++++++++++++\n",
      "ndim:    3\n",
      "outdir:  bx610_b6c3_uv_ab\n"
     ]
    },
    {
     "name": "stdout",
     "output_type": "stream",
     "text": [
      "/Users/Rui/Library/Python/3.7/lib/python/site-packages/galpy/potential/RazorThinExponentialDiskPotential.py:128: RuntimeWarning: invalid value encountered in multiply\n",
      "  return -2.*nu.pi*y*(special.i0(y)*special.k0(y)-special.i1(y)*special.k1(y))\n",
      "\n"
     ]
    },
    {
     "name": "stderr",
     "output_type": "stream",
     "text": [
      "one trial                                          : 1.35949  seconds\n",
      "ndata->26249868.0\n",
      "chisq->66853641.943349816\n",
      "--- save to: bx610_b6c3_uv_ab/fit.h5\n",
      " \n",
      "Running AMOEBA...\n",
      ">>bx610_b6c3_uv_ab/amoeba_chain.h5\n",
      " \n"
     ]
    },
    {
     "name": "stdout",
     "output_type": "stream",
     "text": [
      "/Users/Rui/Library/Python/3.7/lib/python/site-packages/hickle/hickle.py:403: SerializedWarning: <class 'astropy.units.core.CompositeUnit'> type not understood, data have been serialized\n",
      "  SerializedWarning)\n",
      "\n",
      "/Users/Rui/Library/Python/3.7/lib/python/site-packages/hickle/hickle.py:403: SerializedWarning: <class 'astropy.units.core.Unit'> type not understood, data have been serialized\n",
      "  SerializedWarning)\n",
      "\n"
     ]
    },
    {
     "name": "stderr",
     "output_type": "stream",
     "text": [
      "     0   66853644   66870632\n",
      "     1   66853644   66869746\n",
      "     6   66853644   66883000\n",
      "     7   66853644   66882152\n",
      "     8   66853644   66882095\n",
      "    10   66853644   66881657\n",
      "    12   66853644   66879188\n",
      "    14   66853644   66879047\n",
      "    16   66853644   66870167\n",
      "    18   66853644   66870062\n",
      "    20   66853644   66862099\n",
      "    22   66853644   66859046\n",
      "    24   66853644   66857220\n",
      "    26   66853644   66856156\n",
      "    28   66853644   66855412\n",
      "    29   66853644   66855334\n",
      "    30   66853644   66855184\n",
      "    31   66853644   66854899\n",
      "    32   66853644   66854868\n",
      "    33   66853644   66854446\n",
      "    35   66853430   66854001\n",
      "    37   66853430   66853999\n",
      "    39   66853430   66853673\n",
      "    40   66853430   66853644\n",
      "    42   66853430   66853510\n",
      "    43   66853430   66853504\n",
      "    44   66853430   66853487\n",
      "    45   66853430   66853485\n",
      "    47   66853425   66853480\n",
      "    49   66853425   66853462\n",
      "    51   66853412   66853430\n",
      "    53   66853407   66853426\n",
      "    55   66853407   66853425\n",
      "    57   66853407   66853415\n",
      "    59   66853407   66853414\n",
      "    60   66853407   66853412\n",
      "    61   66853407   66853411\n",
      "    62   66853407   66853409\n",
      "    64   66853402   66853408\n",
      "    66   66853402   66853408\n",
      "    68   66853401   66853407\n",
      "    73   66853401   66853417\n",
      "    74   66853401   66853407\n",
      "    75   66853401   66853407\n",
      "    76   66853401   66853407\n",
      "    77   66853401   66853405\n",
      "    78   66853401   66853405\n",
      "    83   66853401   66853413\n",
      "    85   66853401   66853405\n",
      "    87   66853401   66853405\n",
      "    88   66853401   66853405\n",
      "    93   66853401   66853409\n",
      "    95   66853401   66853404\n",
      "    97   66853398   66853404\n",
      "   102   66853398   66853406\n",
      "   103   66853398   66853406\n",
      "   105   66853398   66853401\n",
      "   110   66853398   66853405\n",
      "   112   66853398   66853405\n",
      "   114   66853398   66853405\n",
      "   119   66853398   66853413\n",
      "   120   66853398   66853413\n",
      "   122   66853398   66853406\n",
      "   127   66853398   66853409\n",
      "   128   66853398   66853406\n",
      "   130   66853398   66853405\n",
      "   135   66853398   66853416\n",
      "   137   66853398   66853407\n",
      "   138   66853398   66853403\n",
      "   139   66853398   66853401\n",
      "   144   66853398   66853518\n",
      "   146   66853398   66853408\n",
      "   148   66853398   66853405\n",
      "   153   66853398   66853403\n",
      "   158   66853398   66853407\n",
      "   163   66853398   66853413\n",
      "   165   66853398   66853406\n",
      "   170   66853398   66853408\n",
      "   172   66853398   66853407\n",
      "   174   66853398   66853406\n",
      "   176   66853398   66853406\n",
      "   181   66853398   66853407\n",
      "   182   66853398   66853406\n",
      "   184   66853398   66853405\n",
      "   186   66853398   66853404\n",
      "   188   66853398   66853402\n",
      "   189   66853398   66853402\n",
      "   194   66853398   66853410\n",
      "   196   66853398   66853408\n",
      "   197   66853398   66853407\n",
      "   198   66853398   66853406\n",
      "--- save to: bx610_b6c3_uv_ab/amoeba_chain.h5\n"
     ]
    }
   ],
   "source": [
    "inp_dct=gmake.read_inp(inpfile)\n",
    "inp_dct=gmake.inp_validate(inp_dct)\n",
    "mod_dct=gmake.inp2mod(inp_dct)\n",
    "gmake.model_vrot(mod_dct)\n",
    "#mod_dct['co76']\n",
    "fit_dct=gmake.fit_setup(inp_dct,dat_dct)\n",
    "gmake.fit_iterate(fit_dct,inp_dct,dat_dct)"
   ]
  },
  {
   "cell_type": "code",
   "execution_count": 5,
   "metadata": {
    "button": false,
    "collapsed": false,
    "deletable": true,
    "jupyter": {
     "outputs_hidden": false
    },
    "new_sheet": false,
    "run_control": {
     "read_only": false
    }
   },
   "outputs": [
    {
     "name": "stderr",
     "output_type": "stream",
     "text": [
      "--- save to: bx610_b6c3_uv_ab/fit.h5\n",
      "Check optimized parameters:\n",
      " 0   disk_sd@diskdyn   =    2529.26     <-    5000.00     (    100.00    ,    50000.00    )\n",
      " 1   xypos.ra@basics   =  356.5393256   <-  356.5393258   (  356.5387703 ,   356.5398814  )\n",
      " 2   xypos.dec@basics  =  12.8220184    <-  12.8220182    (  12.8214626  ,   12.8225738   )\n"
     ]
    },
    {
     "name": "stdout",
     "output_type": "stream",
     "text": [
      "**********exe read_inp()**************\n"
     ]
    },
    {
     "name": "stderr",
     "output_type": "stream",
     "text": [
      "analyzing outfolder:bx610_b6c3_uv_ab\n",
      "plotting...bx610_b6c3_uv_ab/iteration.pdf\n"
     ]
    },
    {
     "name": "stdout",
     "output_type": "stream",
     "text": [
      "/Users/Rui/Library/Python/3.7/lib/python/site-packages/galpy/potential/RazorThinExponentialDiskPotential.py:128: RuntimeWarning: invalid value encountered in multiply\n",
      "  return -2.*nu.pi*y*(special.i0(y)*special.k0(y)-special.i1(y)*special.k1(y))\n",
      "\n"
     ]
    },
    {
     "name": "stderr",
     "output_type": "stream",
     "text": [
      "export the model set:              bx610_b6c3_uv_ab/model_0              (may take some time..)\n",
      " \n",
      "-->data_b6c3_bb2.ms\n",
      " \n",
      "imod2d@../data/bx610/alma/2015.1.00250.S/bb2.ms\n",
      "write reference model image: \n",
      "    imod2d@../data/bx610/alma/2015.1.00250.S/bb2.ms to bx610_b6c3_uv_ab/model_0/imod2d_b6c3_bb2.fits\n",
      "imod3d@../data/bx610/alma/2015.1.00250.S/bb2.ms\n",
      "write reference model image: \n",
      "    imod3d@../data/bx610/alma/2015.1.00250.S/bb2.ms to bx610_b6c3_uv_ab/model_0/imod3d_b6c3_bb2.fits\n",
      "pbeam@../data/bx610/alma/2015.1.00250.S/bb2.ms\n",
      "write reference model image: \n",
      "    pbeam@../data/bx610/alma/2015.1.00250.S/bb2.ms to bx610_b6c3_uv_ab/model_0/pbeam_b6c3_bb2.fits\n",
      "write reference model profile: \n",
      "    imod3d_prof@co76@../data/bx610/alma/2015.1.00250.S/bb2.ms to bx610_b6c3_uv_ab/model_0/imodrp_co76_b6c3_bb2.fits\n",
      "write reference model profile: \n",
      "    imod3d_prof@ci21@../data/bx610/alma/2015.1.00250.S/bb2.ms to bx610_b6c3_uv_ab/model_0/imodrp_ci21_b6c3_bb2.fits\n",
      "copy ms container: \n",
      "    ../data/bx610/alma/2015.1.00250.S/bb2.ms  to  bx610_b6c3_uv_ab/model_0/model_b6c3_bb2.ms\n"
     ]
    },
    {
     "name": "stdout",
     "output_type": "stream",
     "text": [
      "bx610_b6c3_uv_ab/model_0\n",
      "['cube.', 'mfs.', 'cube3.']\n",
      "[('../data/bx610/alma/2015.1.00250.S/', 'b6c3_')]\n"
     ]
    },
    {
     "name": "stderr",
     "output_type": "stream",
     "text": [
      "write ms column: \n",
      "    uvmodel@../data/bx610/alma/2015.1.00250.S/bb2.ms to data@bx610_b6c3_uv_ab/model_0/model_b6c3_bb2.ms\n",
      "create symlink:\n",
      "    /Users/Rui/Dropbox/Worklib/projects/GMaKE/examples/data/bx610/alma/2015.1.00250.S/bb2.ms  to  bx610_b6c3_uv_ab/model_0/data_b6c3_bb2.ms\n",
      " \n",
      "-->data_b6c3_bb3.ms\n",
      " \n",
      "imod2d@../data/bx610/alma/2015.1.00250.S/bb3.ms\n",
      "write reference model image: \n",
      "    imod2d@../data/bx610/alma/2015.1.00250.S/bb3.ms to bx610_b6c3_uv_ab/model_0/imod2d_b6c3_bb3.fits\n",
      "imod3d@../data/bx610/alma/2015.1.00250.S/bb3.ms\n",
      "write reference model image: \n",
      "    imod3d@../data/bx610/alma/2015.1.00250.S/bb3.ms to bx610_b6c3_uv_ab/model_0/imod3d_b6c3_bb3.fits\n",
      "pbeam@../data/bx610/alma/2015.1.00250.S/bb3.ms\n",
      "write reference model image: \n",
      "    pbeam@../data/bx610/alma/2015.1.00250.S/bb3.ms to bx610_b6c3_uv_ab/model_0/pbeam_b6c3_bb3.fits\n",
      "write reference model profile: \n",
      "    imod3d_prof@h2o@../data/bx610/alma/2015.1.00250.S/bb3.ms to bx610_b6c3_uv_ab/model_0/imodrp_h2o_b6c3_bb3.fits\n",
      "copy ms container: \n",
      "    ../data/bx610/alma/2015.1.00250.S/bb3.ms  to  bx610_b6c3_uv_ab/model_0/model_b6c3_bb3.ms\n",
      "write ms column: \n",
      "    uvmodel@../data/bx610/alma/2015.1.00250.S/bb3.ms to data@bx610_b6c3_uv_ab/model_0/model_b6c3_bb3.ms\n",
      "create symlink:\n",
      "    /Users/Rui/Dropbox/Worklib/projects/GMaKE/examples/data/bx610/alma/2015.1.00250.S/bb3.ms  to  bx610_b6c3_uv_ab/model_0/data_b6c3_bb3.ms\n",
      " \n",
      "-->data_b6c3_bb1.ms\n",
      " \n",
      "imod2d@../data/bx610/alma/2015.1.00250.S/bb1.mfs.ms\n",
      "write reference model image: \n",
      "    imod2d@../data/bx610/alma/2015.1.00250.S/bb1.mfs.ms to bx610_b6c3_uv_ab/model_0/imod2d_b6c3_bb1.fits\n",
      "imod3d@../data/bx610/alma/2015.1.00250.S/bb1.mfs.ms\n",
      "write reference model image: \n",
      "    imod3d@../data/bx610/alma/2015.1.00250.S/bb1.mfs.ms to bx610_b6c3_uv_ab/model_0/imod3d_b6c3_bb1.fits\n",
      "pbeam@../data/bx610/alma/2015.1.00250.S/bb1.mfs.ms\n",
      "write reference model image: \n",
      "    pbeam@../data/bx610/alma/2015.1.00250.S/bb1.mfs.ms to bx610_b6c3_uv_ab/model_0/pbeam_b6c3_bb1.fits\n",
      "copy ms container: \n",
      "    ../data/bx610/alma/2015.1.00250.S/bb1.mfs.ms  to  bx610_b6c3_uv_ab/model_0/model_b6c3_bb1.ms\n",
      "write ms column: \n",
      "    uvmodel@../data/bx610/alma/2015.1.00250.S/bb1.mfs.ms to data@bx610_b6c3_uv_ab/model_0/model_b6c3_bb1.ms\n",
      "create symlink:\n",
      "    /Users/Rui/Dropbox/Worklib/projects/GMaKE/examples/data/bx610/alma/2015.1.00250.S/bb1.mfs.ms  to  bx610_b6c3_uv_ab/model_0/data_b6c3_bb1.ms\n",
      " \n",
      "-->data_b6c3_bb4.ms\n",
      " \n",
      "imod2d@../data/bx610/alma/2015.1.00250.S/bb4.mfs.ms\n",
      "write reference model image: \n",
      "    imod2d@../data/bx610/alma/2015.1.00250.S/bb4.mfs.ms to bx610_b6c3_uv_ab/model_0/imod2d_b6c3_bb4.fits\n",
      "imod3d@../data/bx610/alma/2015.1.00250.S/bb4.mfs.ms\n",
      "write reference model image: \n",
      "    imod3d@../data/bx610/alma/2015.1.00250.S/bb4.mfs.ms to bx610_b6c3_uv_ab/model_0/imod3d_b6c3_bb4.fits\n",
      "pbeam@../data/bx610/alma/2015.1.00250.S/bb4.mfs.ms\n",
      "write reference model image: \n",
      "    pbeam@../data/bx610/alma/2015.1.00250.S/bb4.mfs.ms to bx610_b6c3_uv_ab/model_0/pbeam_b6c3_bb4.fits\n",
      "copy ms container: \n",
      "    ../data/bx610/alma/2015.1.00250.S/bb4.mfs.ms  to  bx610_b6c3_uv_ab/model_0/model_b6c3_bb4.ms\n",
      "write ms column: \n",
      "    uvmodel@../data/bx610/alma/2015.1.00250.S/bb4.mfs.ms to data@bx610_b6c3_uv_ab/model_0/model_b6c3_bb4.ms\n",
      "create symlink:\n",
      "    /Users/Rui/Dropbox/Worklib/projects/GMaKE/examples/data/bx610/alma/2015.1.00250.S/bb4.mfs.ms  to  bx610_b6c3_uv_ab/model_0/data_b6c3_bb4.ms\n",
      "--------------------------------------------------------------------------------\n",
      "--- took 5.02229  seconds ---\n"
     ]
    },
    {
     "name": "stdout",
     "output_type": "stream",
     "text": [
      "/Users/Rui/Library/Python/3.7/lib/python/site-packages/hickle/hickle.py:403: SerializedWarning: <class 'astropy.io.fits.header.Header'> type not understood, data have been serialized\n",
      "  SerializedWarning)\n",
      "\n"
     ]
    },
    {
     "name": "stderr",
     "output_type": "stream",
     "text": [
      "--- save to: bx610_b6c3_uv_ab/model_0/models.h5\n",
      "model_0: \n",
      "{'chisq': 66853638.58140921,\n",
      " 'lnprob': 10223010.887559123,\n",
      " 'ndata': 26249868.0,\n",
      " 'npar': 3}\n",
      "export the model set:              bx610_b6c3_uv_ab/model_1              (may take some time..)\n",
      " \n",
      "-->data_b6c3_bb2.ms\n",
      " \n",
      "imod2d@../data/bx610/alma/2015.1.00250.S/bb2.ms\n",
      "write reference model image: \n",
      "    imod2d@../data/bx610/alma/2015.1.00250.S/bb2.ms to bx610_b6c3_uv_ab/model_1/imod2d_b6c3_bb2.fits\n",
      "imod3d@../data/bx610/alma/2015.1.00250.S/bb2.ms\n",
      "write reference model image: \n",
      "    imod3d@../data/bx610/alma/2015.1.00250.S/bb2.ms to bx610_b6c3_uv_ab/model_1/imod3d_b6c3_bb2.fits\n",
      "pbeam@../data/bx610/alma/2015.1.00250.S/bb2.ms\n",
      "write reference model image: \n",
      "    pbeam@../data/bx610/alma/2015.1.00250.S/bb2.ms to bx610_b6c3_uv_ab/model_1/pbeam_b6c3_bb2.fits\n",
      "write reference model profile: \n",
      "    imod3d_prof@co76@../data/bx610/alma/2015.1.00250.S/bb2.ms to bx610_b6c3_uv_ab/model_1/imodrp_co76_b6c3_bb2.fits\n"
     ]
    },
    {
     "name": "stdout",
     "output_type": "stream",
     "text": [
      "bx610_b6c3_uv_ab/model_1\n",
      "['cube.', 'mfs.', 'cube3.']\n",
      "[('../data/bx610/alma/2015.1.00250.S/', 'b6c3_')]\n"
     ]
    },
    {
     "name": "stderr",
     "output_type": "stream",
     "text": [
      "write reference model profile: \n",
      "    imod3d_prof@ci21@../data/bx610/alma/2015.1.00250.S/bb2.ms to bx610_b6c3_uv_ab/model_1/imodrp_ci21_b6c3_bb2.fits\n",
      "copy ms container: \n",
      "    ../data/bx610/alma/2015.1.00250.S/bb2.ms  to  bx610_b6c3_uv_ab/model_1/model_b6c3_bb2.ms\n",
      "write ms column: \n",
      "    uvmodel@../data/bx610/alma/2015.1.00250.S/bb2.ms to data@bx610_b6c3_uv_ab/model_1/model_b6c3_bb2.ms\n",
      "create symlink:\n",
      "    /Users/Rui/Dropbox/Worklib/projects/GMaKE/examples/data/bx610/alma/2015.1.00250.S/bb2.ms  to  bx610_b6c3_uv_ab/model_1/data_b6c3_bb2.ms\n",
      " \n",
      "-->data_b6c3_bb3.ms\n",
      " \n",
      "imod2d@../data/bx610/alma/2015.1.00250.S/bb3.ms\n",
      "write reference model image: \n",
      "    imod2d@../data/bx610/alma/2015.1.00250.S/bb3.ms to bx610_b6c3_uv_ab/model_1/imod2d_b6c3_bb3.fits\n",
      "imod3d@../data/bx610/alma/2015.1.00250.S/bb3.ms\n",
      "write reference model image: \n",
      "    imod3d@../data/bx610/alma/2015.1.00250.S/bb3.ms to bx610_b6c3_uv_ab/model_1/imod3d_b6c3_bb3.fits\n",
      "pbeam@../data/bx610/alma/2015.1.00250.S/bb3.ms\n",
      "write reference model image: \n",
      "    pbeam@../data/bx610/alma/2015.1.00250.S/bb3.ms to bx610_b6c3_uv_ab/model_1/pbeam_b6c3_bb3.fits\n",
      "write reference model profile: \n",
      "    imod3d_prof@h2o@../data/bx610/alma/2015.1.00250.S/bb3.ms to bx610_b6c3_uv_ab/model_1/imodrp_h2o_b6c3_bb3.fits\n",
      "copy ms container: \n",
      "    ../data/bx610/alma/2015.1.00250.S/bb3.ms  to  bx610_b6c3_uv_ab/model_1/model_b6c3_bb3.ms\n",
      "write ms column: \n",
      "    uvmodel@../data/bx610/alma/2015.1.00250.S/bb3.ms to data@bx610_b6c3_uv_ab/model_1/model_b6c3_bb3.ms\n",
      "create symlink:\n",
      "    /Users/Rui/Dropbox/Worklib/projects/GMaKE/examples/data/bx610/alma/2015.1.00250.S/bb3.ms  to  bx610_b6c3_uv_ab/model_1/data_b6c3_bb3.ms\n",
      " \n",
      "-->data_b6c3_bb1.ms\n",
      " \n",
      "imod2d@../data/bx610/alma/2015.1.00250.S/bb1.mfs.ms\n",
      "write reference model image: \n",
      "    imod2d@../data/bx610/alma/2015.1.00250.S/bb1.mfs.ms to bx610_b6c3_uv_ab/model_1/imod2d_b6c3_bb1.fits\n",
      "imod3d@../data/bx610/alma/2015.1.00250.S/bb1.mfs.ms\n",
      "write reference model image: \n",
      "    imod3d@../data/bx610/alma/2015.1.00250.S/bb1.mfs.ms to bx610_b6c3_uv_ab/model_1/imod3d_b6c3_bb1.fits\n",
      "pbeam@../data/bx610/alma/2015.1.00250.S/bb1.mfs.ms\n",
      "write reference model image: \n",
      "    pbeam@../data/bx610/alma/2015.1.00250.S/bb1.mfs.ms to bx610_b6c3_uv_ab/model_1/pbeam_b6c3_bb1.fits\n",
      "copy ms container: \n",
      "    ../data/bx610/alma/2015.1.00250.S/bb1.mfs.ms  to  bx610_b6c3_uv_ab/model_1/model_b6c3_bb1.ms\n",
      "write ms column: \n",
      "    uvmodel@../data/bx610/alma/2015.1.00250.S/bb1.mfs.ms to data@bx610_b6c3_uv_ab/model_1/model_b6c3_bb1.ms\n",
      "create symlink:\n",
      "    /Users/Rui/Dropbox/Worklib/projects/GMaKE/examples/data/bx610/alma/2015.1.00250.S/bb1.mfs.ms  to  bx610_b6c3_uv_ab/model_1/data_b6c3_bb1.ms\n",
      " \n",
      "-->data_b6c3_bb4.ms\n",
      " \n",
      "imod2d@../data/bx610/alma/2015.1.00250.S/bb4.mfs.ms\n",
      "write reference model image: \n",
      "    imod2d@../data/bx610/alma/2015.1.00250.S/bb4.mfs.ms to bx610_b6c3_uv_ab/model_1/imod2d_b6c3_bb4.fits\n",
      "imod3d@../data/bx610/alma/2015.1.00250.S/bb4.mfs.ms\n",
      "write reference model image: \n",
      "    imod3d@../data/bx610/alma/2015.1.00250.S/bb4.mfs.ms to bx610_b6c3_uv_ab/model_1/imod3d_b6c3_bb4.fits\n",
      "pbeam@../data/bx610/alma/2015.1.00250.S/bb4.mfs.ms\n",
      "write reference model image: \n",
      "    pbeam@../data/bx610/alma/2015.1.00250.S/bb4.mfs.ms to bx610_b6c3_uv_ab/model_1/pbeam_b6c3_bb4.fits\n",
      "copy ms container: \n",
      "    ../data/bx610/alma/2015.1.00250.S/bb4.mfs.ms  to  bx610_b6c3_uv_ab/model_1/model_b6c3_bb4.ms\n",
      "write ms column: \n",
      "    uvmodel@../data/bx610/alma/2015.1.00250.S/bb4.mfs.ms to data@bx610_b6c3_uv_ab/model_1/model_b6c3_bb4.ms\n",
      "create symlink:\n",
      "    /Users/Rui/Dropbox/Worklib/projects/GMaKE/examples/data/bx610/alma/2015.1.00250.S/bb4.mfs.ms  to  bx610_b6c3_uv_ab/model_1/data_b6c3_bb4.ms\n",
      "--------------------------------------------------------------------------------\n",
      "--- took 4.63073  seconds ---\n",
      "--- save to: bx610_b6c3_uv_ab/model_1/models.h5\n",
      "model_1: \n",
      "{'chisq': 66853410.458042026,\n",
      " 'lnprob': 10223124.949242717,\n",
      " 'ndata': 26249868.0,\n",
      " 'npar': 3}\n"
     ]
    },
    {
     "data": {
      "text/plain": [
       "<Figure size 432x288 with 0 Axes>"
      ]
     },
     "metadata": {},
     "output_type": "display_data"
    }
   ],
   "source": [
    "#from hickle import SerializedWarning\n",
    "gmake.fit_analyze(inpfile,export=True)\n",
    "#print(fit_dct['p_scale'])"
   ]
  }
 ],
 "metadata": {
  "kernelspec": {
   "display_name": "Python 3",
   "language": "python",
   "name": "python3"
  },
  "language_info": {
   "codemirror_mode": {
    "name": "ipython",
    "version": 3
   },
   "file_extension": ".py",
   "mimetype": "text/x-python",
   "name": "python",
   "nbconvert_exporter": "python",
   "pygments_lexer": "ipython3",
   "version": "3.7.5"
  }
 },
 "nbformat": 4,
 "nbformat_minor": 4
}
