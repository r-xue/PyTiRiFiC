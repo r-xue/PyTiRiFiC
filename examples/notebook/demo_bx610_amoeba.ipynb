{
 "cells": [
  {
   "cell_type": "markdown",
   "metadata": {
    "button": false,
    "deletable": true,
    "new_sheet": false,
    "run_control": {
     "read_only": false
    }
   },
   "source": [
    "[![Open In Colab](https://colab.research.google.com/assets/colab-badge.svg)](https://colab.research.google.com/github/r-xue/casa_proc/blob/master/demo/test_casaproc.ipynb)\n",
    "\n",
    "## Example BX610: perform model fitting using method='amoeba'"
   ]
  },
  {
   "cell_type": "code",
   "execution_count": 24,
   "metadata": {
    "button": false,
    "collapsed": false,
    "deletable": true,
    "jupyter": {
     "outputs_hidden": false
    },
    "new_sheet": false,
    "run_control": {
     "read_only": false
    }
   },
   "outputs": [
    {
     "name": "stdout",
     "output_type": "stream",
     "text": [
      "3.7.5 (default, Oct 19 2019, 11:15:26) \n",
      "[Clang 11.0.0 (clang-1100.0.33.8)]\n",
      "hyperion\n",
      "/Users/Rui/Dropbox/Worklib/projects/GMaKE/examples/output\n",
      "0.2.dev1\n",
      "rx.astro@gmail.com\n",
      "/Users/Rui/Dropbox/Worklib/projects/GMaKE/gmake\n",
      ">>>>>>>>>>>>>>>>>>>>>>>>>>>>>>>>>>>>>>>>\n",
      "**********exe read_inp()**************\n",
      "<Logger gmake (DEBUG)>\n",
      "[<FileHandler /Users/Rui/Dropbox/Worklib/projects/GMaKE/examples/output/bx610_b6c3_uv_ab/gmake.log (DEBUG)>, <StreamHandler stderr (DEBUG)>]\n"
     ]
    }
   ],
   "source": [
    "import sys\n",
    "import glob\n",
    "import os\n",
    "import io\n",
    "import logging\n",
    "from pprint import pprint\n",
    "\n",
    "print(sys.version)\n",
    "\n",
    "import socket \n",
    "if  'hypersion' or 'mini' in socket.gethostname() :\n",
    "    os.chdir('/Users/Rui/Dropbox/Worklib/projects/GMaKE/examples/output/')\n",
    "print(socket.gethostname())\n",
    "print(os.getcwd())\n",
    "\n",
    "import gmake\n",
    "print(gmake.__version__)\n",
    "print(gmake.__email__)\n",
    "print(gmake.__demo__)\n",
    "\n",
    "inpfile=gmake.__demo__+'/../examples/inpfile/bx610_b6c3_uv_ab.inp'\n",
    "logfile=''\n",
    "\n",
    "print('>'*40)\n",
    "#gmake.logger_config()\n",
    "#gmake.logger_status()\n",
    "#import pprint\n",
    "#pprint.pprint(logging.Logger.manager.loggerDict) \n",
    "gmake.logger_config()\n",
    "inp_dct=gmake.read_inp(inpfile)\n",
    "inp_dct=gmake.inp_validate(inp_dct)\n",
    "outdir=inp_dct['general']['outdir']\n",
    "gmake.logger_config(logfile=outdir+'/gmake.log',loglevel='DEBUG',logfilelevel='DEBUG')\n",
    "gmake.logger_status()\n"
   ]
  },
  {
   "cell_type": "code",
   "execution_count": 2,
   "metadata": {
    "button": false,
    "collapsed": false,
    "deletable": true,
    "jupyter": {
     "outputs_hidden": false
    },
    "new_sheet": false,
    "run_control": {
     "read_only": false
    }
   },
   "outputs": [
    {
     "name": "stderr",
     "output_type": "stream",
     "text": [
      "read data (may take some time..)\n",
      "\n",
      "Read: ../data/bx610/alma/2015.1.00250.S/bb2.ms\n",
      "\n",
      "data@../data/bx610/alma/2015.1.00250.S/bb2.ms                (56354, 238)         102 MiB             \n",
      "uvw@../data/bx610/alma/2015.1.00250.S/bb2.ms                 (56354, 3)           661 KiB             \n",
      "weight@../data/bx610/alma/2015.1.00250.S/bb2.ms              (56354,)             220 KiB             161.43835\n",
      "chanfreq@../data/bx610/alma/2015.1.00250.S/bb2.ms            (238,)     250752859438.0543 Hz 252604264234.0391 Hz\n",
      "chanwidth@../data/bx610/alma/2015.1.00250.S/bb2.ms           (238,)     7811834.5822 Hz 7811834.5822 Hz\n",
      "phasecenter@../data/bx610/alma/2015.1.00250.S/bb2.ms         23h46m09.44s  12d49m19.3s\n",
      "data flagging fraction: 0.0\n",
      "\n",
      "Read: ../data/bx610/alma/2015.1.00250.S/bb3.ms\n",
      "\n",
      "data@../data/bx610/alma/2015.1.00250.S/bb3.ms                (53466, 238)          97 MiB             \n",
      "uvw@../data/bx610/alma/2015.1.00250.S/bb3.ms                 (53466, 3)           627 KiB             \n",
      "weight@../data/bx610/alma/2015.1.00250.S/bb3.ms              (53466,)             209 KiB             187.34055\n",
      "chanfreq@../data/bx610/alma/2015.1.00250.S/bb3.ms            (238,)     233254349973.6942 Hz 235105754769.6790 Hz\n",
      "chanwidth@../data/bx610/alma/2015.1.00250.S/bb3.ms           (238,)     -7811834.5822 Hz -7811834.5822 Hz\n",
      "phasecenter@../data/bx610/alma/2015.1.00250.S/bb3.ms         23h46m09.44s  12d49m19.3s\n",
      "data flagging fraction: 0.0\n",
      "\n",
      "Read: ../data/bx610/alma/2015.1.00250.S/bb1.mfs.ms\n",
      "\n",
      "data@../data/bx610/alma/2015.1.00250.S/bb1.mfs.ms            (56354, 1)           440 KiB             \n",
      "uvw@../data/bx610/alma/2015.1.00250.S/bb1.mfs.ms             (56354, 3)           661 KiB             \n",
      "weight@../data/bx610/alma/2015.1.00250.S/bb1.mfs.ms          (56354,)             220 KiB             35061.727\n",
      "chanfreq@../data/bx610/alma/2015.1.00250.S/bb1.mfs.ms        (1,)       250073373567.0543 Hz 250073373567.0543 Hz\n",
      "chanwidth@../data/bx610/alma/2015.1.00250.S/bb1.mfs.ms       (1,)       1859216630.5597 Hz 1859216630.5597 Hz\n",
      "phasecenter@../data/bx610/alma/2015.1.00250.S/bb1.mfs.ms     23h46m09.44s  12d49m19.3s\n",
      "data flagging fraction: 0.0\n",
      "\n",
      "Read: ../data/bx610/alma/2015.1.00250.S/bb4.mfs.ms\n",
      "\n",
      "data@../data/bx610/alma/2015.1.00250.S/bb4.mfs.ms            (56354, 1)           440 KiB             \n",
      "uvw@../data/bx610/alma/2015.1.00250.S/bb4.mfs.ms             (56354, 3)           661 KiB             \n",
      "weight@../data/bx610/alma/2015.1.00250.S/bb4.mfs.ms          (56354,)             220 KiB             48239.17\n",
      "chanfreq@../data/bx610/alma/2015.1.00250.S/bb4.mfs.ms        (1,)       235879907576.7765 Hz 235879907576.7765 Hz\n",
      "chanwidth@../data/bx610/alma/2015.1.00250.S/bb4.mfs.ms       (1,)       -1859216630.5670 Hz -1859216630.5670 Hz\n",
      "phasecenter@../data/bx610/alma/2015.1.00250.S/bb4.mfs.ms     23h46m09.44s  12d49m19.3s\n",
      "data flagging fraction: 0.0\n",
      "--------------------------------------------------------------------------------\n",
      "--- dat_dct size 203.68 Mibyte ---\n",
      "--- took 1.54312  seconds ---\n"
     ]
    }
   ],
   "source": [
    "dat_dct=gmake.read_data(inp_dct,fill_mask=True,fill_error=True)"
   ]
  },
  {
   "cell_type": "code",
   "execution_count": 3,
   "metadata": {
    "button": false,
    "collapsed": false,
    "deletable": true,
    "jupyter": {
     "outputs_hidden": false
    },
    "new_sheet": false,
    "run_control": {
     "read_only": false
    }
   },
   "outputs": [],
   "source": [
    "#\n",
    "#mod_dct=gmake.inp2mod(inp_dct)\n",
    "#gmake.pprint(mod_dct)\n",
    "#gmake.model_vrot(mod_dct)\n",
    "#gmake.pprint(mod_dct)\n",
    "#gmake.model_vrot_plot(mod_dct['co76'])"
   ]
  },
  {
   "cell_type": "code",
   "execution_count": 66,
   "metadata": {
    "button": false,
    "collapsed": false,
    "deletable": true,
    "jupyter": {
     "outputs_hidden": false
    },
    "new_sheet": false,
    "run_control": {
     "read_only": false
    }
   },
   "outputs": [
    {
     "name": "stderr",
     "output_type": "stream",
     "text": [
      "++++++++++++++++++++++++++++++++++++++++++++++++++++++++++++++++++++++++++++++++++++++++++++++++++++\n",
      "optimizer: amoeba\n",
      "optimizing parameters:\n",
      "----------------------------------------------------------------------------------------------------\n",
      "index    name    unit    start    lo_limit    up_limit    scale\n",
      " 0   disk_sd@diskdyn   solMass / pc2        5000.00     (    100.00    ,    50000.00    )   45000.00    \n",
      " 1   xypos.ra@basics   deg                356.5393258   (  356.5387703 ,   356.5398814  )   0.0005556   \n",
      " 2   xypos.dec@basics  deg                12.8220182    (  12.8214626  ,   12.8225738   )   0.0005556   \n",
      "++++++++++++++++++++++++++++++++++++++++++++++++++++++++++++++++++++++++++++++++++++++++++++++++++++\n",
      "ndim:    3\n",
      "outdir:  bx610_b6c3_uv_ab\n"
     ]
    },
    {
     "name": "stdout",
     "output_type": "stream",
     "text": [
      "**********exe read_inp()**************\n",
      "/Users/Rui/Library/Python/3.7/lib/python/site-packages/galpy/potential/RazorThinExponentialDiskPotential.py:128: RuntimeWarning: invalid value encountered in multiply\n",
      "  return -2.*nu.pi*y*(special.i0(y)*special.k0(y)-special.i1(y)*special.k1(y))\n",
      "\n"
     ]
    },
    {
     "name": "stderr",
     "output_type": "stream",
     "text": [
      "one trial                                          : 0.88414  seconds\n",
      "ndata->26249868.0\n",
      "chisq->66853646.75246938\n",
      "--- save to: bx610_b6c3_uv_ab/fit.h5\n",
      " \n",
      "Running AMOEBA...\n",
      ">>bx610_b6c3_uv_ab/amoeba_chain.h5\n",
      " \n"
     ]
    },
    {
     "name": "stdout",
     "output_type": "stream",
     "text": [
      "/Users/Rui/Library/Python/3.7/lib/python/site-packages/hickle/hickle.py:403: SerializedWarning: <class 'astropy.units.core.CompositeUnit'> type not understood, data have been serialized\n",
      "  SerializedWarning)\n",
      "\n",
      "/Users/Rui/Library/Python/3.7/lib/python/site-packages/hickle/hickle.py:403: SerializedWarning: <class 'astropy.units.core.Unit'> type not understood, data have been serialized\n",
      "  SerializedWarning)\n",
      "\n",
      "[5000.          356.53932583   12.82201819]\n",
      "[5.00000000e+04 3.56539326e+02 1.28220182e+01]\n",
      "[5000.          356.53988139   12.82201819]\n",
      "[5000.          356.53932583   12.82257375]\n"
     ]
    },
    {
     "name": "stderr",
     "output_type": "stream",
     "text": [
      "     0   66853649   66870628\n"
     ]
    },
    {
     "name": "stdout",
     "output_type": "stream",
     "text": [
      "[3.50000000e+04 3.56538770e+02 1.28223886e+01]\n"
     ]
    },
    {
     "name": "stderr",
     "output_type": "stream",
     "text": [
      "     1   66853649   66869743\n"
     ]
    },
    {
     "name": "stdout",
     "output_type": "stream",
     "text": [
      "[5.00000000e+04 3.56538955e+02 1.28217096e+01]\n",
      "[1.75000000e+04 3.56539233e+02 1.28223577e+01]\n",
      "[2.75000000e+04 3.56539326e+02 1.28220182e+01]\n",
      "[2.00000000e+04 3.56539048e+02 1.28222034e+01]\n",
      "[5000.          356.53932583   12.82229597]\n"
     ]
    },
    {
     "name": "stderr",
     "output_type": "stream",
     "text": [
      "     6   66853649   66882991\n"
     ]
    },
    {
     "name": "stdout",
     "output_type": "stream",
     "text": [
      "[3.00000000e+04 3.56539141e+02 1.28218639e+01]\n"
     ]
    },
    {
     "name": "stderr",
     "output_type": "stream",
     "text": [
      "     7   66853649   66882148\n"
     ]
    },
    {
     "name": "stdout",
     "output_type": "stream",
     "text": [
      "[2.16666667e+04 3.56539480e+02 1.28217301e+01]\n"
     ]
    },
    {
     "name": "stderr",
     "output_type": "stream",
     "text": [
      "     8   66853649   66882105\n"
     ]
    },
    {
     "name": "stdout",
     "output_type": "stream",
     "text": [
      "[6111.11111111  356.5396139    12.82198047]\n",
      "[2.40277778e+04 3.56539259e+02 1.28218930e+01]\n"
     ]
    },
    {
     "name": "stderr",
     "output_type": "stream",
     "text": [
      "    10   66853649   66881657\n"
     ]
    },
    {
     "name": "stdout",
     "output_type": "stream",
     "text": [
      "[1.60185185e+04 3.56539127e+02 1.28222228e+01]\n",
      "[1.74305556e+04 3.56539215e+02 1.28220996e+01]\n"
     ]
    },
    {
     "name": "stderr",
     "output_type": "stream",
     "text": [
      "    12   66853649   66879173\n"
     ]
    },
    {
     "name": "stdout",
     "output_type": "stream",
     "text": [
      "[2.02546296e+04 3.56539392e+02 1.28218533e+01]\n",
      "[1.81365741e+04 3.56539259e+02 1.28220381e+01]\n"
     ]
    },
    {
     "name": "stderr",
     "output_type": "stream",
     "text": [
      "    14   66853649   66879076\n"
     ]
    },
    {
     "name": "stdout",
     "output_type": "stream",
     "text": [
      "[9729.9382716   356.53934841   12.82215661]\n",
      "[2.04533179e+04 3.56539281e+02 1.28219589e+01]\n"
     ]
    },
    {
     "name": "stderr",
     "output_type": "stream",
     "text": [
      "    16   66853649   66870171\n"
     ]
    },
    {
     "name": "stdout",
     "output_type": "stream",
     "text": [
      "[1.33043981e+04 3.56539326e+02 1.28220907e+01]\n",
      "[1.86660880e+04 3.56539293e+02 1.28219919e+01]\n"
     ]
    },
    {
     "name": "stderr",
     "output_type": "stream",
     "text": [
      "    18   66853649   66870062\n"
     ]
    },
    {
     "name": "stdout",
     "output_type": "stream",
     "text": [
      "[1.59741512e+04 3.56539370e+02 1.28219808e+01]\n",
      "[1.65147569e+04 3.56539342e+02 1.28219951e+01]\n"
     ]
    },
    {
     "name": "stderr",
     "output_type": "stream",
     "text": [
      "    20   66853649   66862095\n"
     ]
    },
    {
     "name": "stdout",
     "output_type": "stream",
     "text": [
      "[1.40104167e+04 3.56539370e+02 1.28220291e+01]\n",
      "[1.75021701e+04 3.56539312e+02 1.28220012e+01]\n"
     ]
    },
    {
     "name": "stderr",
     "output_type": "stream",
     "text": [
      "    22   66853649   66859039\n"
     ]
    },
    {
     "name": "stdout",
     "output_type": "stream",
     "text": [
      "[1.68200231e+04 3.56539300e+02 1.28220299e+01]\n",
      "[1.67437066e+04 3.56539311e+02 1.28220212e+01]\n"
     ]
    },
    {
     "name": "stderr",
     "output_type": "stream",
     "text": [
      "    24   66853649   66857247\n"
     ]
    },
    {
     "name": "stdout",
     "output_type": "stream",
     "text": [
      "[1.53269676e+04 3.56539330e+02 1.28220372e+01]\n",
      "[1.58707682e+04 3.56539325e+02 1.28220282e+01]\n"
     ]
    },
    {
     "name": "stderr",
     "output_type": "stream",
     "text": [
      "    26   66853649   66856159\n"
     ]
    },
    {
     "name": "stdout",
     "output_type": "stream",
     "text": [
      "[1.55034722e+04 3.56539341e+02 1.28220218e+01]\n",
      "[1.58135308e+04 3.56539333e+02 1.28220217e+01]\n"
     ]
    },
    {
     "name": "stderr",
     "output_type": "stream",
     "text": [
      "    28   66853649   66855408\n"
     ]
    },
    {
     "name": "stdout",
     "output_type": "stream",
     "text": [
      "[100.         356.53933025  12.82202721]\n"
     ]
    },
    {
     "name": "stderr",
     "output_type": "stream",
     "text": [
      "    29   66853649   66855344\n"
     ]
    },
    {
     "name": "stdout",
     "output_type": "stream",
     "text": [
      "[100.         356.5393343   12.82201651]\n"
     ]
    },
    {
     "name": "stderr",
     "output_type": "stream",
     "text": [
      "    30   66853649   66855174\n"
     ]
    },
    {
     "name": "stdout",
     "output_type": "stream",
     "text": [
      "[100.         356.53932713  12.82201958]\n"
     ]
    },
    {
     "name": "stderr",
     "output_type": "stream",
     "text": [
      "    31   66853649   66854914\n"
     ]
    },
    {
     "name": "stdout",
     "output_type": "stream",
     "text": [
      "[3366.66666667  356.53932793   12.82200898]\n"
     ]
    },
    {
     "name": "stderr",
     "output_type": "stream",
     "text": [
      "    32   66853649   66854882\n"
     ]
    },
    {
     "name": "stdout",
     "output_type": "stream",
     "text": [
      "[5544.44444444  356.53931963   12.82201467]\n"
     ]
    },
    {
     "name": "stderr",
     "output_type": "stream",
     "text": [
      "    33   66853649   66854454\n"
     ]
    },
    {
     "name": "stdout",
     "output_type": "stream",
     "text": [
      "[9174.07407407  356.5393218    12.82200831]\n",
      "[2368.51851852  356.5393258    12.82201677]\n"
     ]
    },
    {
     "name": "stderr",
     "output_type": "stream",
     "text": [
      "    35   66853428   66854000\n"
     ]
    },
    {
     "name": "stdout",
     "output_type": "stream",
     "text": [
      "[1612.34567901  356.53933341   12.82201463]\n"
     ]
    },
    {
     "name": "stderr",
     "output_type": "stream",
     "text": [
      "    36   66853428   66853995\n"
     ]
    },
    {
     "name": "stdout",
     "output_type": "stream",
     "text": [
      "[2620.57613169  356.53932876   12.82202408]\n"
     ]
    },
    {
     "name": "stderr",
     "output_type": "stream",
     "text": [
      "    37   66853428   66853918\n"
     ]
    },
    {
     "name": "stdout",
     "output_type": "stream",
     "text": [
      "[5047.05075446  356.53932019   12.82202473]\n",
      "[2471.02194787  356.5393301    12.82201715]\n"
     ]
    },
    {
     "name": "stderr",
     "output_type": "stream",
     "text": [
      "    39   66853428   66853649\n"
     ]
    },
    {
     "name": "stdout",
     "output_type": "stream",
     "text": [
      "[100.         356.53933061  12.82202047]\n",
      "[3743.35276635  356.53932703   12.82201876]\n"
     ]
    },
    {
     "name": "stderr",
     "output_type": "stream",
     "text": [
      "    41   66853428   66853607\n"
     ]
    },
    {
     "name": "stdout",
     "output_type": "stream",
     "text": [
      "[3101.35269014  356.53932652   12.82201104]\n",
      "[2740.7702713   356.5393282    12.82202082]\n"
     ]
    },
    {
     "name": "stderr",
     "output_type": "stream",
     "text": [
      "    43   66853428   66853531\n"
     ]
    },
    {
     "name": "stdout",
     "output_type": "stream",
     "text": [
      "[3430.73908957  356.53932392   12.82202041]\n"
     ]
    },
    {
     "name": "stderr",
     "output_type": "stream",
     "text": [
      "    44   66853428   66853497\n"
     ]
    },
    {
     "name": "stdout",
     "output_type": "stream",
     "text": [
      "[1949.99915325  356.53932492   12.8220199 ]\n",
      "[3295.01436307  356.5393265    12.82201905]\n"
     ]
    },
    {
     "name": "stderr",
     "output_type": "stream",
     "text": [
      "    46   66853428   66853482\n"
     ]
    },
    {
     "name": "stdout",
     "output_type": "stream",
     "text": [
      "[2172.12967902  356.53932975   12.82201734]\n",
      "[3116.08673693  356.53932538   12.82201964]\n"
     ]
    },
    {
     "name": "stderr",
     "output_type": "stream",
     "text": [
      "    48   66853428   66853461\n"
     ]
    },
    {
     "name": "stdout",
     "output_type": "stream",
     "text": [
      "[3112.30947438  356.53932358   12.82201615]\n",
      "[2833.65507207  356.53932705   12.82201965]\n"
     ]
    },
    {
     "name": "stderr",
     "output_type": "stream",
     "text": [
      "    50   66853428   66853449\n"
     ]
    },
    {
     "name": "stdout",
     "output_type": "stream",
     "text": [
      "[2250.49252194  356.53932565   12.82201833]\n",
      "[1728.23160138  356.53932522   12.82201797]\n"
     ]
    },
    {
     "name": "stderr",
     "output_type": "stream",
     "text": [
      "    52   66853404   66853439\n"
     ]
    },
    {
     "name": "stdout",
     "output_type": "stream",
     "text": [
      "[1852.35733809  356.53932695   12.82201685]\n",
      "[2800.15438722  356.53932577   12.82201895]\n"
     ]
    },
    {
     "name": "stderr",
     "output_type": "stream",
     "text": [
      "    54   66853404   66853433\n"
     ]
    },
    {
     "name": "stdout",
     "output_type": "stream",
     "text": [
      "[2112.45521305  356.53932443   12.82201637]\n",
      "[2653.35510732  356.53932639   12.82201883]\n"
     ]
    },
    {
     "name": "stderr",
     "output_type": "stream",
     "text": [
      "    56   66853404   66853428\n"
     ]
    },
    {
     "name": "stdout",
     "output_type": "stream",
     "text": [
      "[2767.4828258   356.53932608   12.82202064]\n",
      "[2468.25959534  356.53932587   12.82201773]\n"
     ]
    },
    {
     "name": "stderr",
     "output_type": "stream",
     "text": [
      "    58   66853404   66853426\n"
     ]
    },
    {
     "name": "stdout",
     "output_type": "stream",
     "text": [
      "[2114.58376251  356.53932617   12.82201765]\n",
      "[2285.97641869  356.53932607   12.82201797]\n"
     ]
    },
    {
     "name": "stderr",
     "output_type": "stream",
     "text": [
      "    60   66853404   66853413\n"
     ]
    },
    {
     "name": "stdout",
     "output_type": "stream",
     "text": [
      "[2628.76173104  356.53932587   12.82201862]\n",
      "[2800.15438722  356.53932577   12.82201895]\n"
     ]
    },
    {
     "name": "stderr",
     "output_type": "stream",
     "text": [
      "    62   66853400   66853412\n"
     ]
    },
    {
     "name": "stdout",
     "output_type": "stream",
     "text": [
      "[2553.4799782   356.53932607   12.82201945]\n",
      "[2532.17488248  356.53932602   12.82201902]\n"
     ]
    },
    {
     "name": "stderr",
     "output_type": "stream",
     "text": [
      "    64   66853400   66853411\n"
     ]
    },
    {
     "name": "stdout",
     "output_type": "stream",
     "text": [
      "[2489.56469105  356.53932592   12.82201816]\n",
      "[2521.52233463  356.539326     12.82201881]\n"
     ]
    },
    {
     "name": "stderr",
     "output_type": "stream",
     "text": [
      "    66   66853400   66853407\n"
     ]
    },
    {
     "name": "stdout",
     "output_type": "stream",
     "text": [
      "[2280.49595109  356.53932528   12.82201834]\n",
      "[2560.14031826  356.53932612   12.82201871]\n"
     ]
    },
    {
     "name": "stderr",
     "output_type": "stream",
     "text": [
      "    68   66853400   66853404\n"
     ]
    },
    {
     "name": "stdout",
     "output_type": "stream",
     "text": [
      "[2889.79040068  356.53932634   12.8220191 ]\n",
      "[2410.31699163  356.53932582   12.82201852]\n"
     ]
    },
    {
     "name": "stderr",
     "output_type": "stream",
     "text": [
      "    70   66853398   66853402\n"
     ]
    },
    {
     "name": "stdout",
     "output_type": "stream",
     "text": [
      "[2544.62369266  356.53932588   12.82201843]\n",
      "[2527.29767413  356.53932597   12.82201871]\n",
      "[2485.22865494  356.53932597   12.82201862]\n",
      "[2465.91966313  356.53932591   12.82201867]\n",
      "[2519.53936134  356.53932585   12.82201857]\n"
     ]
    },
    {
     "name": "stderr",
     "output_type": "stream",
     "text": [
      "    75   66853398   66853403\n"
     ]
    },
    {
     "name": "stdout",
     "output_type": "stream",
     "text": [
      "[2445.28868912  356.53932575   12.82201856]\n",
      "[2475.24366349  356.53932591   12.8220186 ]\n",
      "[2447.77282329  356.53932589   12.82201857]\n",
      "[2438.11832738  356.53932586   12.82201859]\n",
      "[2464.92817648  356.53932583   12.82201855]\n"
     ]
    },
    {
     "name": "stderr",
     "output_type": "stream",
     "text": [
      "    80   66853398   66853409\n"
     ]
    },
    {
     "name": "stdout",
     "output_type": "stream",
     "text": [
      "[2427.80284037  356.53932578   12.82201854]\n",
      "[2442.78032756  356.53932587   12.82201856]\n"
     ]
    },
    {
     "name": "stderr",
     "output_type": "stream",
     "text": [
      "    82   66853398   66853409\n"
     ]
    },
    {
     "name": "stdout",
     "output_type": "stream",
     "text": [
      "[2440.5653364   356.53932582   12.82201849]\n",
      "[2438.73007963  356.53932585   12.82201857]\n",
      "[2426.54865959  356.53932584   12.82201854]\n",
      "[2424.2176595   356.53932584   12.82201856]\n",
      "[2437.62258405  356.53932583   12.82201853]\n"
     ]
    },
    {
     "name": "stderr",
     "output_type": "stream",
     "text": [
      "    87   66853398   66853409\n"
     ]
    },
    {
     "name": "stdout",
     "output_type": "stream",
     "text": [
      "[2403.09962309  356.53932584   12.82201855]\n"
     ]
    },
    {
     "name": "stderr",
     "output_type": "stream",
     "text": [
      "    88   66853398   66853404\n"
     ]
    },
    {
     "name": "stdout",
     "output_type": "stream",
     "text": [
      "[2398.54085656  356.53932583   12.82201854]\n",
      "[2419.54670883  356.53932584   12.82201854]\n",
      "[2418.43282561  356.53932583   12.82201853]\n",
      "[2417.26732556  356.53932583   12.82201854]\n",
      "[2406.70830736  356.53932583   12.82201853]\n"
     ]
    },
    {
     "name": "stderr",
     "output_type": "stream",
     "text": [
      "    93   66853398   66853408\n"
     ]
    },
    {
     "name": "stdout",
     "output_type": "stream",
     "text": [
      "[2404.42892409  356.53932582   12.82201853]\n",
      "[2407.92989947  356.53932583   12.82201853]\n",
      "[2407.37295786  356.53932582   12.82201853]\n",
      "[2413.7921586   356.53932583   12.82201853]\n",
      "[2408.51264949  356.53932583   12.82201853]\n"
     ]
    },
    {
     "name": "stderr",
     "output_type": "stream",
     "text": [
      "    98   66853398   66853413\n"
     ]
    },
    {
     "name": "stdout",
     "output_type": "stream",
     "text": [
      "[2414.37490862  356.53932583   12.82201853]\n"
     ]
    },
    {
     "name": "stderr",
     "output_type": "stream",
     "text": [
      "    99   66853398   66853410\n"
     ]
    },
    {
     "name": "stdout",
     "output_type": "stream",
     "text": [
      "[2417.14338973  356.53932582   12.82201852]\n"
     ]
    },
    {
     "name": "stderr",
     "output_type": "stream",
     "text": [
      "   100   66853398   66853409\n",
      "--- save to: bx610_b6c3_uv_ab/amoeba_chain.h5\n"
     ]
    }
   ],
   "source": [
    "inp_dct=gmake.read_inp(inpfile)\n",
    "inp_dct=gmake.inp_validate(inp_dct)\n",
    "mod_dct=gmake.inp2mod(inp_dct)\n",
    "gmake.model_vrot(mod_dct)\n",
    "#mod_dct['co76']\n",
    "fit_dct=gmake.fit_setup(inp_dct,dat_dct)\n",
    "gmake.fit_iterate(fit_dct,inp_dct,dat_dct)"
   ]
  },
  {
   "cell_type": "code",
   "execution_count": 68,
   "metadata": {
    "button": false,
    "collapsed": false,
    "deletable": true,
    "jupyter": {
     "outputs_hidden": false
    },
    "new_sheet": false,
    "run_control": {
     "read_only": false
    }
   },
   "outputs": [
    {
     "name": "stderr",
     "output_type": "stream",
     "text": [
      "--- save to: bx610_b6c3_uv_ab/fit.h5\n",
      "Check optimized parameters:\n",
      " 0   disk_sd@diskdyn   =    2410.32     <-    5000.00     (    100.00    ,    50000.00    )\n",
      " 1   xypos.ra@basics   =  356.5393258   <-  356.5393258   (  356.5387703 ,   356.5398814  )\n",
      " 2   xypos.dec@basics  =  12.8220185    <-  12.8220182    (  12.8214626  ,   12.8225738   )\n"
     ]
    },
    {
     "name": "stdout",
     "output_type": "stream",
     "text": [
      "**********exe read_inp()**************\n",
      "/Users/Rui/Library/Python/3.7/lib/python/site-packages/hickle/hickle.py:403: SerializedWarning: <class 'astropy.units.core.CompositeUnit'> type not understood, data have been serialized\n",
      "  SerializedWarning)\n",
      "\n",
      "/Users/Rui/Library/Python/3.7/lib/python/site-packages/hickle/hickle.py:403: SerializedWarning: <class 'astropy.units.core.Unit'> type not understood, data have been serialized\n",
      "  SerializedWarning)\n",
      "\n"
     ]
    },
    {
     "name": "stderr",
     "output_type": "stream",
     "text": [
      "analyzing outfolder:bx610_b6c3_uv_ab\n",
      "plotting...bx610_b6c3_uv_ab/iteration.pdf\n"
     ]
    },
    {
     "name": "stdout",
     "output_type": "stream",
     "text": [
      "/Users/Rui/Library/Python/3.7/lib/python/site-packages/galpy/potential/RazorThinExponentialDiskPotential.py:128: RuntimeWarning: invalid value encountered in multiply\n",
      "  return -2.*nu.pi*y*(special.i0(y)*special.k0(y)-special.i1(y)*special.k1(y))\n",
      "\n"
     ]
    },
    {
     "name": "stderr",
     "output_type": "stream",
     "text": [
      "export the model set:              bx610_b6c3_uv_ab/model_0              (may take some time..)\n",
      " \n",
      "-->data_b6c3_bb2.ms\n",
      " \n",
      "imod2d@../data/bx610/alma/2015.1.00250.S/bb2.ms\n",
      "write reference model image: \n",
      "    imod2d@../data/bx610/alma/2015.1.00250.S/bb2.ms to bx610_b6c3_uv_ab/model_0/imod2d_b6c3_bb2.fits\n",
      "imod3d@../data/bx610/alma/2015.1.00250.S/bb2.ms\n",
      "write reference model image: \n",
      "    imod3d@../data/bx610/alma/2015.1.00250.S/bb2.ms to bx610_b6c3_uv_ab/model_0/imod3d_b6c3_bb2.fits\n",
      "pbeam@../data/bx610/alma/2015.1.00250.S/bb2.ms\n",
      "write reference model image: \n",
      "    pbeam@../data/bx610/alma/2015.1.00250.S/bb2.ms to bx610_b6c3_uv_ab/model_0/pbeam_b6c3_bb2.fits\n",
      "write reference model profile: \n",
      "    imod3d_prof@co76@../data/bx610/alma/2015.1.00250.S/bb2.ms to bx610_b6c3_uv_ab/model_0/imodrp_co76_b6c3_bb2.fits\n"
     ]
    },
    {
     "name": "stdout",
     "output_type": "stream",
     "text": [
      "bx610_b6c3_uv_ab/model_0\n",
      "['cube.', 'mfs.', 'cube3.']\n",
      "[('../data/bx610/alma/2015.1.00250.S/', 'b6c3_')]\n"
     ]
    },
    {
     "name": "stderr",
     "output_type": "stream",
     "text": [
      "write reference model profile: \n",
      "    imod3d_prof@ci21@../data/bx610/alma/2015.1.00250.S/bb2.ms to bx610_b6c3_uv_ab/model_0/imodrp_ci21_b6c3_bb2.fits\n",
      "copy ms container: \n",
      "    ../data/bx610/alma/2015.1.00250.S/bb2.ms  to  bx610_b6c3_uv_ab/model_0/model_b6c3_bb2.ms\n",
      "write ms column: \n",
      "    uvmodel@../data/bx610/alma/2015.1.00250.S/bb2.ms to data@bx610_b6c3_uv_ab/model_0/model_b6c3_bb2.ms\n",
      "create symlink:\n",
      "    /Users/Rui/Dropbox/Worklib/projects/GMaKE/examples/data/bx610/alma/2015.1.00250.S/bb2.ms  to  bx610_b6c3_uv_ab/model_0/data_b6c3_bb2.ms\n",
      " \n",
      "-->data_b6c3_bb3.ms\n",
      " \n",
      "imod2d@../data/bx610/alma/2015.1.00250.S/bb3.ms\n",
      "write reference model image: \n",
      "    imod2d@../data/bx610/alma/2015.1.00250.S/bb3.ms to bx610_b6c3_uv_ab/model_0/imod2d_b6c3_bb3.fits\n",
      "imod3d@../data/bx610/alma/2015.1.00250.S/bb3.ms\n",
      "write reference model image: \n",
      "    imod3d@../data/bx610/alma/2015.1.00250.S/bb3.ms to bx610_b6c3_uv_ab/model_0/imod3d_b6c3_bb3.fits\n",
      "pbeam@../data/bx610/alma/2015.1.00250.S/bb3.ms\n",
      "write reference model image: \n",
      "    pbeam@../data/bx610/alma/2015.1.00250.S/bb3.ms to bx610_b6c3_uv_ab/model_0/pbeam_b6c3_bb3.fits\n",
      "write reference model profile: \n",
      "    imod3d_prof@h2o@../data/bx610/alma/2015.1.00250.S/bb3.ms to bx610_b6c3_uv_ab/model_0/imodrp_h2o_b6c3_bb3.fits\n",
      "copy ms container: \n",
      "    ../data/bx610/alma/2015.1.00250.S/bb3.ms  to  bx610_b6c3_uv_ab/model_0/model_b6c3_bb3.ms\n",
      "write ms column: \n",
      "    uvmodel@../data/bx610/alma/2015.1.00250.S/bb3.ms to data@bx610_b6c3_uv_ab/model_0/model_b6c3_bb3.ms\n",
      "create symlink:\n",
      "    /Users/Rui/Dropbox/Worklib/projects/GMaKE/examples/data/bx610/alma/2015.1.00250.S/bb3.ms  to  bx610_b6c3_uv_ab/model_0/data_b6c3_bb3.ms\n",
      " \n",
      "-->data_b6c3_bb1.ms\n",
      " \n",
      "imod2d@../data/bx610/alma/2015.1.00250.S/bb1.mfs.ms\n",
      "write reference model image: \n",
      "    imod2d@../data/bx610/alma/2015.1.00250.S/bb1.mfs.ms to bx610_b6c3_uv_ab/model_0/imod2d_b6c3_bb1.fits\n",
      "imod3d@../data/bx610/alma/2015.1.00250.S/bb1.mfs.ms\n",
      "write reference model image: \n",
      "    imod3d@../data/bx610/alma/2015.1.00250.S/bb1.mfs.ms to bx610_b6c3_uv_ab/model_0/imod3d_b6c3_bb1.fits\n",
      "pbeam@../data/bx610/alma/2015.1.00250.S/bb1.mfs.ms\n",
      "write reference model image: \n",
      "    pbeam@../data/bx610/alma/2015.1.00250.S/bb1.mfs.ms to bx610_b6c3_uv_ab/model_0/pbeam_b6c3_bb1.fits\n",
      "copy ms container: \n",
      "    ../data/bx610/alma/2015.1.00250.S/bb1.mfs.ms  to  bx610_b6c3_uv_ab/model_0/model_b6c3_bb1.ms\n",
      "write ms column: \n",
      "    uvmodel@../data/bx610/alma/2015.1.00250.S/bb1.mfs.ms to data@bx610_b6c3_uv_ab/model_0/model_b6c3_bb1.ms\n",
      "create symlink:\n",
      "    /Users/Rui/Dropbox/Worklib/projects/GMaKE/examples/data/bx610/alma/2015.1.00250.S/bb1.mfs.ms  to  bx610_b6c3_uv_ab/model_0/data_b6c3_bb1.ms\n",
      " \n",
      "-->data_b6c3_bb4.ms\n",
      " \n",
      "imod2d@../data/bx610/alma/2015.1.00250.S/bb4.mfs.ms\n",
      "write reference model image: \n",
      "    imod2d@../data/bx610/alma/2015.1.00250.S/bb4.mfs.ms to bx610_b6c3_uv_ab/model_0/imod2d_b6c3_bb4.fits\n",
      "imod3d@../data/bx610/alma/2015.1.00250.S/bb4.mfs.ms\n",
      "write reference model image: \n",
      "    imod3d@../data/bx610/alma/2015.1.00250.S/bb4.mfs.ms to bx610_b6c3_uv_ab/model_0/imod3d_b6c3_bb4.fits\n",
      "pbeam@../data/bx610/alma/2015.1.00250.S/bb4.mfs.ms\n",
      "write reference model image: \n",
      "    pbeam@../data/bx610/alma/2015.1.00250.S/bb4.mfs.ms to bx610_b6c3_uv_ab/model_0/pbeam_b6c3_bb4.fits\n",
      "copy ms container: \n",
      "    ../data/bx610/alma/2015.1.00250.S/bb4.mfs.ms  to  bx610_b6c3_uv_ab/model_0/model_b6c3_bb4.ms\n",
      "write ms column: \n",
      "    uvmodel@../data/bx610/alma/2015.1.00250.S/bb4.mfs.ms to data@bx610_b6c3_uv_ab/model_0/model_b6c3_bb4.ms\n",
      "create symlink:\n",
      "    /Users/Rui/Dropbox/Worklib/projects/GMaKE/examples/data/bx610/alma/2015.1.00250.S/bb4.mfs.ms  to  bx610_b6c3_uv_ab/model_0/data_b6c3_bb4.ms\n",
      "--------------------------------------------------------------------------------\n",
      "--- took 4.73755  seconds ---\n"
     ]
    },
    {
     "name": "stdout",
     "output_type": "stream",
     "text": [
      "/Users/Rui/Library/Python/3.7/lib/python/site-packages/hickle/hickle.py:403: SerializedWarning: <class 'astropy.io.fits.header.Header'> type not understood, data have been serialized\n",
      "  SerializedWarning)\n",
      "\n"
     ]
    },
    {
     "name": "stderr",
     "output_type": "stream",
     "text": [
      "--- save to: bx610_b6c3_uv_ab/model_0/models.h5\n",
      "model_0: \n",
      "{'chisq': 66853638.49608389,\n",
      " 'lnprob': 10223010.930221781,\n",
      " 'ndata': 26249868.0,\n",
      " 'npar': 3}\n",
      "export the model set:              bx610_b6c3_uv_ab/model_1              (may take some time..)\n",
      " \n",
      "-->data_b6c3_bb2.ms\n",
      " \n",
      "imod2d@../data/bx610/alma/2015.1.00250.S/bb2.ms\n",
      "write reference model image: \n",
      "    imod2d@../data/bx610/alma/2015.1.00250.S/bb2.ms to bx610_b6c3_uv_ab/model_1/imod2d_b6c3_bb2.fits\n",
      "imod3d@../data/bx610/alma/2015.1.00250.S/bb2.ms\n",
      "write reference model image: \n",
      "    imod3d@../data/bx610/alma/2015.1.00250.S/bb2.ms to bx610_b6c3_uv_ab/model_1/imod3d_b6c3_bb2.fits\n",
      "pbeam@../data/bx610/alma/2015.1.00250.S/bb2.ms\n",
      "write reference model image: \n",
      "    pbeam@../data/bx610/alma/2015.1.00250.S/bb2.ms to bx610_b6c3_uv_ab/model_1/pbeam_b6c3_bb2.fits\n",
      "write reference model profile: \n",
      "    imod3d_prof@co76@../data/bx610/alma/2015.1.00250.S/bb2.ms to bx610_b6c3_uv_ab/model_1/imodrp_co76_b6c3_bb2.fits\n",
      "write reference model profile: \n"
     ]
    },
    {
     "name": "stdout",
     "output_type": "stream",
     "text": [
      "bx610_b6c3_uv_ab/model_1\n",
      "['cube.', 'mfs.', 'cube3.']\n",
      "[('../data/bx610/alma/2015.1.00250.S/', 'b6c3_')]\n"
     ]
    },
    {
     "name": "stderr",
     "output_type": "stream",
     "text": [
      "    imod3d_prof@ci21@../data/bx610/alma/2015.1.00250.S/bb2.ms to bx610_b6c3_uv_ab/model_1/imodrp_ci21_b6c3_bb2.fits\n",
      "copy ms container: \n",
      "    ../data/bx610/alma/2015.1.00250.S/bb2.ms  to  bx610_b6c3_uv_ab/model_1/model_b6c3_bb2.ms\n",
      "write ms column: \n",
      "    uvmodel@../data/bx610/alma/2015.1.00250.S/bb2.ms to data@bx610_b6c3_uv_ab/model_1/model_b6c3_bb2.ms\n",
      "create symlink:\n",
      "    /Users/Rui/Dropbox/Worklib/projects/GMaKE/examples/data/bx610/alma/2015.1.00250.S/bb2.ms  to  bx610_b6c3_uv_ab/model_1/data_b6c3_bb2.ms\n",
      " \n",
      "-->data_b6c3_bb3.ms\n",
      " \n",
      "imod2d@../data/bx610/alma/2015.1.00250.S/bb3.ms\n",
      "write reference model image: \n",
      "    imod2d@../data/bx610/alma/2015.1.00250.S/bb3.ms to bx610_b6c3_uv_ab/model_1/imod2d_b6c3_bb3.fits\n",
      "imod3d@../data/bx610/alma/2015.1.00250.S/bb3.ms\n",
      "write reference model image: \n",
      "    imod3d@../data/bx610/alma/2015.1.00250.S/bb3.ms to bx610_b6c3_uv_ab/model_1/imod3d_b6c3_bb3.fits\n",
      "pbeam@../data/bx610/alma/2015.1.00250.S/bb3.ms\n",
      "write reference model image: \n",
      "    pbeam@../data/bx610/alma/2015.1.00250.S/bb3.ms to bx610_b6c3_uv_ab/model_1/pbeam_b6c3_bb3.fits\n",
      "write reference model profile: \n",
      "    imod3d_prof@h2o@../data/bx610/alma/2015.1.00250.S/bb3.ms to bx610_b6c3_uv_ab/model_1/imodrp_h2o_b6c3_bb3.fits\n",
      "copy ms container: \n",
      "    ../data/bx610/alma/2015.1.00250.S/bb3.ms  to  bx610_b6c3_uv_ab/model_1/model_b6c3_bb3.ms\n",
      "write ms column: \n",
      "    uvmodel@../data/bx610/alma/2015.1.00250.S/bb3.ms to data@bx610_b6c3_uv_ab/model_1/model_b6c3_bb3.ms\n",
      "create symlink:\n",
      "    /Users/Rui/Dropbox/Worklib/projects/GMaKE/examples/data/bx610/alma/2015.1.00250.S/bb3.ms  to  bx610_b6c3_uv_ab/model_1/data_b6c3_bb3.ms\n",
      " \n",
      "-->data_b6c3_bb1.ms\n",
      " \n",
      "imod2d@../data/bx610/alma/2015.1.00250.S/bb1.mfs.ms\n",
      "write reference model image: \n",
      "    imod2d@../data/bx610/alma/2015.1.00250.S/bb1.mfs.ms to bx610_b6c3_uv_ab/model_1/imod2d_b6c3_bb1.fits\n",
      "imod3d@../data/bx610/alma/2015.1.00250.S/bb1.mfs.ms\n",
      "write reference model image: \n",
      "    imod3d@../data/bx610/alma/2015.1.00250.S/bb1.mfs.ms to bx610_b6c3_uv_ab/model_1/imod3d_b6c3_bb1.fits\n",
      "pbeam@../data/bx610/alma/2015.1.00250.S/bb1.mfs.ms\n",
      "write reference model image: \n",
      "    pbeam@../data/bx610/alma/2015.1.00250.S/bb1.mfs.ms to bx610_b6c3_uv_ab/model_1/pbeam_b6c3_bb1.fits\n",
      "copy ms container: \n",
      "    ../data/bx610/alma/2015.1.00250.S/bb1.mfs.ms  to  bx610_b6c3_uv_ab/model_1/model_b6c3_bb1.ms\n",
      "write ms column: \n",
      "    uvmodel@../data/bx610/alma/2015.1.00250.S/bb1.mfs.ms to data@bx610_b6c3_uv_ab/model_1/model_b6c3_bb1.ms\n",
      "create symlink:\n",
      "    /Users/Rui/Dropbox/Worklib/projects/GMaKE/examples/data/bx610/alma/2015.1.00250.S/bb1.mfs.ms  to  bx610_b6c3_uv_ab/model_1/data_b6c3_bb1.ms\n",
      " \n",
      "-->data_b6c3_bb4.ms\n",
      " \n",
      "imod2d@../data/bx610/alma/2015.1.00250.S/bb4.mfs.ms\n",
      "write reference model image: \n",
      "    imod2d@../data/bx610/alma/2015.1.00250.S/bb4.mfs.ms to bx610_b6c3_uv_ab/model_1/imod2d_b6c3_bb4.fits\n",
      "imod3d@../data/bx610/alma/2015.1.00250.S/bb4.mfs.ms\n",
      "write reference model image: \n",
      "    imod3d@../data/bx610/alma/2015.1.00250.S/bb4.mfs.ms to bx610_b6c3_uv_ab/model_1/imod3d_b6c3_bb4.fits\n",
      "pbeam@../data/bx610/alma/2015.1.00250.S/bb4.mfs.ms\n",
      "write reference model image: \n",
      "    pbeam@../data/bx610/alma/2015.1.00250.S/bb4.mfs.ms to bx610_b6c3_uv_ab/model_1/pbeam_b6c3_bb4.fits\n",
      "copy ms container: \n",
      "    ../data/bx610/alma/2015.1.00250.S/bb4.mfs.ms  to  bx610_b6c3_uv_ab/model_1/model_b6c3_bb4.ms\n",
      "write ms column: \n",
      "    uvmodel@../data/bx610/alma/2015.1.00250.S/bb4.mfs.ms to data@bx610_b6c3_uv_ab/model_1/model_b6c3_bb4.ms\n",
      "create symlink:\n",
      "    /Users/Rui/Dropbox/Worklib/projects/GMaKE/examples/data/bx610/alma/2015.1.00250.S/bb4.mfs.ms  to  bx610_b6c3_uv_ab/model_1/data_b6c3_bb4.ms\n",
      "--------------------------------------------------------------------------------\n",
      "--- took 4.18509  seconds ---\n",
      "--- save to: bx610_b6c3_uv_ab/model_1/models.h5\n",
      "model_1: \n",
      "{'chisq': 66853415.49100598,\n",
      " 'lnprob': 10223122.432760734,\n",
      " 'ndata': 26249868.0,\n",
      " 'npar': 3}\n"
     ]
    },
    {
     "data": {
      "text/plain": [
       "<Figure size 432x288 with 0 Axes>"
      ]
     },
     "metadata": {},
     "output_type": "display_data"
    }
   ],
   "source": [
    "#from hickle import SerializedWarning\n",
    "gmake.fit_analyze(inpfile,export=True)\n",
    "#print(fit_dct['p_scale'])"
   ]
  },
  {
   "cell_type": "code",
   "execution_count": 6,
   "metadata": {
    "button": false,
    "deletable": true,
    "new_sheet": false,
    "run_control": {
     "read_only": false
    }
   },
   "outputs": [
    {
     "data": {
      "text/plain": [
       "1.000008"
      ]
     },
     "execution_count": 6,
     "metadata": {},
     "output_type": "execute_result"
    }
   ],
   "source": [
    "0.00027778*3600"
   ]
  },
  {
   "cell_type": "code",
   "execution_count": null,
   "metadata": {},
   "outputs": [],
   "source": []
  }
 ],
 "metadata": {
  "kernelspec": {
   "display_name": "Python 3",
   "language": "python",
   "name": "python3"
  },
  "language_info": {
   "codemirror_mode": {
    "name": "ipython",
    "version": 3
   },
   "file_extension": ".py",
   "mimetype": "text/x-python",
   "name": "python",
   "nbconvert_exporter": "python",
   "pygments_lexer": "ipython3",
   "version": "3.7.5"
  }
 },
 "nbformat": 4,
 "nbformat_minor": 4
}
