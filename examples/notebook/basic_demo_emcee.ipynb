{
 "cells": [
  {
   "cell_type": "markdown",
   "metadata": {},
   "source": [
    "[![Open In Colab](https://colab.research.google.com/assets/colab-badge.svg)](https://colab.research.google.com/github/r-xue/casa_proc/blob/master/demo/test_casaproc.ipynb)"
   ]
  },
  {
   "cell_type": "code",
   "execution_count": 1,
   "metadata": {},
   "outputs": [
    {
     "name": "stdout",
     "output_type": "stream",
     "text": [
      "3.7.4 (default, Sep  7 2019, 19:52:29) \n",
      "[Clang 10.0.1 (clang-1001.0.46.4)]\n",
      "hyperion\n",
      "/Users/Rui/Dropbox/Worklib/projects/GMaKE/examples/output\n"
     ]
    },
    {
     "name": "stderr",
     "output_type": "stream",
     "text": [
      "astropy            >=3.0        3.2.1       \n",
      "scikit-image       unspecified  0.14.2      \n",
      "alpy               unspecified  0.22.0      \n",
      "regions            unspecified  0.3         \n",
      "scipy              unspecified  1.2.1       \n",
      "reproject          unspecified  0.4         \n",
      "fitsio             unspecified  0.9.12      \n",
      "fits-tools         unspecified  0.2         \n",
      "yt                 unspecified  3.5.0       \n",
      "memory-profiler    unspecified  0.55.0      \n",
      "python-casacore    >=3.1.1      3.1.1       \n",
      "galpy              unspecified  1.5.dev0    \n",
      "reikna             unspecified  0.7.2       \n",
      "tqdm               unspecified  4.31.1      \n",
      "asteval            >=0.9.14     0.9.14      \n",
      "numexpr            >=2.6.9      2.6.9       \n",
      "pvextractor        unspecified  0.1         \n",
      "spectral-cube      unspecified  0.4.4.dev2011\n",
      "emcee              >=3.0rc2     3.0rc2      \n",
      "corner             unspecified  2.0.1       \n",
      "lmfit              unspecified  0.9.12      \n",
      "mkl-fft            unspecified  1.0.14      \n",
      "pyyaml             unspecified  5.1         \n",
      "hickle             unspecified  3.4.5       \n",
      "casa-proc          unspecified  0.1.dev3    \n"
     ]
    },
    {
     "name": "stdout",
     "output_type": "stream",
     "text": [
      "0.1.dev3\n",
      "rx.astro@gmail.com\n",
      "/Users/Rui/Dropbox/Worklib/projects/GMaKE/gmake\n",
      ">>>>>>>>>>>>>>>>>>>>>>>>>>>>>>>>>>>>>>>>\n",
      "<Logger gmake (DEBUG)>\n",
      "[<FileHandler /Users/Rui/Dropbox/Worklib/projects/GMaKE/examples/output/bx610_band6_uv_mc/gmake.log (DEBUG)>, <StreamHandler stderr (DEBUG)>]\n"
     ]
    }
   ],
   "source": [
    "import sys\n",
    "import glob\n",
    "import os\n",
    "import io\n",
    "import logging\n",
    "import emcee\n",
    "from pprint import pprint\n",
    "\n",
    "print(sys.version)\n",
    "\n",
    "\n",
    "import socket \n",
    "if  'hypersion' or 'mini' in socket.gethostname() :\n",
    "    os.chdir('/Users/Rui/Dropbox/Worklib/projects/GMaKE/examples/output/')\n",
    "print(socket.gethostname())\n",
    "print(os.getcwd())\n",
    "\n",
    "import gmake\n",
    "print(gmake.__version__)\n",
    "print(gmake.__email__)\n",
    "print(gmake.__demo__)\n",
    "gmake.check_deps()\n",
    "\n",
    "inpfile=gmake.__demo__+'/../examples/inpfile/bx610_band6_uv_mc.inp'\n",
    "logfile=''\n",
    "\n",
    "print('>'*40)\n",
    "#gmake.logger_config()\n",
    "#gmake.logger_status()\n",
    "#import pprint\n",
    "#pprint.pprint(logging.Logger.manager.loggerDict) \n",
    "gmake.logger_config()\n",
    "inp_dct=gmake.read_inp(inpfile)\n",
    "outdir=inp_dct['optimize']['outdir']\n",
    "gmake.logger_config(logfile=outdir+'/gmake.log',loglevel='DEBUG',logfilelevel='DEBUG')\n",
    "gmake.logger_status()\n"
   ]
  },
  {
   "cell_type": "code",
   "execution_count": null,
   "metadata": {},
   "outputs": [],
   "source": [
    "dat_dct=gmake.read_data(inp_dct,fill_mask=True,fill_error=True)"
   ]
  },
  {
   "cell_type": "code",
   "execution_count": null,
   "metadata": {},
   "outputs": [],
   "source": [
    "from gmake import model_lnprob\n",
    "lnl,blobs=model_lnprob(fit_dct['p_start'],fit_dct,inp_dct,dat_dct,\n",
    "                               savemodel='')\n",
    "#fit_dct,sampler=gmake.fit_setup(inp_dct,dat_dct)\n",
    "print(type(blobs))\n",
    "print(np.shape(blobs))"
   ]
  },
  {
   "cell_type": "code",
   "execution_count": null,
   "metadata": {},
   "outputs": [],
   "source": [
    "blobs.item()['npar']"
   ]
  },
  {
   "cell_type": "code",
   "execution_count": null,
   "metadata": {},
   "outputs": [],
   "source": [
    "gmake.fit_iterate(fit_dct,sampler,nstep=inp_dct['optimize']['niter'])"
   ]
  },
  {
   "cell_type": "code",
   "execution_count": 21,
   "metadata": {},
   "outputs": [
    {
     "name": "stderr",
     "output_type": "stream",
     "text": [
      "export the model set:             bx610_band6_uv_mc/model_0              (may take some time..)\n",
      " \n",
      "-->data_b6_bb2.ms\n",
      " \n",
      "imodel@../data/bx610/alma/band6/bx610_band6.bb2.cube3.ms\n",
      "write reference model image: \n",
      "    imodel@../data/bx610/alma/band6/bx610_band6.bb2.cube3.ms to bx610_band6_uv_mc/model_0/imodel_b6_bb2.fits\n",
      "imod2d@../data/bx610/alma/band6/bx610_band6.bb2.cube3.ms\n",
      "write reference model image: \n",
      "    imod2d@../data/bx610/alma/band6/bx610_band6.bb2.cube3.ms to bx610_band6_uv_mc/model_0/imod2d_b6_bb2.fits\n",
      "imod3d@../data/bx610/alma/band6/bx610_band6.bb2.cube3.ms\n",
      "write reference model image: \n",
      "    imod3d@../data/bx610/alma/band6/bx610_band6.bb2.cube3.ms to bx610_band6_uv_mc/model_0/imod3d_b6_bb2.fits\n",
      "write reference model profile: \n",
      "    imod3d_prof@co76@../data/bx610/alma/band6/bx610_band6.bb2.cube3.ms to bx610_band6_uv_mc/model_0/imodrp_co76_b6_bb2.fits\n",
      "write reference model profile: \n",
      "    imod3d_prof@ci21@../data/bx610/alma/band6/bx610_band6.bb2.cube3.ms to bx610_band6_uv_mc/model_0/imodrp_ci21_b6_bb2.fits\n",
      "copy ms container: \n",
      "    ../data/bx610/alma/band6/bx610_band6.bb2.cube3.ms  to  bx610_band6_uv_mc/model_0/model_b6_bb2.ms\n",
      "write ms column: \n",
      "    uvmodel@../data/bx610/alma/band6/bx610_band6.bb2.cube3.ms to data@bx610_band6_uv_mc/model_0/model_b6_bb2.ms\n",
      "create symlink:\n",
      "    /Users/Rui/Dropbox/Worklib/projects/GMaKE/examples/data/bx610/alma/band6/bx610_band6.bb2.cube3.ms  to  bx610_band6_uv_mc/model_0/data_b6_bb2.ms\n",
      " \n",
      "-->data_b6_bb3.ms\n",
      " \n",
      "imodel@../data/bx610/alma/band6/bx610_band6.bb3.cube3.ms\n",
      "write reference model image: \n",
      "    imodel@../data/bx610/alma/band6/bx610_band6.bb3.cube3.ms to bx610_band6_uv_mc/model_0/imodel_b6_bb3.fits\n",
      "imod2d@../data/bx610/alma/band6/bx610_band6.bb3.cube3.ms\n",
      "write reference model image: \n",
      "    imod2d@../data/bx610/alma/band6/bx610_band6.bb3.cube3.ms to bx610_band6_uv_mc/model_0/imod2d_b6_bb3.fits\n",
      "imod3d@../data/bx610/alma/band6/bx610_band6.bb3.cube3.ms\n",
      "write reference model image: \n",
      "    imod3d@../data/bx610/alma/band6/bx610_band6.bb3.cube3.ms to bx610_band6_uv_mc/model_0/imod3d_b6_bb3.fits\n",
      "write reference model profile: \n",
      "    imod3d_prof@h2o@../data/bx610/alma/band6/bx610_band6.bb3.cube3.ms to bx610_band6_uv_mc/model_0/imodrp_h2o_b6_bb3.fits\n",
      "copy ms container: \n",
      "    ../data/bx610/alma/band6/bx610_band6.bb3.cube3.ms  to  bx610_band6_uv_mc/model_0/model_b6_bb3.ms\n",
      "write ms column: \n",
      "    uvmodel@../data/bx610/alma/band6/bx610_band6.bb3.cube3.ms to data@bx610_band6_uv_mc/model_0/model_b6_bb3.ms\n",
      "create symlink:\n",
      "    /Users/Rui/Dropbox/Worklib/projects/GMaKE/examples/data/bx610/alma/band6/bx610_band6.bb3.cube3.ms  to  bx610_band6_uv_mc/model_0/data_b6_bb3.ms\n",
      " \n",
      "-->data_b6_bb1.ms\n",
      " \n",
      "imodel@../data/bx610/alma/band6/bx610_band6.bb1.mfs.ms\n",
      "write reference model image: \n",
      "    imodel@../data/bx610/alma/band6/bx610_band6.bb1.mfs.ms to bx610_band6_uv_mc/model_0/imodel_b6_bb1.fits\n",
      "imod2d@../data/bx610/alma/band6/bx610_band6.bb1.mfs.ms\n",
      "write reference model image: \n",
      "    imod2d@../data/bx610/alma/band6/bx610_band6.bb1.mfs.ms to bx610_band6_uv_mc/model_0/imod2d_b6_bb1.fits\n",
      "imod3d@../data/bx610/alma/band6/bx610_band6.bb1.mfs.ms\n",
      "write reference model image: \n",
      "    imod3d@../data/bx610/alma/band6/bx610_band6.bb1.mfs.ms to bx610_band6_uv_mc/model_0/imod3d_b6_bb1.fits\n",
      "copy ms container: \n",
      "    ../data/bx610/alma/band6/bx610_band6.bb1.mfs.ms  to  bx610_band6_uv_mc/model_0/model_b6_bb1.ms\n",
      "write ms column: \n",
      "    uvmodel@../data/bx610/alma/band6/bx610_band6.bb1.mfs.ms to data@bx610_band6_uv_mc/model_0/model_b6_bb1.ms\n",
      "create symlink:\n",
      "    /Users/Rui/Dropbox/Worklib/projects/GMaKE/examples/data/bx610/alma/band6/bx610_band6.bb1.mfs.ms  to  bx610_band6_uv_mc/model_0/data_b6_bb1.ms\n",
      " \n",
      "-->data_b6_bb4.ms\n",
      " \n",
      "imodel@../data/bx610/alma/band6/bx610_band6.bb4.mfs.ms\n",
      "write reference model image: \n",
      "    imodel@../data/bx610/alma/band6/bx610_band6.bb4.mfs.ms to bx610_band6_uv_mc/model_0/imodel_b6_bb4.fits\n",
      "imod2d@../data/bx610/alma/band6/bx610_band6.bb4.mfs.ms\n",
      "write reference model image: \n",
      "    imod2d@../data/bx610/alma/band6/bx610_band6.bb4.mfs.ms to bx610_band6_uv_mc/model_0/imod2d_b6_bb4.fits\n",
      "imod3d@../data/bx610/alma/band6/bx610_band6.bb4.mfs.ms\n",
      "write reference model image: \n",
      "    imod3d@../data/bx610/alma/band6/bx610_band6.bb4.mfs.ms to bx610_band6_uv_mc/model_0/imod3d_b6_bb4.fits\n",
      "copy ms container: \n",
      "    ../data/bx610/alma/band6/bx610_band6.bb4.mfs.ms  to  bx610_band6_uv_mc/model_0/model_b6_bb4.ms\n",
      "write ms column: \n",
      "    uvmodel@../data/bx610/alma/band6/bx610_band6.bb4.mfs.ms to data@bx610_band6_uv_mc/model_0/model_b6_bb4.ms\n",
      "create symlink:\n",
      "    /Users/Rui/Dropbox/Worklib/projects/GMaKE/examples/data/bx610/alma/band6/bx610_band6.bb4.mfs.ms  to  bx610_band6_uv_mc/model_0/data_b6_bb4.ms\n",
      "--------------------------------------------------------------------------------\n",
      "--- took 16.30731 seconds ---\n",
      "save the model input parameter: bx610_band6_uv_mc/model_0/model.inp\n",
      "model_0: \n",
      "{'chisq': 627572163.540645,\n",
      " 'lnprob': -178748868.17610985,\n",
      " 'ndata': 80455719.0,\n",
      " 'npar': 2}\n"
     ]
    },
    {
     "ename": "ValueError",
     "evalue": "The truth value of an array with more than one element is ambiguous. Use a.any() or a.all()",
     "output_type": "error",
     "traceback": [
      "\u001b[0;31m---------------------------------------------------------------------------\u001b[0m",
      "\u001b[0;31mValueError\u001b[0m                                Traceback (most recent call last)",
      "\u001b[0;32m<ipython-input-21-5b8ecb09547c>\u001b[0m in \u001b[0;36m<module>\u001b[0;34m\u001b[0m\n\u001b[0;32m----> 1\u001b[0;31m \u001b[0mgmake\u001b[0m\u001b[0;34m.\u001b[0m\u001b[0mfit_analyze\u001b[0m\u001b[0;34m(\u001b[0m\u001b[0minpfile\u001b[0m\u001b[0;34m)\u001b[0m\u001b[0;34m\u001b[0m\u001b[0;34m\u001b[0m\u001b[0m\n\u001b[0m",
      "\u001b[0;32m~/Dropbox/Worklib/projects/GMaKE/gmake/fit_utils.py\u001b[0m in \u001b[0;36mfit_analyze\u001b[0;34m(inpfile, burnin, copydata)\u001b[0m\n\u001b[1;32m    107\u001b[0m     \u001b[0mlogger\u001b[0m\u001b[0;34m.\u001b[0m\u001b[0mdebug\u001b[0m\u001b[0;34m(\u001b[0m\u001b[0mpformat\u001b[0m\u001b[0;34m(\u001b[0m\u001b[0mblobs\u001b[0m\u001b[0;34m)\u001b[0m\u001b[0;34m)\u001b[0m\u001b[0;34m\u001b[0m\u001b[0;34m\u001b[0m\u001b[0m\n\u001b[1;32m    108\u001b[0m \u001b[0;34m\u001b[0m\u001b[0m\n\u001b[0;32m--> 109\u001b[0;31m     \u001b[0mlnl\u001b[0m\u001b[0;34m,\u001b[0m\u001b[0mblobs\u001b[0m\u001b[0;34m=\u001b[0m\u001b[0mmodel_lnprob\u001b[0m\u001b[0;34m(\u001b[0m\u001b[0mtheta_end\u001b[0m\u001b[0;34m,\u001b[0m\u001b[0mfit_dct\u001b[0m\u001b[0;34m,\u001b[0m\u001b[0minp_dct\u001b[0m\u001b[0;34m,\u001b[0m\u001b[0mdat_dct\u001b[0m\u001b[0;34m,\u001b[0m\u001b[0msavemodel\u001b[0m\u001b[0;34m=\u001b[0m\u001b[0moutfolder\u001b[0m\u001b[0;34m+\u001b[0m\u001b[0;34m'/model_1'\u001b[0m\u001b[0;34m,\u001b[0m\u001b[0mpackblobs\u001b[0m\u001b[0;34m=\u001b[0m\u001b[0;32mTrue\u001b[0m\u001b[0;34m)\u001b[0m\u001b[0;34m\u001b[0m\u001b[0;34m\u001b[0m\u001b[0m\n\u001b[0m\u001b[1;32m    110\u001b[0m     \u001b[0mlogger\u001b[0m\u001b[0;34m.\u001b[0m\u001b[0mdebug\u001b[0m\u001b[0;34m(\u001b[0m\u001b[0;34m'model_1: '\u001b[0m\u001b[0;34m)\u001b[0m\u001b[0;34m\u001b[0m\u001b[0;34m\u001b[0m\u001b[0m\n\u001b[1;32m    111\u001b[0m     \u001b[0mlogger\u001b[0m\u001b[0;34m.\u001b[0m\u001b[0mdebug\u001b[0m\u001b[0;34m(\u001b[0m\u001b[0mpformat\u001b[0m\u001b[0;34m(\u001b[0m\u001b[0mblobs\u001b[0m\u001b[0;34m)\u001b[0m\u001b[0;34m)\u001b[0m\u001b[0;34m\u001b[0m\u001b[0;34m\u001b[0m\u001b[0m\n",
      "\u001b[0;32m~/Dropbox/Worklib/projects/GMaKE/gmake/model_utils.py\u001b[0m in \u001b[0;36mmodel_lnprob\u001b[0;34m(theta, fit_dct, inp_dct, dat_dct, savemodel, packblobs, verbose)\u001b[0m\n\u001b[1;32m    564\u001b[0m         \u001b[0mstart_time\u001b[0m \u001b[0;34m=\u001b[0m \u001b[0mtime\u001b[0m\u001b[0;34m.\u001b[0m\u001b[0mtime\u001b[0m\u001b[0;34m(\u001b[0m\u001b[0;34m)\u001b[0m\u001b[0;34m\u001b[0m\u001b[0;34m\u001b[0m\u001b[0m\n\u001b[1;32m    565\u001b[0m \u001b[0;34m\u001b[0m\u001b[0m\n\u001b[0;32m--> 566\u001b[0;31m     \u001b[0mlp\u001b[0m \u001b[0;34m=\u001b[0m \u001b[0mmodel_lnprior\u001b[0m\u001b[0;34m(\u001b[0m\u001b[0mtheta\u001b[0m\u001b[0;34m,\u001b[0m\u001b[0mfit_dct\u001b[0m\u001b[0;34m)\u001b[0m\u001b[0;34m\u001b[0m\u001b[0;34m\u001b[0m\u001b[0m\n\u001b[0m\u001b[1;32m    567\u001b[0m     \u001b[0;32mif\u001b[0m  \u001b[0;32mnot\u001b[0m \u001b[0mnp\u001b[0m\u001b[0;34m.\u001b[0m\u001b[0misfinite\u001b[0m\u001b[0;34m(\u001b[0m\u001b[0mlp\u001b[0m\u001b[0;34m)\u001b[0m\u001b[0;34m:\u001b[0m\u001b[0;34m\u001b[0m\u001b[0;34m\u001b[0m\u001b[0m\n\u001b[1;32m    568\u001b[0m         \u001b[0mblobs\u001b[0m\u001b[0;34m=\u001b[0m\u001b[0;34m{\u001b[0m\u001b[0;34m'lnprob'\u001b[0m\u001b[0;34m:\u001b[0m\u001b[0;34m-\u001b[0m\u001b[0mnp\u001b[0m\u001b[0;34m.\u001b[0m\u001b[0minf\u001b[0m\u001b[0;34m,\u001b[0m\u001b[0;34m'chisq'\u001b[0m\u001b[0;34m:\u001b[0m\u001b[0;34m+\u001b[0m\u001b[0mnp\u001b[0m\u001b[0;34m.\u001b[0m\u001b[0minf\u001b[0m\u001b[0;34m,\u001b[0m\u001b[0;34m'ndata'\u001b[0m\u001b[0;34m:\u001b[0m\u001b[0;36m0.0\u001b[0m\u001b[0;34m,\u001b[0m\u001b[0;34m'npar'\u001b[0m\u001b[0;34m:\u001b[0m\u001b[0mlen\u001b[0m\u001b[0;34m(\u001b[0m\u001b[0mtheta\u001b[0m\u001b[0;34m)\u001b[0m\u001b[0;34m}\u001b[0m\u001b[0;34m\u001b[0m\u001b[0;34m\u001b[0m\u001b[0m\n",
      "\u001b[0;32m~/Dropbox/Worklib/projects/GMaKE/gmake/model_utils.py\u001b[0m in \u001b[0;36mmodel_lnprior\u001b[0;34m(theta, fit_dct)\u001b[0m\n\u001b[1;32m    545\u001b[0m     \u001b[0mp_up\u001b[0m\u001b[0;34m=\u001b[0m\u001b[0mfit_dct\u001b[0m\u001b[0;34m[\u001b[0m\u001b[0;34m'p_up'\u001b[0m\u001b[0;34m]\u001b[0m\u001b[0;34m\u001b[0m\u001b[0;34m\u001b[0m\u001b[0m\n\u001b[1;32m    546\u001b[0m     \u001b[0;32mfor\u001b[0m \u001b[0mindex\u001b[0m \u001b[0;32min\u001b[0m \u001b[0mrange\u001b[0m\u001b[0;34m(\u001b[0m\u001b[0mlen\u001b[0m\u001b[0;34m(\u001b[0m\u001b[0mtheta\u001b[0m\u001b[0;34m)\u001b[0m\u001b[0;34m)\u001b[0m\u001b[0;34m:\u001b[0m\u001b[0;34m\u001b[0m\u001b[0;34m\u001b[0m\u001b[0m\n\u001b[0;32m--> 547\u001b[0;31m         \u001b[0;32mif\u001b[0m  \u001b[0mtheta\u001b[0m\u001b[0;34m[\u001b[0m\u001b[0mindex\u001b[0m\u001b[0;34m]\u001b[0m\u001b[0;34m<\u001b[0m\u001b[0mp_lo\u001b[0m\u001b[0;34m[\u001b[0m\u001b[0mindex\u001b[0m\u001b[0;34m]\u001b[0m \u001b[0;32mor\u001b[0m \u001b[0mtheta\u001b[0m\u001b[0;34m[\u001b[0m\u001b[0mindex\u001b[0m\u001b[0;34m]\u001b[0m\u001b[0;34m>\u001b[0m\u001b[0mp_up\u001b[0m\u001b[0;34m[\u001b[0m\u001b[0mindex\u001b[0m\u001b[0;34m]\u001b[0m\u001b[0;34m:\u001b[0m\u001b[0;34m\u001b[0m\u001b[0;34m\u001b[0m\u001b[0m\n\u001b[0m\u001b[1;32m    548\u001b[0m             \u001b[0;32mreturn\u001b[0m \u001b[0;34m-\u001b[0m\u001b[0mnp\u001b[0m\u001b[0;34m.\u001b[0m\u001b[0minf\u001b[0m\u001b[0;34m\u001b[0m\u001b[0;34m\u001b[0m\u001b[0m\n\u001b[1;32m    549\u001b[0m     \u001b[0;32mreturn\u001b[0m \u001b[0;36m0.0\u001b[0m\u001b[0;34m\u001b[0m\u001b[0;34m\u001b[0m\u001b[0m\n",
      "\u001b[0;31mValueError\u001b[0m: The truth value of an array with more than one element is ambiguous. Use a.any() or a.all()"
     ]
    }
   ],
   "source": [
    "gmake.fit_analyze(inpfile)"
   ]
  },
  {
   "cell_type": "code",
   "execution_count": 5,
   "metadata": {},
   "outputs": [],
   "source": []
  },
  {
   "cell_type": "code",
   "execution_count": null,
   "metadata": {},
   "outputs": [],
   "source": []
  }
 ],
 "metadata": {
  "kernelspec": {
   "display_name": "Python 3",
   "language": "python",
   "name": "python3"
  },
  "language_info": {
   "codemirror_mode": {
    "name": "ipython",
    "version": 3
   },
   "file_extension": ".py",
   "mimetype": "text/x-python",
   "name": "python",
   "nbconvert_exporter": "python",
   "pygments_lexer": "ipython3",
   "version": "3.7.4"
  }
 },
 "nbformat": 4,
 "nbformat_minor": 4
}
