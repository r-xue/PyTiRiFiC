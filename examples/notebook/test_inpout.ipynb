{
 "cells": [
  {
   "cell_type": "code",
   "execution_count": 1,
   "metadata": {},
   "outputs": [
    {
     "name": "stdout",
     "output_type": "stream",
     "text": [
      "/Users/Rui/Dropbox/Worklib/projects/GMaKE/examples/notebook\n",
      "Ruis-Mac-mini.local\n"
     ]
    },
    {
     "name": "stderr",
     "output_type": "stream",
     "text": [
      "Python version:   3.7.4 (default, Sep  7 2019, 19:52:29) \n",
      "[Clang 10.0.1 (clang-1001.0.46.4)]\n",
      "Host Name:        Ruis-Mac-mini.local\n",
      "Num of Core:      12\n",
      "Total Memory:     32.0 GB\n",
      "Available Memory: 13.98 GB\n",
      "################################################################################\n",
      "astropy            >=3.0        4.0.dev25797\n",
      "scikit-image       unspecified  0.15.0      \n",
      "alpy               unspecified  0.22.0      \n",
      "regions            unspecified  0.4         \n",
      "scipy              unspecified  1.3.1       \n",
      "reproject          unspecified  0.6.dev644  \n",
      "fitsio             unspecified  1.0.5       \n",
      "fits-tools         unspecified  0.2         \n",
      "yt                 unspecified  3.5.1       \n",
      "memory-profiler    unspecified  0.55.0      \n",
      "python-casacore    >=3.1.1      3.1.1       \n",
      "galpy              unspecified  1.4.1       \n",
      "reikna             unspecified  0.7.4       \n",
      "tqdm               unspecified  4.32.2      \n",
      "asteval            >=0.9.14     0.9.14      \n",
      "numexpr            >=2.7.0      2.7.0       \n",
      "pvextractor        >=0.2.dev327 0.2.dev327  \n",
      "spectral-cube      >=0.4.5.dev  0.4.5.dev2265\n",
      "radio-beam         >=0.3        0.3.3.dev397\n",
      "reproject          >=0.6.dev    0.6.dev644  \n",
      "emcee              >=3.0.0      3.0.0       \n",
      "corner             >=2.0        2.0.2.dev0  \n",
      "lmfit              unspecified  0.9.13      \n",
      "mkl-fft            unspecified  1.0.14      \n",
      "pyyaml             unspecified  5.1.2       \n",
      "hickle             unspecified  3.4.5       \n",
      "casa-proc          unspecified  0.1.dev3    \n"
     ]
    },
    {
     "name": "stdout",
     "output_type": "stream",
     "text": [
      "0.1.dev3\n",
      "rx.astro@gmail.com\n",
      "/Users/Rui/Dropbox/Worklib/projects/GMaKE/gmake\n",
      ">>>>>>>>>>>>>>>>>>>>>>>>>>>>>>>>>>>>>>>>\n"
     ]
    },
    {
     "ename": "KeyError",
     "evalue": "'outdir'",
     "output_type": "error",
     "traceback": [
      "\u001b[0;31m---------------------------------------------------------------------------\u001b[0m",
      "\u001b[0;31mKeyError\u001b[0m                                  Traceback (most recent call last)",
      "\u001b[0;32m<ipython-input-1-fecfb0ed8cdd>\u001b[0m in \u001b[0;36m<module>\u001b[0;34m\u001b[0m\n\u001b[1;32m     29\u001b[0m \u001b[0mgmake\u001b[0m\u001b[0;34m.\u001b[0m\u001b[0mlogger_config\u001b[0m\u001b[0;34m(\u001b[0m\u001b[0;34m)\u001b[0m\u001b[0;34m\u001b[0m\u001b[0;34m\u001b[0m\u001b[0m\n\u001b[1;32m     30\u001b[0m \u001b[0minp_dct\u001b[0m\u001b[0;34m=\u001b[0m\u001b[0mgmake\u001b[0m\u001b[0;34m.\u001b[0m\u001b[0mread_inp\u001b[0m\u001b[0;34m(\u001b[0m\u001b[0minpfile\u001b[0m\u001b[0;34m)\u001b[0m\u001b[0;34m\u001b[0m\u001b[0;34m\u001b[0m\u001b[0m\n\u001b[0;32m---> 31\u001b[0;31m \u001b[0moutdir\u001b[0m\u001b[0;34m=\u001b[0m\u001b[0minp_dct\u001b[0m\u001b[0;34m[\u001b[0m\u001b[0;34m'optimize'\u001b[0m\u001b[0;34m]\u001b[0m\u001b[0;34m[\u001b[0m\u001b[0;34m'outdir'\u001b[0m\u001b[0;34m]\u001b[0m\u001b[0;34m\u001b[0m\u001b[0;34m\u001b[0m\u001b[0m\n\u001b[0m\u001b[1;32m     32\u001b[0m \u001b[0mgmake\u001b[0m\u001b[0;34m.\u001b[0m\u001b[0mlogger_config\u001b[0m\u001b[0;34m(\u001b[0m\u001b[0mlogfile\u001b[0m\u001b[0;34m=\u001b[0m\u001b[0moutdir\u001b[0m\u001b[0;34m+\u001b[0m\u001b[0;34m'/gmake.log'\u001b[0m\u001b[0;34m,\u001b[0m\u001b[0mloglevel\u001b[0m\u001b[0;34m=\u001b[0m\u001b[0;34m'DEBUG'\u001b[0m\u001b[0;34m,\u001b[0m\u001b[0mlogfilelevel\u001b[0m\u001b[0;34m=\u001b[0m\u001b[0;34m'DEBUG'\u001b[0m\u001b[0;34m)\u001b[0m\u001b[0;34m\u001b[0m\u001b[0;34m\u001b[0m\u001b[0m\n\u001b[1;32m     33\u001b[0m \u001b[0mgmake\u001b[0m\u001b[0;34m.\u001b[0m\u001b[0mlogger_status\u001b[0m\u001b[0;34m(\u001b[0m\u001b[0;34m)\u001b[0m\u001b[0;34m\u001b[0m\u001b[0;34m\u001b[0m\u001b[0m\n",
      "\u001b[0;31mKeyError\u001b[0m: 'outdir'"
     ]
    }
   ],
   "source": [
    "import sys\n",
    "import glob\n",
    "import os\n",
    "import io\n",
    "import logging\n",
    "import emcee\n",
    "from pprint import pprint\n",
    "\n",
    "import socket \n",
    "print(os.getcwd())\n",
    "print(socket.gethostname())\n",
    "if  'hypersion' or 'mini' in socket.gethostname() :\n",
    "    os.chdir('/Users/Rui/Dropbox/Worklib/projects/GMaKE/examples/output/')\n",
    "\n",
    "import gmake\n",
    "print(gmake.__version__)\n",
    "print(gmake.__email__)\n",
    "print(gmake.__demo__)\n",
    "gmake.check_setup()\n",
    "\n",
    "inpfile=gmake.__demo__+'/../examples/inpfile/bx610_band6_uv_mc.inp'\n",
    "logfile=''\n",
    "\n",
    "print('>'*40)\n",
    "#gmake.logger_config()\n",
    "#gmake.logger_status()\n",
    "#import pprint\n",
    "#pprint.pprint(logging.Logger.manager.loggerDict) \n",
    "gmake.logger_config()\n",
    "inp_dct=gmake.read_inp(inpfile)\n",
    "outdir=inp_dct['optimize']['outdir']\n",
    "gmake.logger_config(logfile=outdir+'/gmake.log',loglevel='DEBUG',logfilelevel='DEBUG')\n",
    "gmake.logger_status()"
   ]
  },
  {
   "cell_type": "code",
   "execution_count": null,
   "metadata": {},
   "outputs": [],
   "source": []
  }
 ],
 "metadata": {
  "kernelspec": {
   "display_name": "Python 3",
   "language": "python",
   "name": "python3"
  },
  "language_info": {
   "codemirror_mode": {
    "name": "ipython",
    "version": 3
   },
   "file_extension": ".py",
   "mimetype": "text/x-python",
   "name": "python",
   "nbconvert_exporter": "python",
   "pygments_lexer": "ipython3",
   "version": "3.7.4"
  }
 },
 "nbformat": 4,
 "nbformat_minor": 4
}
