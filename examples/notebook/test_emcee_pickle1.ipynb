{
 "cells": [
  {
   "cell_type": "code",
   "execution_count": 5,
   "metadata": {},
   "outputs": [
    {
     "name": "stdout",
     "output_type": "stream",
     "text": [
      "3.7.4 (default, Sep  7 2019, 19:52:29) \n",
      "[Clang 10.0.1 (clang-1001.0.46.4)]\n",
      "hyperion\n",
      "/Users/Rui/Dropbox/Worklib/projects/GMaKE/tests/test_emcee_pickle\n"
     ]
    }
   ],
   "source": [
    "import sys\n",
    "import glob\n",
    "import os\n",
    "import io\n",
    "import logging\n",
    "import emcee\n",
    "from pprint import pprint\n",
    "print(sys.version)\n",
    "import socket \n",
    "if  'hypersion' or 'mini' in socket.gethostname() :\n",
    "    os.chdir('/Users/Rui/Dropbox/Worklib/projects/GMaKE/tests/test_emcee_pickle')\n",
    "print(socket.gethostname())\n",
    "print(os.getcwd())"
   ]
  },
  {
   "cell_type": "code",
   "execution_count": 12,
   "metadata": {},
   "outputs": [
    {
     "name": "stderr",
     "output_type": "stream",
     "text": [
      "100%|██████████| 100/100 [00:21<00:00,  4.79it/s]"
     ]
    },
    {
     "name": "stdout",
     "output_type": "stream",
     "text": [
      "SERIALS took 21.3 seconds\n",
      "32 5\n"
     ]
    },
    {
     "name": "stderr",
     "output_type": "stream",
     "text": [
      "\n",
      "100%|██████████| 100/100 [00:21<00:00,  4.76it/s]"
     ]
    },
    {
     "name": "stdout",
     "output_type": "stream",
     "text": [
      "Multiprocessing took 21.3 seconds\n"
     ]
    },
    {
     "name": "stderr",
     "output_type": "stream",
     "text": [
      "\n",
      "100%|██████████| 100/100 [00:03<00:00, 30.24it/s]"
     ]
    },
    {
     "name": "stdout",
     "output_type": "stream",
     "text": [
      "Multiprocessing took 3.3 seconds\n"
     ]
    },
    {
     "name": "stderr",
     "output_type": "stream",
     "text": [
      "\n"
     ]
    }
   ],
   "source": [
    "import main\n",
    "main.main_s()\n",
    "main.main_p()"
   ]
  },
  {
   "cell_type": "code",
   "execution_count": 9,
   "metadata": {},
   "outputs": [],
   "source": [
    "import log_prob"
   ]
  },
  {
   "cell_type": "code",
   "execution_count": 10,
   "metadata": {},
   "outputs": [
    {
     "data": {
      "text/plain": [
       "{'data': array([[-0.97468167,  0.7870846 ,  1.15859558, ..., -0.28865864,\n",
       "          0.32271856, -0.82723094],\n",
       "        [ 0.51934651,  1.53273891, -0.10876015, ..., -0.43255819,\n",
       "          0.39445214, -0.42098448],\n",
       "        [ 0.28977486,  2.0754008 ,  0.8711247 , ...,  0.18483612,\n",
       "         -0.85835778,  0.70030988],\n",
       "        ...,\n",
       "        [-1.15020847,  0.31722769, -0.35631948, ...,  1.44576419,\n",
       "          1.38923068,  0.10741763],\n",
       "        [ 0.09701985,  1.21074876, -0.45486709, ...,  0.79869936,\n",
       "          0.1852926 , -0.21859596],\n",
       "        [-1.11333432, -0.06616116,  0.86391197, ..., -1.61594284,\n",
       "         -1.18589281, -0.58290366]])}"
      ]
     },
     "execution_count": 10,
     "metadata": {},
     "output_type": "execute_result"
    }
   ],
   "source": [
    "log_prob.data"
   ]
  },
  {
   "cell_type": "code",
   "execution_count": null,
   "metadata": {},
   "outputs": [],
   "source": []
  }
 ],
 "metadata": {
  "kernelspec": {
   "display_name": "Python 3",
   "language": "python",
   "name": "python3"
  },
  "language_info": {
   "codemirror_mode": {
    "name": "ipython",
    "version": 3
   },
   "file_extension": ".py",
   "mimetype": "text/x-python",
   "name": "python",
   "nbconvert_exporter": "python",
   "pygments_lexer": "ipython3",
   "version": "3.7.4"
  }
 },
 "nbformat": 4,
 "nbformat_minor": 4
}
