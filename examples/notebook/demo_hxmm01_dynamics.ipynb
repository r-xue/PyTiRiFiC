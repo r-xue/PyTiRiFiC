{
 "cells": [
  {
   "cell_type": "code",
   "execution_count": 47,
   "metadata": {},
   "outputs": [
    {
     "name": "stdout",
     "output_type": "stream",
     "text": [
      "3.7.5 (default, Oct 19 2019, 11:15:26) \n",
      "[Clang 11.0.0 (clang-1100.0.33.8)]\n",
      "**********exe read_inp()**************\n",
      "{   'disk_sd': <Quantity 5.e+09 solMass / kpc2>,\n",
      "    'disk_rs': <Quantity 1. kpc>,\n",
      "    'halo_mvir': <Quantity 5.e+11 solMass>,\n",
      "    'type': 'potential',\n",
      "    'object': 'hxmm01',\n",
      "    'z': 2.308}\n",
      "{   'disk_sd': <Quantity 5.e+09 solMass / kpc2>,\n",
      "    'disk_rs': <Quantity 2.5 kpc>,\n",
      "    'halo_mvir': <Quantity 5.e+11 solMass>,\n",
      "    'type': 'potential',\n",
      "    'object': 'hxmm01',\n",
      "    'z': 2.308}\n"
     ]
    },
    {
     "data": {
      "text/plain": [
       "<Figure size 432x288 with 0 Axes>"
      ]
     },
     "metadata": {},
     "output_type": "display_data"
    },
    {
     "data": {
      "text/plain": [
       "<Figure size 360x216 with 0 Axes>"
      ]
     },
     "metadata": {},
     "output_type": "display_data"
    },
    {
     "data": {
      "image/png": "[encoded data removed]",
      "text/plain": [
       "<Figure size 360x216 with 1 Axes>"
      ]
     },
     "metadata": {
      "needs_background": "light"
     },
     "output_type": "display_data"
    }
   ],
   "source": [
    "import sys\n",
    "import glob\n",
    "import os\n",
    "import io\n",
    "import logging\n",
    "import emcee\n",
    "import pprint as pp\n",
    "#from pprint import pprint\n",
    "\n",
    "print(sys.version)\n",
    "\n",
    "import socket \n",
    "if  'hypersion' or 'mini' in socket.gethostname() :\n",
    "    os.chdir('/Users/Rui/Dropbox/Worklib/projects/GMaKE/examples/output/')\n",
    "#print(socket.gethostname())\n",
    "#print(os.getcwd())\n",
    "\n",
    "import gmake\n",
    "#pp.pprint(gmake.__version__)\n",
    "#pp.pprint(gmake.__email__)\n",
    "#pp.pprint(gmake.__demo__)\n",
    "#gmake.check_setup()\n",
    "\n",
    "#pp.pprint(gmake.meta.pars_def,indent=4,width=100)\n",
    "#gmake.pprint(gmake.meta.pars_def,indent=4,width=100)\n",
    "#gmake.pprint(gmake.meta.xymodel_header,indent=4,width=100)\n",
    "\n",
    "inpfile=gmake.__demo__+'/../examples/inpfile/hxmm01_b6c3_uv_mc.inp'\n",
    "#logfile=''\n",
    "\n",
    "#print('>'*40)\n",
    "#gmake.logger_config()\n",
    "#gmake.logger_status()\n",
    "#gmake.logger_status(root=True)\n",
    "\n",
    "outdir='/Users/Rui/Dropbox/Worklib/projects/GMaKE/examples/output/hxmm01_b6c3_uv_mc/'\n",
    "gmake.logger_config(logfile=outdir+'/gmake.log',loglevel='DEBUG',logfilelevel='DEBUG')\n",
    "#gmake.logger_status()\n",
    "\n",
    "inp_dct=gmake.read_inp(inpfile)\n",
    "mod_dct=gmake.inp2mod(inp_dct)\n",
    "\n",
    "\n",
    "import astropy.units as u\n",
    "gmake.pprint(mod_dct['dynamics'],indent=4,width=100)\n",
    "#gmake.model_dynamics(mod_dct,plotrc=True)\n",
    "rc=gmake.model_vcirc(mod_dct['dynamics'])\n",
    "#gmake.pprint(rc,indent=4,width=100)\n",
    "gmake.model_vcirc_plot(rc,figname='rc1.pdf')\n",
    "mod_dct['dynamics']['disk_rs']=2.5*u.kpc\n",
    "gmake.pprint(mod_dct['dynamics'],indent=4,width=100)\n",
    "#gmake.model_dynamics(mod_dct,plotrc=True)\n",
    "rc=gmake.model_vcirc(mod_dct['dynamics'])\n",
    "#gmake.pprint(rc,indent=4,width=100)\n",
    "gmake.model_vcirc_plot(rc,figname='rc2.pdf')\n"
   ]
  },
  {
   "cell_type": "code",
   "execution_count": null,
   "metadata": {},
   "outputs": [],
   "source": []
  },
  {
   "cell_type": "code",
   "execution_count": null,
   "metadata": {},
   "outputs": [],
   "source": []
  }
 ],
 "metadata": {
  "kernelspec": {
   "display_name": "Python 3",
   "language": "python",
   "name": "python3"
  },
  "language_info": {
   "codemirror_mode": {
    "name": "ipython",
    "version": 3
   },
   "file_extension": ".py",
   "mimetype": "text/x-python",
   "name": "python",
   "nbconvert_exporter": "python",
   "pygments_lexer": "ipython3",
   "version": "3.7.5"
  }
 },
 "nbformat": 4,
 "nbformat_minor": 4
}
