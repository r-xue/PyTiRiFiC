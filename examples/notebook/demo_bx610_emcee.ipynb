{
 "cells": [
  {
   "cell_type": "markdown",
   "metadata": {},
   "source": [
    "[![Open In Colab](https://colab.research.google.com/assets/colab-badge.svg)](https://colab.research.google.com/github/r-xue/casa_proc/blob/master/demo/test_casaproc.ipynb)\n",
    "\n",
    "## Example BX610: perform model fitting using method='emcee'"
   ]
  },
  {
   "cell_type": "code",
   "execution_count": 31,
   "metadata": {},
   "outputs": [
    {
     "name": "stderr",
     "output_type": "stream",
     "text": [
      "astropy            >=3.2.2      3.2.2       \n",
      "emcee              >=3.0.0      3.0.0       \n",
      "corner             >=2.0        2.0.1       \n",
      "tqdm               unspecified  4.31.1      \n",
      "lmfit              unspecified  0.9.12      \n",
      "asteval            >=0.9.14     0.9.14      \n",
      "numexpr            >=2.7.0      2.7.0       \n",
      "hickle             unspecified  3.4.5       \n",
      "alpy               unspecified  0.22.0      \n",
      "regions            unspecified  0.3         \n",
      "scipy              unspecified  1.2.1       \n",
      "reproject          unspecified  0.6.dev644  \n",
      "python-casacore    >=3.1.1      3.1.1       \n",
      "scikit-image       unspecified  0.14.2      \n",
      "galpy              unspecified  1.5.dev0    \n",
      "mkl-fft            unspecified  1.0.14      \n",
      "pvextractor        >=0.2.dev327 0.2.dev327  \n",
      "spectral-cube      >=0.4.5.dev  0.4.5.dev2235\n",
      "radio-beam         >=0.3        0.3.3.dev397\n",
      "reproject          >=0.6.dev    0.6.dev644  \n",
      "casa-proc          unspecified  0.1.dev3    \n"
     ]
    },
    {
     "name": "stdout",
     "output_type": "stream",
     "text": [
      "3.7.5 (default, Oct 19 2019, 11:15:26) \n",
      "[Clang 11.0.0 (clang-1100.0.33.8)]\n",
      "hyperion\n",
      "/Users/Rui/Dropbox/Worklib/projects/GMaKE/examples/output\n",
      "0.2.dev1\n",
      "rx.astro@gmail.com\n",
      "/Users/Rui/Dropbox/Worklib/projects/GMaKE/gmake\n",
      ">>>>>>>>>>>>>>>>>>>>>>>>>>>>>>>>>>>>>>>>\n",
      "<Logger gmake (DEBUG)>\n",
      "[<FileHandler /Users/Rui/Dropbox/Worklib/projects/GMaKE/examples/output/bx610_b6c3_uv_mc/gmake.log (DEBUG)>, <StreamHandler stderr (DEBUG)>]\n"
     ]
    }
   ],
   "source": [
    "import sys\n",
    "import glob\n",
    "import os\n",
    "import io\n",
    "import logging\n",
    "import emcee\n",
    "from pprint import pprint\n",
    "\n",
    "print(sys.version)\n",
    "\n",
    "\n",
    "import socket \n",
    "if  'hypersion' or 'mini' in socket.gethostname() :\n",
    "    os.chdir('/Users/Rui/Dropbox/Worklib/projects/GMaKE/examples/output/')\n",
    "print(socket.gethostname())\n",
    "print(os.getcwd())\n",
    "\n",
    "import gmake\n",
    "print(gmake.__version__)\n",
    "print(gmake.__email__)\n",
    "print(gmake.__demo__)\n",
    "gmake.check_deps()\n",
    "\n",
    "#inpfile=gmake.__demo__+'/../examples/inpfile/bx610_b4c5_uv_mc.inp'\n",
    "inpfile=gmake.__demo__+'/../examples/inpfile/bx610_b6c3_uv_mc.inp'\n",
    "logfile=''\n",
    "\n",
    "print('>'*40)\n",
    "#gmake.logger_config()\n",
    "#gmake.logger_status()\n",
    "#import pprint\n",
    "#pprint.pprint(logging.Logger.manager.loggerDict) \n",
    "gmake.logger_config()\n",
    "inp_dct=gmake.read_inp(inpfile)\n",
    "outdir=inp_dct['general']['outdir']\n",
    "gmake.logger_config(logfile=outdir+'/gmake.log',loglevel='DEBUG',logfilelevel='DEBUG')\n",
    "gmake.logger_status()\n"
   ]
  },
  {
   "cell_type": "code",
   "execution_count": 46,
   "metadata": {},
   "outputs": [
    {
     "name": "stderr",
     "output_type": "stream",
     "text": [
      "read data (may take some time..)\n",
      "\n",
      "Read: ../data/bx610/alma/2015.1.00250.S/bb2.ms\n",
      "\n",
      "data@../data/bx610/alma/2015.1.00250.S/bb2.ms                (56354, 238)         102 MiB             \n",
      "uvw@../data/bx610/alma/2015.1.00250.S/bb2.ms                 (56354, 3)           661 KiB             \n",
      "weight@../data/bx610/alma/2015.1.00250.S/bb2.ms              (56354,)             220 KiB             161.43835\n",
      "chanfreq@../data/bx610/alma/2015.1.00250.S/bb2.ms            (238,)       250.7529 GHz   252.6043 GHz\n",
      "chanwidth@../data/bx610/alma/2015.1.00250.S/bb2.ms           (238,)         7.8118 MHz     7.8118 MHz\n",
      "phasecenter@../data/bx610/alma/2015.1.00250.S/bb2.ms         23h46m09.44s  12d49m19.3s\n",
      "data flagging fraction: 0.0\n",
      "\n",
      "Read: ../data/bx610/alma/2015.1.00250.S/bb3.ms\n",
      "\n",
      "data@../data/bx610/alma/2015.1.00250.S/bb3.ms                (53466, 238)          97 MiB             \n",
      "uvw@../data/bx610/alma/2015.1.00250.S/bb3.ms                 (53466, 3)           627 KiB             \n",
      "weight@../data/bx610/alma/2015.1.00250.S/bb3.ms              (53466,)             209 KiB             187.34055\n",
      "chanfreq@../data/bx610/alma/2015.1.00250.S/bb3.ms            (238,)       233.2543 GHz   235.1058 GHz\n",
      "chanwidth@../data/bx610/alma/2015.1.00250.S/bb3.ms           (238,)        -7.8118 MHz    -7.8118 MHz\n",
      "phasecenter@../data/bx610/alma/2015.1.00250.S/bb3.ms         23h46m09.44s  12d49m19.3s\n",
      "data flagging fraction: 0.0\n",
      "\n",
      "Read: ../data/bx610/alma/2015.1.00250.S/bb1.mfs.ms\n",
      "\n",
      "data@../data/bx610/alma/2015.1.00250.S/bb1.mfs.ms            (56354, 1)           440 KiB             \n",
      "uvw@../data/bx610/alma/2015.1.00250.S/bb1.mfs.ms             (56354, 3)           661 KiB             \n",
      "weight@../data/bx610/alma/2015.1.00250.S/bb1.mfs.ms          (56354,)             220 KiB             35061.727\n",
      "chanfreq@../data/bx610/alma/2015.1.00250.S/bb1.mfs.ms        (1,)         250.0734 GHz   250.0734 GHz\n",
      "chanwidth@../data/bx610/alma/2015.1.00250.S/bb1.mfs.ms       (1,)           1.8592 GHz     1.8592 GHz\n",
      "phasecenter@../data/bx610/alma/2015.1.00250.S/bb1.mfs.ms     23h46m09.44s  12d49m19.3s\n",
      "data flagging fraction: 0.0\n",
      "\n",
      "Read: ../data/bx610/alma/2015.1.00250.S/bb4.mfs.ms\n",
      "\n",
      "data@../data/bx610/alma/2015.1.00250.S/bb4.mfs.ms            (56354, 1)           440 KiB             \n",
      "uvw@../data/bx610/alma/2015.1.00250.S/bb4.mfs.ms             (56354, 3)           661 KiB             \n",
      "weight@../data/bx610/alma/2015.1.00250.S/bb4.mfs.ms          (56354,)             220 KiB             48239.17\n",
      "chanfreq@../data/bx610/alma/2015.1.00250.S/bb4.mfs.ms        (1,)         235.8799 GHz   235.8799 GHz\n",
      "chanwidth@../data/bx610/alma/2015.1.00250.S/bb4.mfs.ms       (1,)          -1.8592 GHz    -1.8592 GHz\n",
      "phasecenter@../data/bx610/alma/2015.1.00250.S/bb4.mfs.ms     23h46m09.44s  12d49m19.3s\n",
      "data flagging fraction: 0.0\n",
      "--------------------------------------------------------------------------------\n",
      "--- dat_dct size 203.68 Mibyte ---\n",
      "--- took 1.93229  seconds ---\n",
      "--- save to: bx610_b6c3_uv_mc/dat_dct.h5\n"
     ]
    }
   ],
   "source": [
    "dat_dct=gmake.read_data(inp_dct,fill_mask=True,fill_error=True,save_data=True)"
   ]
  },
  {
   "cell_type": "code",
   "execution_count": 47,
   "metadata": {},
   "outputs": [
    {
     "name": "stdout",
     "output_type": "stream",
     "text": [
      "{'bx610-dynamics': {'disk_rs': 1.0, 'disk_sd': 5000000000.0, 'halo_mvir': 0.5},\n",
      " 'ci21': {'inc': 44.06318834223217,\n",
      "          'intflux': 0.6493000000000002,\n",
      "          'method': 'disk3d',\n",
      "          'note': 'CI21 of BX610 in BB2',\n",
      "          'object': 'bx610',\n",
      "          'pa': -52.40943192318819,\n",
      "          'restfreq': 809.34197,\n",
      "          'sbser': [0.1877150243974696, 1.0],\n",
      "          'type': 'disk3d',\n",
      "          'vdis': [50.82245315749322,\n",
      "                   50.82245315749322,\n",
      "                   50.82245315749322,\n",
      "                   50.82245315749322,\n",
      "                   50.82245315749322],\n",
      "          'vis': '../data/bx610/alma/2015.1.00250.S/bb2.ms',\n",
      "          'vrad': [0, 0.12, 0.24, 0.36, 0.48],\n",
      "          'vrot': [0.0,\n",
      "                   197.03794217978916,\n",
      "                   197.03794217978916,\n",
      "                   197.03794217978916,\n",
      "                   197.03794217978916],\n",
      "          'vsys': 117.49374310082439,\n",
      "          'xypos': [356.53932590540563, 12.82201818705264],\n",
      "          'z': 2.21},\n",
      " 'co76': {'inc': 44.06318834223217,\n",
      "          'intflux': 1.3025216968324846,\n",
      "          'method': 'disk3d',\n",
      "          'note': 'CO76 of BX610 in BB2',\n",
      "          'object': 'bx610',\n",
      "          'pa': -52.40943192318819,\n",
      "          'restfreq': 806.65181,\n",
      "          'sbser': [0.21709427769626433, 1.0],\n",
      "          'type': 'disk3d',\n",
      "          'vdis': [50.82245315749322,\n",
      "                   50.82245315749322,\n",
      "                   50.82245315749322,\n",
      "                   50.82245315749322,\n",
      "                   50.82245315749322],\n",
      "          'vis': '../data/bx610/alma/2015.1.00250.S/bb2.ms',\n",
      "          'vrad': [0, 0.12, 0.24, 0.36, 0.48],\n",
      "          'vrot': [0.0,\n",
      "                   197.03794217978916,\n",
      "                   197.03794217978916,\n",
      "                   197.03794217978916,\n",
      "                   197.03794217978916],\n",
      "          'vsys': 117.49374310082439,\n",
      "          'xypos': [356.53932590540563, 12.82201818705264],\n",
      "          'z': 2.21},\n",
      " 'cont': {'alpha': 3.7183180041434882,\n",
      "          'inc': 44.06318834223217,\n",
      "          'intflux': 0.001752223593649019,\n",
      "          'method': 'disk2d',\n",
      "          'note': 'submm cont of BX610 in BB-1/2/3/4',\n",
      "          'object': 'bx610',\n",
      "          'pa': -52.40943192318819,\n",
      "          'restfreq': 251.6825177459,\n",
      "          'sbser': [0.11831161996700099, 1.0],\n",
      "          'type': 'disk2d',\n",
      "          'vdis': [50.82245315749322,\n",
      "                   50.82245315749322,\n",
      "                   50.82245315749322,\n",
      "                   50.82245315749322,\n",
      "                   50.82245315749322],\n",
      "          'vis': '../data/bx610/alma/2015.1.00250.S/bb1.mfs.ms,../data/bx610/alma/2015.1.00250.S/bb2.ms,../data/bx610/alma/2015.1.00250.S/bb3.ms,../data/bx610/alma/2015.1.00250.S/bb4.mfs.ms',\n",
      "          'vrad': [0, 0.12, 0.24, 0.36, 0.48],\n",
      "          'vrot': [0.0,\n",
      "                   197.03794217978916,\n",
      "                   197.03794217978916,\n",
      "                   197.03794217978916,\n",
      "                   197.03794217978916],\n",
      "          'vsys': 117.49374310082439,\n",
      "          'xypos': [356.53932590540563, 12.82201818705264],\n",
      "          'z': 2.21},\n",
      " 'general': {'outdir': 'bx610_b6c3_uv_mc',\n",
      "             'outname_exclude': ['cube.', 'mfs.', 'cube3.'],\n",
      "             'outname_replace': [('../data/bx610/alma/2015.1.00250.S/',\n",
      "                                  'b6c3_')]},\n",
      " 'h2o': {'inc': 44.06318834223217,\n",
      "         'intflux': 0.3832031813648053,\n",
      "         'method': 'disk3d',\n",
      "         'note': 'H2O of BX610 in BB3',\n",
      "         'object': 'bx610',\n",
      "         'pa': -52.40943192318819,\n",
      "         'restfreq': 752.03314,\n",
      "         'sbser': [0.1675906051028018, 1.0],\n",
      "         'type': 'disk3d',\n",
      "         'vdis': [50.82245315749322,\n",
      "                  50.82245315749322,\n",
      "                  50.82245315749322,\n",
      "                  50.82245315749322,\n",
      "                  50.82245315749322],\n",
      "         'vis': '../data/bx610/alma/2015.1.00250.S/bb3.ms',\n",
      "         'vrad': [0, 0.12, 0.24, 0.36, 0.48],\n",
      "         'vrot': [0.0,\n",
      "                  197.03794217978916,\n",
      "                  197.03794217978916,\n",
      "                  197.03794217978916,\n",
      "                  197.03794217978916],\n",
      "         'vsys': 117.49374310082439,\n",
      "         'xypos': [356.53932590540563, 12.82201818705264],\n",
      "         'z': 2.21}}\n"
     ]
    }
   ],
   "source": [
    "inp_dct=gmake.read_inp(inpfile)\n",
    "pprint(gmake.gmake_utils.inp2mod(inp_dct))"
   ]
  },
  {
   "cell_type": "code",
   "execution_count": 58,
   "metadata": {},
   "outputs": [
    {
     "name": "stderr",
     "output_type": "stream",
     "text": [
      "++++++++++++++++++++++++++++++++++++++++++++++++++++++++++++++++++++++++++++++++++++++++++\n",
      "optimizer: emcee\n",
      "optimizing parameters: index / name / start / lo_limit / up_limit / scale\n",
      " 0   vsys@bx610-basics          117.49      (    -120.00   ,     280.00     )     40.00     \n",
      " 1   vrot[1:5]@bx610-basics     197.04      (     0.00     ,     800.00     )     40.00     \n",
      " 2   vdis[0:5]@bx610-basics      50.82      (     0.00     ,     800.00     )     10.00     \n",
      " 3   pa@bx610-basics            -52.41      (    -132.41   ,      27.59     )     5.00      \n",
      " 4   inc@bx610-basics            44.06      (     5.00     ,      85.00     )     5.00      \n",
      " 5   xypos[0]@bx610-basics    356.5393259   (  356.5390481 ,   356.5396037  )   0.0000389   \n",
      " 6   xypos[1]@bx610-basics    12.8220182    (  12.8217404  ,   12.8222960   )   0.0000389   \n",
      " 7   intflux@co76                1.30       (     0.10     ,     200.00     )     0.05      \n",
      " 8   sbser[0]@co76               0.22       (     0.01     ,      1.00      )     0.01      \n",
      " 9   intflux@ci21                0.65       (     0.10     ,     200.00     )     0.01      \n",
      " 10  sbser[0]@ci21               0.19       (     0.01     ,      1.00      )     0.01      \n",
      " 11  intflux@h2o                 0.38       (     0.10     ,     200.00     )     0.01      \n",
      " 12  sbser[0]@h2o                0.17       (     0.01     ,      1.00      )     0.01      \n",
      " 13  intflux@cont                0.00       (     0.00     ,      0.01      )     0.01      \n",
      " 14  sbser[0]@cont               0.12       (     0.01     ,      0.30      )     0.01      \n",
      " 15  alpha@cont                  3.72       (     3.00     ,      4.50      )     0.10      \n",
      " 16  pa@cont                     12.06      (    -47.94    ,      72.06     )     5.00      \n",
      " 17  inc@cont                    27.53      (     0.00     ,      45.00     )     5.00      \n",
      "++++++++++++++++++++++++++++++++++++++++++++++++++++++++++++++++++++++++++++++++++++++++++\n",
      "nwalkers:40\n",
      "nthreads:1\n",
      "ndim:    18\n",
      "outdir:  bx610_b6c3_uv_mc\n",
      "one trial                                          : 0.82398  seconds\n",
      "ndata->26249868.0\n",
      "chisq->66853555.1396716\n",
      "export the model set:                  bx610_b6c3_uv_mc                  (may take some time..)\n",
      " \n",
      "-->data_b6c3_bb2.ms\n",
      " \n",
      "imod2d@../data/bx610/alma/2015.1.00250.S/bb2.ms\n",
      "write reference model image: \n",
      "    imod2d@../data/bx610/alma/2015.1.00250.S/bb2.ms to bx610_b6c3_uv_mc/imod2d_b6c3_bb2.fits\n",
      "imod3d@../data/bx610/alma/2015.1.00250.S/bb2.ms\n",
      "write reference model image: \n",
      "    imod3d@../data/bx610/alma/2015.1.00250.S/bb2.ms to bx610_b6c3_uv_mc/imod3d_b6c3_bb2.fits\n",
      "pbeam@../data/bx610/alma/2015.1.00250.S/bb2.ms\n",
      "write reference model image: \n",
      "    pbeam@../data/bx610/alma/2015.1.00250.S/bb2.ms to bx610_b6c3_uv_mc/pbeam_b6c3_bb2.fits\n",
      "write reference model profile: \n",
      "    imod3d_prof@co76@../data/bx610/alma/2015.1.00250.S/bb2.ms to bx610_b6c3_uv_mc/imodrp_co76_b6c3_bb2.fits\n",
      "write reference model profile: \n",
      "    imod3d_prof@ci21@../data/bx610/alma/2015.1.00250.S/bb2.ms to bx610_b6c3_uv_mc/imodrp_ci21_b6c3_bb2.fits\n"
     ]
    },
    {
     "name": "stdout",
     "output_type": "stream",
     "text": [
      "bx610_b6c3_uv_mc\n",
      "['cube.', 'mfs.', 'cube3.']\n",
      "[('../data/bx610/alma/2015.1.00250.S/', 'b6c3_')]\n"
     ]
    },
    {
     "name": "stderr",
     "output_type": "stream",
     "text": [
      "copy ms container: \n",
      "    ../data/bx610/alma/2015.1.00250.S/bb2.ms  to  bx610_b6c3_uv_mc/model_b6c3_bb2.ms\n",
      "write ms column: \n",
      "    uvmodel@../data/bx610/alma/2015.1.00250.S/bb2.ms to data@bx610_b6c3_uv_mc/model_b6c3_bb2.ms\n",
      "create symlink:\n",
      "    /Users/Rui/Dropbox/Worklib/projects/GMaKE/examples/data/bx610/alma/2015.1.00250.S/bb2.ms  to  bx610_b6c3_uv_mc/data_b6c3_bb2.ms\n",
      " \n",
      "-->data_b6c3_bb3.ms\n",
      " \n",
      "imod2d@../data/bx610/alma/2015.1.00250.S/bb3.ms\n",
      "write reference model image: \n",
      "    imod2d@../data/bx610/alma/2015.1.00250.S/bb3.ms to bx610_b6c3_uv_mc/imod2d_b6c3_bb3.fits\n",
      "imod3d@../data/bx610/alma/2015.1.00250.S/bb3.ms\n",
      "write reference model image: \n",
      "    imod3d@../data/bx610/alma/2015.1.00250.S/bb3.ms to bx610_b6c3_uv_mc/imod3d_b6c3_bb3.fits\n",
      "pbeam@../data/bx610/alma/2015.1.00250.S/bb3.ms\n",
      "write reference model image: \n",
      "    pbeam@../data/bx610/alma/2015.1.00250.S/bb3.ms to bx610_b6c3_uv_mc/pbeam_b6c3_bb3.fits\n",
      "write reference model profile: \n",
      "    imod3d_prof@h2o@../data/bx610/alma/2015.1.00250.S/bb3.ms to bx610_b6c3_uv_mc/imodrp_h2o_b6c3_bb3.fits\n",
      "copy ms container: \n",
      "    ../data/bx610/alma/2015.1.00250.S/bb3.ms  to  bx610_b6c3_uv_mc/model_b6c3_bb3.ms\n",
      "write ms column: \n",
      "    uvmodel@../data/bx610/alma/2015.1.00250.S/bb3.ms to data@bx610_b6c3_uv_mc/model_b6c3_bb3.ms\n",
      "create symlink:\n",
      "    /Users/Rui/Dropbox/Worklib/projects/GMaKE/examples/data/bx610/alma/2015.1.00250.S/bb3.ms  to  bx610_b6c3_uv_mc/data_b6c3_bb3.ms\n",
      " \n",
      "-->data_b6c3_bb1.ms\n",
      " \n",
      "imod2d@../data/bx610/alma/2015.1.00250.S/bb1.mfs.ms\n",
      "write reference model image: \n",
      "    imod2d@../data/bx610/alma/2015.1.00250.S/bb1.mfs.ms to bx610_b6c3_uv_mc/imod2d_b6c3_bb1.fits\n",
      "imod3d@../data/bx610/alma/2015.1.00250.S/bb1.mfs.ms\n",
      "write reference model image: \n",
      "    imod3d@../data/bx610/alma/2015.1.00250.S/bb1.mfs.ms to bx610_b6c3_uv_mc/imod3d_b6c3_bb1.fits\n",
      "pbeam@../data/bx610/alma/2015.1.00250.S/bb1.mfs.ms\n",
      "write reference model image: \n",
      "    pbeam@../data/bx610/alma/2015.1.00250.S/bb1.mfs.ms to bx610_b6c3_uv_mc/pbeam_b6c3_bb1.fits\n",
      "copy ms container: \n",
      "    ../data/bx610/alma/2015.1.00250.S/bb1.mfs.ms  to  bx610_b6c3_uv_mc/model_b6c3_bb1.ms\n",
      "write ms column: \n",
      "    uvmodel@../data/bx610/alma/2015.1.00250.S/bb1.mfs.ms to data@bx610_b6c3_uv_mc/model_b6c3_bb1.ms\n",
      "create symlink:\n",
      "    /Users/Rui/Dropbox/Worklib/projects/GMaKE/examples/data/bx610/alma/2015.1.00250.S/bb1.mfs.ms  to  bx610_b6c3_uv_mc/data_b6c3_bb1.ms\n",
      " \n",
      "-->data_b6c3_bb4.ms\n",
      " \n",
      "imod2d@../data/bx610/alma/2015.1.00250.S/bb4.mfs.ms\n",
      "write reference model image: \n",
      "    imod2d@../data/bx610/alma/2015.1.00250.S/bb4.mfs.ms to bx610_b6c3_uv_mc/imod2d_b6c3_bb4.fits\n",
      "imod3d@../data/bx610/alma/2015.1.00250.S/bb4.mfs.ms\n",
      "write reference model image: \n",
      "    imod3d@../data/bx610/alma/2015.1.00250.S/bb4.mfs.ms to bx610_b6c3_uv_mc/imod3d_b6c3_bb4.fits\n",
      "pbeam@../data/bx610/alma/2015.1.00250.S/bb4.mfs.ms\n",
      "write reference model image: \n",
      "    pbeam@../data/bx610/alma/2015.1.00250.S/bb4.mfs.ms to bx610_b6c3_uv_mc/pbeam_b6c3_bb4.fits\n",
      "copy ms container: \n",
      "    ../data/bx610/alma/2015.1.00250.S/bb4.mfs.ms  to  bx610_b6c3_uv_mc/model_b6c3_bb4.ms\n",
      "write ms column: \n",
      "    uvmodel@../data/bx610/alma/2015.1.00250.S/bb4.mfs.ms to data@bx610_b6c3_uv_mc/model_b6c3_bb4.ms\n",
      "create symlink:\n",
      "    /Users/Rui/Dropbox/Worklib/projects/GMaKE/examples/data/bx610/alma/2015.1.00250.S/bb4.mfs.ms  to  bx610_b6c3_uv_mc/data_b6c3_bb4.ms\n",
      "--------------------------------------------------------------------------------\n",
      "--- took 4.75281  seconds ---\n",
      "save the model input parameter: bx610_b6c3_uv_mc/model.inp\n"
     ]
    }
   ],
   "source": [
    "from gmake import model_lnprob\n",
    "fit_dct,sampler=gmake.fit_setup(inp_dct,dat_dct)\n",
    "lnl,blobs=model_lnprob(fit_dct['p_start'],fit_dct,inp_dct,dat_dct,\n",
    "                               savemodel=inp_dct['general']['outdir'],packblobs=True)\n",
    "\n",
    "#print(type(blobs))\n",
    "#print(np.shape(blobs))"
   ]
  },
  {
   "cell_type": "code",
   "execution_count": 54,
   "metadata": {},
   "outputs": [
    {
     "ename": "NameError",
     "evalue": "name 'blobs' is not defined",
     "output_type": "error",
     "traceback": [
      "\u001b[0;31m---------------------------------------------------------------------------\u001b[0m",
      "\u001b[0;31mNameError\u001b[0m                                 Traceback (most recent call last)",
      "\u001b[0;32m<ipython-input-54-f0192a255a23>\u001b[0m in \u001b[0;36m<module>\u001b[0;34m\u001b[0m\n\u001b[0;32m----> 1\u001b[0;31m \u001b[0mblobs\u001b[0m\u001b[0;34m.\u001b[0m\u001b[0mitem\u001b[0m\u001b[0;34m(\u001b[0m\u001b[0;34m)\u001b[0m\u001b[0;34m[\u001b[0m\u001b[0;34m'npar'\u001b[0m\u001b[0;34m]\u001b[0m\u001b[0;34m\u001b[0m\u001b[0;34m\u001b[0m\u001b[0m\n\u001b[0m",
      "\u001b[0;31mNameError\u001b[0m: name 'blobs' is not defined"
     ]
    }
   ],
   "source": [
    "blobs.item()['npar']"
   ]
  },
  {
   "cell_type": "code",
   "execution_count": null,
   "metadata": {},
   "outputs": [],
   "source": [
    "gmake.fit_iterate(fit_dct,sampler,nstep=inp_dct['optimize']['niter'])"
   ]
  },
  {
   "cell_type": "code",
   "execution_count": null,
   "metadata": {},
   "outputs": [],
   "source": [
    "gmake.fit_analyze(inpfile)"
   ]
  },
  {
   "cell_type": "code",
   "execution_count": 40,
   "metadata": {},
   "outputs": [],
   "source": [
    "import astropy.units as u"
   ]
  },
  {
   "cell_type": "code",
   "execution_count": 41,
   "metadata": {},
   "outputs": [],
   "source": [
    "x=1.0*u.deg"
   ]
  },
  {
   "cell_type": "code",
   "execution_count": 43,
   "metadata": {},
   "outputs": [
    {
     "ename": "AttributeError",
     "evalue": "module 'astropy.units' has no attribute 'FITS'",
     "output_type": "error",
     "traceback": [
      "\u001b[0;31m---------------------------------------------------------------------------\u001b[0m",
      "\u001b[0;31mAttributeError\u001b[0m                            Traceback (most recent call last)",
      "\u001b[0;32m<ipython-input-43-ffddda05c498>\u001b[0m in \u001b[0;36m<module>\u001b[0;34m\u001b[0m\n\u001b[0;32m----> 1\u001b[0;31m \u001b[0mx\u001b[0m\u001b[0;34m.\u001b[0m\u001b[0mto\u001b[0m\u001b[0;34m(\u001b[0m\u001b[0munit\u001b[0m\u001b[0;34m=\u001b[0m\u001b[0mu\u001b[0m\u001b[0;34m.\u001b[0m\u001b[0mFITS\u001b[0m\u001b[0;34m)\u001b[0m\u001b[0;34m\u001b[0m\u001b[0;34m\u001b[0m\u001b[0m\n\u001b[0m",
      "\u001b[0;31mAttributeError\u001b[0m: module 'astropy.units' has no attribute 'FITS'"
     ]
    }
   ],
   "source": [
    "x.to(unit=u.FITS)"
   ]
  },
  {
   "cell_type": "code",
   "execution_count": null,
   "metadata": {},
   "outputs": [],
   "source": []
  }
 ],
 "metadata": {
  "kernelspec": {
   "display_name": "Python 3",
   "language": "python",
   "name": "python3"
  },
  "language_info": {
   "codemirror_mode": {
    "name": "ipython",
    "version": 3
   },
   "file_extension": ".py",
   "mimetype": "text/x-python",
   "name": "python",
   "nbconvert_exporter": "python",
   "pygments_lexer": "ipython3",
   "version": "3.7.5"
  }
 },
 "nbformat": 4,
 "nbformat_minor": 4
}
