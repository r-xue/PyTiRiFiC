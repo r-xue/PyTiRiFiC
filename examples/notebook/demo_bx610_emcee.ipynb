{
 "cells": [
  {
   "cell_type": "markdown",
   "metadata": {},
   "source": [
    "[![Open In Colab](https://colab.research.google.com/assets/colab-badge.svg)](https://colab.research.google.com/github/r-xue/casa_proc/blob/master/demo/test_casaproc.ipynb)\n",
    "\n",
    "## Example BX610: perform model fitting using method='emcee'"
   ]
  },
  {
   "cell_type": "code",
   "execution_count": 5,
   "metadata": {},
   "outputs": [
    {
     "name": "stderr",
     "output_type": "stream",
     "text": [
      "astropy            >=3.2.2      3.2.2       \n",
      "emcee              >=3.0.0      3.0.0       \n",
      "corner             >=2.0        2.0.1       \n",
      "tqdm               unspecified  4.31.1      \n",
      "lmfit              unspecified  0.9.12      \n",
      "asteval            >=0.9.14     0.9.14      \n",
      "numexpr            >=2.7.0      2.7.0       \n",
      "hickle             unspecified  3.4.5       \n",
      "alpy               unspecified  0.22.0      \n",
      "regions            unspecified  0.3         \n",
      "scipy              unspecified  1.2.1       \n",
      "reproject          unspecified  0.6.dev644  \n",
      "python-casacore    >=3.1.1      3.1.1       \n",
      "scikit-image       unspecified  0.14.2      \n",
      "galpy              unspecified  1.5.dev0    \n",
      "mkl-fft            unspecified  1.0.14      \n",
      "pvextractor        >=0.2.dev327 0.2.dev327  \n",
      "spectral-cube      >=0.4.5.dev  0.4.5.dev2235\n",
      "radio-beam         >=0.3        0.3.3.dev397\n",
      "reproject          >=0.6.dev    0.6.dev644  \n",
      "casa-proc          unspecified  0.1.dev3    \n"
     ]
    },
    {
     "name": "stdout",
     "output_type": "stream",
     "text": [
      "3.7.5 (default, Oct 16 2019, 09:38:04) \n",
      "[Clang 11.0.0 (clang-1100.0.33.8)]\n",
      "hyperion\n",
      "/Users/Rui/Dropbox/Worklib/projects/GMaKE/examples/output\n",
      "0.2.dev1\n",
      "rx.astro@gmail.com\n",
      "/Users/Rui/Dropbox/Worklib/projects/GMaKE/gmake\n",
      ">>>>>>>>>>>>>>>>>>>>>>>>>>>>>>>>>>>>>>>>\n",
      "<Logger gmake (DEBUG)>\n",
      "[<FileHandler /Users/Rui/Dropbox/Worklib/projects/GMaKE/examples/output/bx610_band6_uv_mc/gmake.log (DEBUG)>, <StreamHandler stderr (DEBUG)>]\n"
     ]
    }
   ],
   "source": [
    "import sys\n",
    "import glob\n",
    "import os\n",
    "import io\n",
    "import logging\n",
    "import emcee\n",
    "from pprint import pprint\n",
    "\n",
    "print(sys.version)\n",
    "\n",
    "\n",
    "import socket \n",
    "if  'hypersion' or 'mini' in socket.gethostname() :\n",
    "    os.chdir('/Users/Rui/Dropbox/Worklib/projects/GMaKE/examples/output/')\n",
    "print(socket.gethostname())\n",
    "print(os.getcwd())\n",
    "\n",
    "import gmake\n",
    "print(gmake.__version__)\n",
    "print(gmake.__email__)\n",
    "print(gmake.__demo__)\n",
    "gmake.check_deps()\n",
    "\n",
    "inpfile=gmake.__demo__+'/../examples/inpfile/bx610_band6_uv_mc.inp'\n",
    "logfile=''\n",
    "\n",
    "print('>'*40)\n",
    "#gmake.logger_config()\n",
    "#gmake.logger_status()\n",
    "#import pprint\n",
    "#pprint.pprint(logging.Logger.manager.loggerDict) \n",
    "gmake.logger_config()\n",
    "inp_dct=gmake.read_inp(inpfile)\n",
    "outdir=inp_dct['general']['outdir']\n",
    "gmake.logger_config(logfile=outdir+'/gmake.log',loglevel='DEBUG',logfilelevel='DEBUG')\n",
    "gmake.logger_status()\n"
   ]
  },
  {
   "cell_type": "code",
   "execution_count": 22,
   "metadata": {},
   "outputs": [
    {
     "name": "stderr",
     "output_type": "stream",
     "text": [
      "read data (may take some time..)\n",
      "\n",
      "Read: ../data/bx610/alma/2015.1.00250.S/bb2.ms\n",
      "\n",
      "data@../data/bx610/alma/2015.1.00250.S/bb2.ms                (56354, 238)         102 MiB             \n",
      "uvw@../data/bx610/alma/2015.1.00250.S/bb2.ms                 (56354, 3)           661 KiB             \n",
      "weight@../data/bx610/alma/2015.1.00250.S/bb2.ms              (56354,)             220 KiB             161.43835\n",
      "chanfreq@../data/bx610/alma/2015.1.00250.S/bb2.ms            (238,)                 250.7529 GHz   252.6043 GHz\n",
      "chanfreq@../data/bx610/alma/2015.1.00250.S/bb2.ms            (238,)                   7.8118 MHz     7.8118 MHz\n",
      "phasecenter@../data/bx610/alma/2015.1.00250.S/bb2.ms>>[356.53933333  12.82202778]\n",
      "\n",
      "Read: ../data/bx610/alma/2015.1.00250.S/bb3.ms\n",
      "\n",
      "data@../data/bx610/alma/2015.1.00250.S/bb3.ms                (53466, 238)          97 MiB             \n",
      "uvw@../data/bx610/alma/2015.1.00250.S/bb3.ms                 (53466, 3)           627 KiB             \n",
      "weight@../data/bx610/alma/2015.1.00250.S/bb3.ms              (53466,)             209 KiB             187.34055\n",
      "chanfreq@../data/bx610/alma/2015.1.00250.S/bb3.ms            (238,)                 233.2543 GHz   235.1058 GHz\n",
      "chanfreq@../data/bx610/alma/2015.1.00250.S/bb3.ms            (238,)                  -7.8118 MHz    -7.8118 MHz\n",
      "phasecenter@../data/bx610/alma/2015.1.00250.S/bb3.ms>>[356.53933333  12.82202778]\n",
      "\n",
      "Read: ../data/bx610/alma/2015.1.00250.S/bb1.mfs.ms\n",
      "\n",
      "data@../data/bx610/alma/2015.1.00250.S/bb1.mfs.ms            (56354, 1)           440 KiB             \n",
      "uvw@../data/bx610/alma/2015.1.00250.S/bb1.mfs.ms             (56354, 3)           661 KiB             \n",
      "weight@../data/bx610/alma/2015.1.00250.S/bb1.mfs.ms          (56354,)             220 KiB             35061.727\n",
      "chanfreq@../data/bx610/alma/2015.1.00250.S/bb1.mfs.ms        (1,)                   250.0734 GHz   250.0734 GHz\n",
      "chanfreq@../data/bx610/alma/2015.1.00250.S/bb1.mfs.ms        (1,)                     1.8592 GHz     1.8592 GHz\n",
      "phasecenter@../data/bx610/alma/2015.1.00250.S/bb1.mfs.ms>>[356.53933333  12.82202778]\n",
      "\n",
      "Read: ../data/bx610/alma/2015.1.00250.S/bb4.mfs.ms\n",
      "\n",
      "data@../data/bx610/alma/2015.1.00250.S/bb4.mfs.ms            (56354, 1)           440 KiB             \n",
      "uvw@../data/bx610/alma/2015.1.00250.S/bb4.mfs.ms             (56354, 3)           661 KiB             \n",
      "weight@../data/bx610/alma/2015.1.00250.S/bb4.mfs.ms          (56354,)             220 KiB             48239.17\n",
      "chanfreq@../data/bx610/alma/2015.1.00250.S/bb4.mfs.ms        (1,)                   235.8799 GHz   235.8799 GHz\n",
      "chanfreq@../data/bx610/alma/2015.1.00250.S/bb4.mfs.ms        (1,)                    -1.8592 GHz    -1.8592 GHz\n",
      "phasecenter@../data/bx610/alma/2015.1.00250.S/bb4.mfs.ms>>[356.53933333  12.82202778]\n",
      "--------------------------------------------------------------------------------\n",
      "--- dat_dct size 203.67 Mibyte ---\n",
      "--- took 1.54203  seconds ---\n"
     ]
    }
   ],
   "source": [
    "dat_dct=gmake.read_data(inp_dct,fill_mask=True,fill_error=True)"
   ]
  },
  {
   "cell_type": "code",
   "execution_count": 37,
   "metadata": {},
   "outputs": [
    {
     "name": "stdout",
     "output_type": "stream",
     "text": [
      "{'bx610-dynamics': {'disk_rs': 1.0, 'disk_sd': 5000000000.0, 'halo_mvir': 0.5},\n",
      " 'ci2-1': {'inc': 44.06318834223217,\n",
      "           'intflux': 0.6493000000000002,\n",
      "           'note': 'CI21 of BX610 in BB2',\n",
      "           'object': 'bx610',\n",
      "           'pa': -52.40943192318819,\n",
      "           'restfreq': 809.34197,\n",
      "           'sbser': [0.1877150243974696, 1.0],\n",
      "           'type': 'disk3d',\n",
      "           'vdis': [50.82245315749322,\n",
      "                    50.82245315749322,\n",
      "                    50.82245315749322,\n",
      "                    50.82245315749322,\n",
      "                    50.82245315749322],\n",
      "           'vis': '../data/bx610/alma/2015.1.00250.S/bb2.ms',\n",
      "           'vrad': [0, 0.12, 0.24, 0.36, 0.48],\n",
      "           'vrot': [0.0,\n",
      "                    197.03794217978916,\n",
      "                    197.03794217978916,\n",
      "                    197.03794217978916,\n",
      "                    197.03794217978916],\n",
      "           'vsys': 117.49374310082439,\n",
      "           'xypos': [356.53932590540563, 12.82201818705264],\n",
      "           'z': 2.21},\n",
      " 'co7-6': {'inc': 44.06318834223217,\n",
      "           'intflux': 1.3025216968324846,\n",
      "           'note': 'CO76 of BX610 in BB2',\n",
      "           'object': 'bx610',\n",
      "           'pa': -52.40943192318819,\n",
      "           'restfreq': 806.65181,\n",
      "           'sbser': [0.21709427769626433, 1.0],\n",
      "           'type': 'disk3d',\n",
      "           'vdis': [50.82245315749322,\n",
      "                    50.82245315749322,\n",
      "                    50.82245315749322,\n",
      "                    50.82245315749322,\n",
      "                    50.82245315749322],\n",
      "           'vis': '../data/bx610/alma/2015.1.00250.S/bb2.ms',\n",
      "           'vrad': [0, 0.12, 0.24, 0.36, 0.48],\n",
      "           'vrot': [0.0,\n",
      "                    197.03794217978916,\n",
      "                    197.03794217978916,\n",
      "                    197.03794217978916,\n",
      "                    197.03794217978916],\n",
      "           'vsys': 117.49374310082439,\n",
      "           'xypos': [356.53932590540563, 12.82201818705264],\n",
      "           'z': 2.21},\n",
      " 'continuum': {'alpha': 3.7183180041434882,\n",
      "               'inc': 44.06318834223217,\n",
      "               'intflux': 0.001752223593649019,\n",
      "               'note': 'submm cont of BX610 in BB-1/2/3/4',\n",
      "               'object': 'bx610',\n",
      "               'pa': -52.40943192318819,\n",
      "               'restfreq': 251.6825177459,\n",
      "               'sbser': [0.11831161996700099, 1.0],\n",
      "               'type': 'disk2d',\n",
      "               'vdis': [50.82245315749322,\n",
      "                        50.82245315749322,\n",
      "                        50.82245315749322,\n",
      "                        50.82245315749322,\n",
      "                        50.82245315749322],\n",
      "               'vis': '../data/bx610/alma/2015.1.00250.S/bb1.mfs.ms,../data/bx610/alma/2015.1.00250.S/bb2.ms,../data/bx610/alma/2015.1.00250.S/bb3.ms,../data/bx610/alma/2015.1.00250.S/bb4.mfs.ms',\n",
      "               'vrad': [0, 0.12, 0.24, 0.36, 0.48],\n",
      "               'vrot': [0.0,\n",
      "                        197.03794217978916,\n",
      "                        197.03794217978916,\n",
      "                        197.03794217978916,\n",
      "                        197.03794217978916],\n",
      "               'vsys': 117.49374310082439,\n",
      "               'xypos': [356.53932590540563, 12.82201818705264],\n",
      "               'z': 2.21},\n",
      " 'general': {'outdir': 'bx610_band6_uv_mc',\n",
      "             'outname_exclude': ['cube.', 'mfs.', 'cube3.'],\n",
      "             'outname_replace': [('../data/bx610/alma/2015.1.00250.S/',\n",
      "                                  'b6_')]},\n",
      " 'h2o': {'inc': 44.06318834223217,\n",
      "         'intflux': 0.3832031813648053,\n",
      "         'note': 'H2O of BX610 in BB3',\n",
      "         'object': 'bx610',\n",
      "         'pa': -52.40943192318819,\n",
      "         'restfreq': 752.03314,\n",
      "         'sbser': [0.1675906051028018, 1.0],\n",
      "         'type': 'disk3d',\n",
      "         'vdis': [50.82245315749322,\n",
      "                  50.82245315749322,\n",
      "                  50.82245315749322,\n",
      "                  50.82245315749322,\n",
      "                  50.82245315749322],\n",
      "         'vis': '../data/bx610/alma/2015.1.00250.S/bb3.ms',\n",
      "         'vrad': [0, 0.12, 0.24, 0.36, 0.48],\n",
      "         'vrot': [0.0,\n",
      "                  197.03794217978916,\n",
      "                  197.03794217978916,\n",
      "                  197.03794217978916,\n",
      "                  197.03794217978916],\n",
      "         'vsys': 117.49374310082439,\n",
      "         'xypos': [356.53932590540563, 12.82201818705264],\n",
      "         'z': 2.21}}\n"
     ]
    }
   ],
   "source": [
    "inp_dct=gmake.read_inp(inpfile)\n",
    "pprint(gmake.gmake_utils.inp2mod(inp_dct))"
   ]
  },
  {
   "cell_type": "code",
   "execution_count": 39,
   "metadata": {},
   "outputs": [
    {
     "ename": "KeyError",
     "evalue": "'co76'",
     "output_type": "error",
     "traceback": [
      "\u001b[0;31m---------------------------------------------------------------------------\u001b[0m",
      "\u001b[0;31mKeyError\u001b[0m                                  Traceback (most recent call last)",
      "\u001b[0;32m<ipython-input-39-741f59a96c03>\u001b[0m in \u001b[0;36m<module>\u001b[0;34m\u001b[0m\n\u001b[1;32m      1\u001b[0m \u001b[0;32mfrom\u001b[0m \u001b[0mgmake\u001b[0m \u001b[0;32mimport\u001b[0m \u001b[0mmodel_lnprob\u001b[0m\u001b[0;34m\u001b[0m\u001b[0;34m\u001b[0m\u001b[0m\n\u001b[0;32m----> 2\u001b[0;31m \u001b[0mfit_dct\u001b[0m\u001b[0;34m,\u001b[0m\u001b[0msampler\u001b[0m\u001b[0;34m=\u001b[0m\u001b[0mgmake\u001b[0m\u001b[0;34m.\u001b[0m\u001b[0mfit_setup\u001b[0m\u001b[0;34m(\u001b[0m\u001b[0minp_dct\u001b[0m\u001b[0;34m,\u001b[0m\u001b[0mdat_dct\u001b[0m\u001b[0;34m)\u001b[0m\u001b[0;34m\u001b[0m\u001b[0;34m\u001b[0m\u001b[0m\n\u001b[0m\u001b[1;32m      3\u001b[0m lnl,blobs=model_lnprob(fit_dct['p_start'],fit_dct,inp_dct,dat_dct,\n\u001b[1;32m      4\u001b[0m                                savemodel='')\n\u001b[1;32m      5\u001b[0m \u001b[0;34m\u001b[0m\u001b[0m\n",
      "\u001b[0;32m~/Dropbox/Worklib/projects/GMaKE/gmake/fit_utils.py\u001b[0m in \u001b[0;36mfit_setup\u001b[0;34m(inp_dct, dat_dct, initial_model, copydata)\u001b[0m\n\u001b[1;32m     20\u001b[0m         \u001b[0mfit_dct\u001b[0m\u001b[0;34m=\u001b[0m\u001b[0mamoeba_setup\u001b[0m\u001b[0;34m(\u001b[0m\u001b[0minp_dct\u001b[0m\u001b[0;34m,\u001b[0m\u001b[0mdat_dct\u001b[0m\u001b[0;34m)\u001b[0m\u001b[0;34m\u001b[0m\u001b[0;34m\u001b[0m\u001b[0m\n\u001b[1;32m     21\u001b[0m     \u001b[0;32mif\u001b[0m  \u001b[0;34m'emcee'\u001b[0m \u001b[0;32min\u001b[0m \u001b[0minp_dct\u001b[0m\u001b[0;34m[\u001b[0m\u001b[0;34m'optimize'\u001b[0m\u001b[0;34m]\u001b[0m\u001b[0;34m[\u001b[0m\u001b[0;34m'method'\u001b[0m\u001b[0;34m]\u001b[0m\u001b[0;34m:\u001b[0m\u001b[0;34m\u001b[0m\u001b[0;34m\u001b[0m\u001b[0m\n\u001b[0;32m---> 22\u001b[0;31m         \u001b[0mfit_dct\u001b[0m\u001b[0;34m,\u001b[0m\u001b[0msampler\u001b[0m\u001b[0;34m=\u001b[0m\u001b[0memcee_setup\u001b[0m\u001b[0;34m(\u001b[0m\u001b[0minp_dct\u001b[0m\u001b[0;34m,\u001b[0m\u001b[0mdat_dct\u001b[0m\u001b[0;34m)\u001b[0m\u001b[0;34m\u001b[0m\u001b[0;34m\u001b[0m\u001b[0m\n\u001b[0m\u001b[1;32m     23\u001b[0m     \u001b[0;32mif\u001b[0m  \u001b[0;34m'lmfit'\u001b[0m \u001b[0;32min\u001b[0m \u001b[0minp_dct\u001b[0m\u001b[0;34m[\u001b[0m\u001b[0;34m'optimize'\u001b[0m\u001b[0;34m]\u001b[0m\u001b[0;34m[\u001b[0m\u001b[0;34m'method'\u001b[0m\u001b[0;34m]\u001b[0m\u001b[0;34m:\u001b[0m\u001b[0;34m\u001b[0m\u001b[0;34m\u001b[0m\u001b[0m\n\u001b[1;32m     24\u001b[0m         \u001b[0mfit_dct\u001b[0m\u001b[0;34m=\u001b[0m\u001b[0mlmfit_setup\u001b[0m\u001b[0;34m(\u001b[0m\u001b[0minp_dct\u001b[0m\u001b[0;34m,\u001b[0m\u001b[0mdat_dct\u001b[0m\u001b[0;34m)\u001b[0m\u001b[0;34m\u001b[0m\u001b[0;34m\u001b[0m\u001b[0m\n",
      "\u001b[0;32m~/Dropbox/Worklib/projects/GMaKE/gmake/fit_emcee.py\u001b[0m in \u001b[0;36memcee_setup\u001b[0;34m(inp_dct, dat_dct)\u001b[0m\n\u001b[1;32m     56\u001b[0m         \u001b[0;31m#fit_dct['p_name']=np.append(fit_dct['p_name'],[p_name])\u001b[0m\u001b[0;34m\u001b[0m\u001b[0;34m\u001b[0m\u001b[0;34m\u001b[0m\u001b[0m\n\u001b[1;32m     57\u001b[0m         \u001b[0mfit_dct\u001b[0m\u001b[0;34m[\u001b[0m\u001b[0;34m'p_name'\u001b[0m\u001b[0;34m]\u001b[0m\u001b[0;34m.\u001b[0m\u001b[0mappend\u001b[0m\u001b[0;34m(\u001b[0m\u001b[0mp_name\u001b[0m\u001b[0;34m)\u001b[0m\u001b[0;34m\u001b[0m\u001b[0;34m\u001b[0m\u001b[0m\n\u001b[0;32m---> 58\u001b[0;31m         \u001b[0mfit_dct\u001b[0m\u001b[0;34m[\u001b[0m\u001b[0;34m'p_start'\u001b[0m\u001b[0;34m]\u001b[0m\u001b[0;34m=\u001b[0m\u001b[0mnp\u001b[0m\u001b[0;34m.\u001b[0m\u001b[0mappend\u001b[0m\u001b[0;34m(\u001b[0m\u001b[0mfit_dct\u001b[0m\u001b[0;34m[\u001b[0m\u001b[0;34m'p_start'\u001b[0m\u001b[0;34m]\u001b[0m\u001b[0;34m,\u001b[0m\u001b[0mnp\u001b[0m\u001b[0;34m.\u001b[0m\u001b[0mmean\u001b[0m\u001b[0;34m(\u001b[0m\u001b[0mread_par\u001b[0m\u001b[0;34m(\u001b[0m\u001b[0minp_dct\u001b[0m\u001b[0;34m,\u001b[0m\u001b[0mp_name\u001b[0m\u001b[0;34m)\u001b[0m\u001b[0;34m)\u001b[0m\u001b[0;34m)\u001b[0m\u001b[0;34m\u001b[0m\u001b[0;34m\u001b[0m\u001b[0m\n\u001b[0m\u001b[1;32m     59\u001b[0m \u001b[0;34m\u001b[0m\u001b[0m\n\u001b[1;32m     60\u001b[0m         \u001b[0;32mif\u001b[0m  \u001b[0mopt_dct\u001b[0m\u001b[0;34m[\u001b[0m\u001b[0mp_name\u001b[0m\u001b[0;34m]\u001b[0m\u001b[0;34m[\u001b[0m\u001b[0;36m0\u001b[0m\u001b[0;34m]\u001b[0m\u001b[0;34m==\u001b[0m\u001b[0;34m'a'\u001b[0m \u001b[0;32mor\u001b[0m \u001b[0mopt_dct\u001b[0m\u001b[0;34m[\u001b[0m\u001b[0mp_name\u001b[0m\u001b[0;34m]\u001b[0m\u001b[0;34m[\u001b[0m\u001b[0;36m0\u001b[0m\u001b[0;34m]\u001b[0m\u001b[0;34m==\u001b[0m\u001b[0;34m'r'\u001b[0m \u001b[0;32mor\u001b[0m \u001b[0mopt_dct\u001b[0m\u001b[0;34m[\u001b[0m\u001b[0mp_name\u001b[0m\u001b[0;34m]\u001b[0m\u001b[0;34m[\u001b[0m\u001b[0;36m0\u001b[0m\u001b[0;34m]\u001b[0m\u001b[0;34m==\u001b[0m\u001b[0;34m'o'\u001b[0m\u001b[0;34m:\u001b[0m\u001b[0;34m\u001b[0m\u001b[0;34m\u001b[0m\u001b[0m\n",
      "\u001b[0;32m~/Dropbox/Worklib/projects/GMaKE/gmake/gmake_utils.py\u001b[0m in \u001b[0;36mread_par\u001b[0;34m(inp_dct, par_name)\u001b[0m\n\u001b[1;32m    538\u001b[0m         \u001b[0mp_key\u001b[0m\u001b[0;34m=\u001b[0m\u001b[0mpo_key\u001b[0m\u001b[0;34m[\u001b[0m\u001b[0;36m0\u001b[0m\u001b[0;34m]\u001b[0m\u001b[0;34m\u001b[0m\u001b[0;34m\u001b[0m\u001b[0m\n\u001b[1;32m    539\u001b[0m         \u001b[0mo_key\u001b[0m\u001b[0;34m=\u001b[0m\u001b[0mpo_key\u001b[0m\u001b[0;34m[\u001b[0m\u001b[0;36m1\u001b[0m\u001b[0;34m]\u001b[0m\u001b[0;34m\u001b[0m\u001b[0;34m\u001b[0m\u001b[0m\n\u001b[0;32m--> 540\u001b[0;31m         \u001b[0;32mreturn\u001b[0m \u001b[0minp_dct\u001b[0m\u001b[0;34m[\u001b[0m\u001b[0mo_key\u001b[0m\u001b[0;34m]\u001b[0m\u001b[0;34m[\u001b[0m\u001b[0mp_key\u001b[0m\u001b[0;34m]\u001b[0m\u001b[0;34m\u001b[0m\u001b[0;34m\u001b[0m\u001b[0m\n\u001b[0m\u001b[1;32m    541\u001b[0m     \u001b[0;32melse\u001b[0m\u001b[0;34m:\u001b[0m\u001b[0;34m\u001b[0m\u001b[0;34m\u001b[0m\u001b[0m\n\u001b[1;32m    542\u001b[0m         \u001b[0mp_key\u001b[0m\u001b[0;34m=\u001b[0m\u001b[0;34m(\u001b[0m\u001b[0mpo_key\u001b[0m\u001b[0;34m[\u001b[0m\u001b[0;36m0\u001b[0m\u001b[0;34m]\u001b[0m\u001b[0;34m.\u001b[0m\u001b[0msplit\u001b[0m\u001b[0;34m(\u001b[0m\u001b[0;34m\"[\"\u001b[0m\u001b[0;34m)\u001b[0m\u001b[0;34m)\u001b[0m\u001b[0;34m[\u001b[0m\u001b[0;36m0\u001b[0m\u001b[0;34m]\u001b[0m\u001b[0;34m\u001b[0m\u001b[0;34m\u001b[0m\u001b[0m\n",
      "\u001b[0;31mKeyError\u001b[0m: 'co76'"
     ]
    }
   ],
   "source": [
    "from gmake import model_lnprob\n",
    "fit_dct,sampler=gmake.fit_setup(inp_dct,dat_dct)\n",
    "lnl,blobs=model_lnprob(fit_dct['p_start'],fit_dct,inp_dct,dat_dct,\n",
    "                               savemodel='')\n",
    "\n",
    "print(type(blobs))\n",
    "print(np.shape(blobs))"
   ]
  },
  {
   "cell_type": "code",
   "execution_count": null,
   "metadata": {},
   "outputs": [],
   "source": [
    "blobs.item()['npar']"
   ]
  },
  {
   "cell_type": "code",
   "execution_count": null,
   "metadata": {},
   "outputs": [],
   "source": [
    "gmake.fit_iterate(fit_dct,sampler,nstep=inp_dct['optimize']['niter'])"
   ]
  },
  {
   "cell_type": "code",
   "execution_count": null,
   "metadata": {},
   "outputs": [],
   "source": [
    "gmake.fit_analyze(inpfile)"
   ]
  },
  {
   "cell_type": "code",
   "execution_count": 5,
   "metadata": {},
   "outputs": [],
   "source": []
  },
  {
   "cell_type": "code",
   "execution_count": null,
   "metadata": {},
   "outputs": [],
   "source": []
  }
 ],
 "metadata": {
  "kernelspec": {
   "display_name": "Python 3",
   "language": "python",
   "name": "python3"
  },
  "language_info": {
   "codemirror_mode": {
    "name": "ipython",
    "version": 3
   },
   "file_extension": ".py",
   "mimetype": "text/x-python",
   "name": "python",
   "nbconvert_exporter": "python",
   "pygments_lexer": "ipython3",
   "version": "3.7.5"
  }
 },
 "nbformat": 4,
 "nbformat_minor": 4
}
