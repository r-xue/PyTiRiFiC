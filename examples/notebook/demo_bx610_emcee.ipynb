{
 "cells": [
  {
   "cell_type": "markdown",
   "metadata": {},
   "source": [
    "[![Open In Colab](https://colab.research.google.com/assets/colab-badge.svg)](https://colab.research.google.com/github/r-xue/casa_proc/blob/master/demo/test_casaproc.ipynb)\n",
    "\n",
    "## Example BX610: perform model fitting using method='emcee'"
   ]
  },
  {
   "cell_type": "code",
   "execution_count": 1,
   "metadata": {},
   "outputs": [
    {
     "name": "stdout",
     "output_type": "stream",
     "text": [
      "3.7.5 (default, Oct 19 2019, 11:15:26) \n",
      "[Clang 11.0.0 (clang-1100.0.33.8)]\n",
      "hyperion\n",
      "/Users/Rui/Dropbox/Worklib/projects/GMaKE/examples/output\n",
      "**********exe read_inp()**************\n"
     ]
    },
    {
     "name": "stderr",
     "output_type": "stream",
     "text": [
      "astropy            >=3.2.2      3.2.2       \n",
      "emcee              >=3.0.0      3.0.1       \n",
      "corner             >=2.0        2.0.1       \n",
      "tqdm               unspecified  4.31.1      \n",
      "lmfit              unspecified  0.9.12      \n",
      "asteval            >=0.9.14     0.9.14      \n",
      "numexpr            >=2.7.0      2.7.0       \n",
      "hickle             unspecified  3.4.5       \n",
      "alpy               unspecified  0.22.0      \n",
      "regions            unspecified  0.5.dev1001 \n",
      "scipy              unspecified  1.2.1       \n",
      "reproject          unspecified  0.6.dev646  \n",
      "python-casacore    >=3.1.1      3.1.1       \n",
      "scikit-image       unspecified  0.14.2      \n",
      "galpy              unspecified  1.5.dev0    \n",
      "mkl-fft            unspecified  1.0.14      \n",
      "pvextractor        >=0.2.dev327 0.2.dev327  \n",
      "spectral-cube      >=0.4.5.dev  0.4.5.dev2267\n",
      "radio-beam         >=0.3        0.3.3.dev397\n",
      "reproject          >=0.6.dev    0.6.dev646  \n",
      "casa-proc          unspecified  0.1.dev3    \n"
     ]
    },
    {
     "name": "stdout",
     "output_type": "stream",
     "text": [
      "0.2.dev1\n",
      "rx.astro@gmail.com\n",
      "/Users/Rui/Dropbox/Worklib/projects/GMaKE/gmake\n",
      ">>>>>>>>>>>>>>>>>>>>>>>>>>>>>>>>>>>>>>>>\n",
      "**********exe read_inp()**************\n",
      "<Logger gmake (DEBUG)>\n",
      "[<FileHandler /Users/Rui/Dropbox/Worklib/projects/GMaKE/examples/output/bx610_b6c3_uv_mc/gmake.log (DEBUG)>, <StreamHandler stderr (DEBUG)>]\n",
      "{'basics': {'object': 'bx610',\n",
      "            'z': 2.21,\n",
      "            'pa': <Quantity -52.4 deg>,\n",
      "            'inc': <Quantity 44.06 deg>,\n",
      "            'xypos': <SkyCoord (ICRS): (ra, dec) in deg\n",
      "    (356.53932583, 12.82201819)>,\n",
      "            'vsys': <Quantity 117.5 km / s>,\n",
      "            'vrad': <Quantity [0.  , 0.12, 0.24, 0.36, 0.48] arcsec>,\n",
      "            'vrot': <Quantity [  0.        , 197.03794218, 197.03794218, 197.03794218,\n",
      "           197.03794218] km / s>,\n",
      "            'vdis': <Quantity [50.82245316, 50.82245316, 50.82245316, 50.82245316, 50.82245316] km / s>},\n",
      " 'dynamics   (not implemented yet)': {'disk_sd': <Quantity 5.e+09 solMass / kpc2>,\n",
      "                                      'disk_rs': <Quantity 1. kpc>,\n",
      "                                      'halo_mvir': <Quantity 5.e+11 solMass>},\n",
      " 'co76': {'type': 'disk3d',\n",
      "          'import': 'basics',\n",
      "          'note': 'CO76 of BX610 in BB2',\n",
      "          'vis': '../data/bx610/alma/2015.1.00250.S/bb2.ms',\n",
      "          'restfreq': <Quantity 806.65181 GHz>,\n",
      "          'lineflux': <Quantity 1.3025217 Jy km / s>,\n",
      "          'sbser': [<Quantity 0.21709428 arcsec>, 1.0]},\n",
      " 'ci21': {'type': 'disk3d',\n",
      "          'import': 'basics',\n",
      "          'note': 'CI21 of BX610 in BB2',\n",
      "          'vis': '../data/bx610/alma/2015.1.00250.S/bb2.ms',\n",
      "          'restfreq': <Quantity 809.34197 GHz>,\n",
      "          'lineflux': <Quantity 0.6493 Jy km / s>,\n",
      "          'sbser': [<Quantity 0.18771502 arcsec>, 1.0]},\n",
      " 'h2o': {'type': 'disk3d',\n",
      "         'import': 'basics',\n",
      "         'note': 'H2O of BX610 in BB3',\n",
      "         'vis': '../data/bx610/alma/2015.1.00250.S/bb3.ms',\n",
      "         'restfreq': <Quantity 752.03314 GHz>,\n",
      "         'lineflux': <Quantity 0.38320318 Jy km / s>,\n",
      "         'sbser': [<Quantity 0.16759061 arcsec>, 1.0]},\n",
      " 'cont': {'type': 'disk2d',\n",
      "          'import': 'basics',\n",
      "          'note': 'submm cont of BX610 in BB-1/2/3/4',\n",
      "          'vis': '../data/bx610/alma/2015.1.00250.S/bb1.mfs.ms,../data/bx610/alma/2015.1.00250.S/bb2.ms,../data/bx610/alma/2015.1.00250.S/bb3.ms,../data/bx610/alma/2015.1.00250.S/bb4.mfs.ms',\n",
      "          'pa': <Quantity 12.05551076 deg>,\n",
      "          'inc': <Quantity 27.53227189 deg>,\n",
      "          'restfreq': <Quantity 251.68251775 GHz>,\n",
      "          'alpha': 3.7183180041434882,\n",
      "          'contflux': <Quantity 0.00175222 Jy>,\n",
      "          'sbser': [<Quantity 0.11831162 arcsec>, 1.0]},\n",
      " 'optimize': {'vsys@basics': ('a', <Quantity [-120.,  280.,   40.] km / s>),\n",
      "              'vrot[1:5]@basics': ('a', <Quantity [  0., 800.,  40.] km / s>),\n",
      "              'vdis[0:5]@basics': ('a', <Quantity [  0., 200.,  10.] km / s>),\n",
      "              'xypos.ra@basics': ('o', <Quantity [-1. ,  1. ,  0.1] arcsec>),\n",
      "              'xypos.dec@basics': ('o', <Quantity [-1. ,  1. ,  0.1] arcsec>),\n",
      "              'method': 'emcee',\n",
      "              'niter': 100,\n",
      "              'nwalkers': 20},\n",
      " 'general': {'outdir': 'bx610_b6c3_uv_mc',\n",
      "             'outname_replace': [('../data/bx610/alma/2015.1.00250.S/',\n",
      "                                  'b6c3_')],\n",
      "             'outname_exclude': ['cube.', 'mfs.', 'cube3.']}}\n"
     ]
    }
   ],
   "source": [
    "import sys\n",
    "import glob\n",
    "import os\n",
    "import io\n",
    "import logging\n",
    "import emcee\n",
    "from pprint import pprint\n",
    "\n",
    "print(sys.version)\n",
    "\n",
    "\n",
    "import socket \n",
    "if  'hypersion' or 'mini' in socket.gethostname() :\n",
    "    os.chdir('/Users/Rui/Dropbox/Worklib/projects/GMaKE/examples/output/')\n",
    "print(socket.gethostname())\n",
    "print(os.getcwd())\n",
    "\n",
    "import gmake\n",
    "print(gmake.__version__)\n",
    "print(gmake.__email__)\n",
    "print(gmake.__demo__)\n",
    "gmake.check_deps()\n",
    "\n",
    "#inpfile=gmake.__demo__+'/../examples/inpfile/bx610_b4c5_uv_mc.inp'\n",
    "inpfile=gmake.__demo__+'/../examples/inpfile/bx610_b6c3_uv_mc.inp'\n",
    "logfile=''\n",
    "\n",
    "print('>'*40)\n",
    "#gmake.logger_config()\n",
    "#gmake.logger_status()\n",
    "#import pprint\n",
    "#pprint.pprint(logging.Logger.manager.loggerDict) \n",
    "gmake.logger_config()\n",
    "inp_dct=gmake.read_inp(inpfile)\n",
    "outdir=inp_dct['general']['outdir']\n",
    "gmake.logger_config(logfile=outdir+'/gmake.log',loglevel='DEBUG',logfilelevel='DEBUG')\n",
    "gmake.logger_status()\n",
    "gmake.pprint(inp_dct)\n",
    "inp_dct=gmake.inp_validate(inp_dct)"
   ]
  },
  {
   "cell_type": "raw",
   "metadata": {},
   "source": [
    "dat_dct=gmake.read_data(inp_dct,fill_mask=True,fill_error=True,save_data=True)"
   ]
  },
  {
   "cell_type": "raw",
   "metadata": {},
   "source": [
    "from gmake import model_lnprob\n",
    "#import gmake\n",
    "\n",
    "#mod_dct=gmake.inp2mod(inp_dct)\n",
    "#gmake.pprint(mod_dct)\n",
    "#obj_dct=gmake.obj_defunit(mod_dct['co76'])\n",
    "#gmake.pprint(obj_dct)\n",
    "inp_dct=gmake.read_inp(inpfile)\n",
    "fit_dct=gmake.fit_setup(inp_dct,dat_dct)\n",
    "gmake.fit_iterate(fit_dct,inp_dct,dat_dct)\n",
    "\n",
    "#lnl,blobs=model_lnprob(fit_dct['p_start'],fit_dct,inp_dct,dat_dct,\n",
    "#                               savemodel=inp_dct['general']['outdir'],packblobs=True)\n",
    "#\n",
    "#import numpy as np\n",
    "#print(type(blobs))\n",
    "#print(np.shape(blobs))"
   ]
  },
  {
   "cell_type": "code",
   "execution_count": 2,
   "metadata": {},
   "outputs": [
    {
     "name": "stderr",
     "output_type": "stream",
     "text": [
      "++++++++++++++++++++++++++++++++++++++++++++++++++++++++++++++++++++++++++++++++++++++++++\n",
      ">>>  vsys@basics:\n",
      " median(sigma) = 149.16      -99.80      -70.84      82.17       126.46     \n",
      " median(ptile) = 149.16      49.36       78.32       231.33      275.62     \n",
      " start(iscale) = 117.50     /2.38       \n",
      " mode          = 94.35      \n",
      ">>>  vrot[1:5]@basics:\n",
      " median(sigma) = 242.03           -214.42          -152.68          338.48           463.74          \n",
      " median(ptile) = 242.03           27.61            89.35            580.51           705.77          \n",
      " start(iscale) = 197.04          /6.03            \n",
      " mode          = 199.54          \n",
      ">>>  vdis[0:5]@basics:\n",
      " median(sigma) = 65.87            -63.34           -48.12           73.44            120.69          \n",
      " median(ptile) = 65.87            2.53             17.75            139.30           186.56          \n",
      " start(iscale) = 50.82           /1.49            \n",
      " mode          = 10.80           \n"
     ]
    },
    {
     "name": "stdout",
     "output_type": "stream",
     "text": [
      "**********exe read_inp()**************\n"
     ]
    },
    {
     "name": "stderr",
     "output_type": "stream",
     "text": [
      ">>>  xypos.ra@basics:\n",
      " median(sigma) = 356.5393255     -0.0000009      -0.0000005      0.0000005       0.0000009      \n",
      " median(ptile) = 356.5393255     356.5393246     356.5393249     356.5393260     356.5393263    \n",
      " start(iscale) = 356.5393258    /0.0000028      \n",
      " mode          = 356.5393258    \n",
      ">>>  xypos.dec@basics:\n",
      " median(sigma) = 12.8220191       -0.0000009       -0.0000004       0.0000005        0.0000010       \n",
      " median(ptile) = 12.8220191       12.8220182       12.8220187       12.8220196       12.8220200      \n",
      " start(iscale) = 12.8220182      /0.0000028       \n",
      " mode          = 12.8220189      \n",
      "------------------------------------------------------------------------------------------\n",
      "analyzing outfolder:bx610_b6c3_uv_mc\n",
      "plotting...bx610_b6c3_uv_mc/emcee-iteration.pdf\n",
      "analyzing outfolder:bx610_b6c3_uv_mc\n",
      "plotting...bx610_b6c3_uv_mc/emcee-iteration-blobs.pdf\n",
      "plotting...bx610_b6c3_uv_mc/line-triangle.pdf\n",
      "input data size:(1000, 5)\n",
      "Took 1.1343879699707031 seconds\n",
      "/Users/Rui/Library/Python/3.7/lib/python/site-packages/hickle/hickle.py:403: SerializedWarning: <class 'astropy.units.core.CompositeUnit'> type not understood, data have been serialized\n",
      "  SerializedWarning)\n",
      "/Users/Rui/Library/Python/3.7/lib/python/site-packages/hickle/hickle.py:403: SerializedWarning: <class 'astropy.units.core.Unit'> type not understood, data have been serialized\n",
      "  SerializedWarning)\n",
      "--- save to: bx610_b6c3_uv_mc/fit.h5\n"
     ]
    }
   ],
   "source": [
    "gmake.fit_analyze(inpfile)"
   ]
  },
  {
   "cell_type": "code",
   "execution_count": null,
   "metadata": {},
   "outputs": [],
   "source": []
  }
 ],
 "metadata": {
  "kernelspec": {
   "display_name": "Python 3",
   "language": "python",
   "name": "python3"
  },
  "language_info": {
   "codemirror_mode": {
    "name": "ipython",
    "version": 3
   },
   "file_extension": ".py",
   "mimetype": "text/x-python",
   "name": "python",
   "nbconvert_exporter": "python",
   "pygments_lexer": "ipython3",
   "version": "3.7.5"
  }
 },
 "nbformat": 4,
 "nbformat_minor": 4
}
