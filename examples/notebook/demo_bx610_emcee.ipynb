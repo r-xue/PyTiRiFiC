{
 "cells": [
  {
   "cell_type": "markdown",
   "metadata": {},
   "source": [
    "[![Open In Colab](https://colab.research.google.com/assets/colab-badge.svg)](https://colab.research.google.com/github/r-xue/casa_proc/blob/master/demo/test_casaproc.ipynb)\n",
    "\n",
    "## Example BX610: perform model fitting using method='emcee'"
   ]
  },
  {
   "cell_type": "code",
   "execution_count": 5,
   "metadata": {},
   "outputs": [
    {
     "name": "stderr",
     "output_type": "stream",
     "text": [
      "astropy            >=3.2.2      3.2.2       \n",
      "emcee              >=3.0.0      3.0.0       \n",
      "corner             >=2.0        2.0.1       \n",
      "tqdm               unspecified  4.31.1      \n",
      "lmfit              unspecified  0.9.12      \n",
      "asteval            >=0.9.14     0.9.14      \n",
      "numexpr            >=2.7.0      2.7.0       \n",
      "hickle             unspecified  3.4.5       \n",
      "alpy               unspecified  0.22.0      \n",
      "regions            unspecified  0.3         \n",
      "scipy              unspecified  1.2.1       \n",
      "reproject          unspecified  0.6.dev644  \n",
      "python-casacore    >=3.1.1      3.1.1       \n",
      "scikit-image       unspecified  0.14.2      \n",
      "galpy              unspecified  1.5.dev0    \n",
      "mkl-fft            unspecified  1.0.14      \n",
      "pvextractor        >=0.2.dev327 0.2.dev327  \n",
      "spectral-cube      >=0.4.5.dev  0.4.5.dev2235\n",
      "radio-beam         >=0.3        0.3.3.dev397\n",
      "reproject          >=0.6.dev    0.6.dev644  \n",
      "casa-proc          unspecified  0.1.dev3    \n"
     ]
    },
    {
     "name": "stdout",
     "output_type": "stream",
     "text": [
      "3.7.5 (default, Oct 16 2019, 09:38:04) \n",
      "[Clang 11.0.0 (clang-1100.0.33.8)]\n",
      "hyperion\n",
      "/Users/Rui/Dropbox/Worklib/projects/GMaKE/examples/output\n",
      "0.2.dev1\n",
      "rx.astro@gmail.com\n",
      "/Users/Rui/Dropbox/Worklib/projects/GMaKE/gmake\n",
      ">>>>>>>>>>>>>>>>>>>>>>>>>>>>>>>>>>>>>>>>\n",
      "<Logger gmake (DEBUG)>\n",
      "[<FileHandler /Users/Rui/Dropbox/Worklib/projects/GMaKE/examples/output/bx610_band6_uv_mc/gmake.log (DEBUG)>, <StreamHandler stderr (DEBUG)>]\n"
     ]
    }
   ],
   "source": [
    "import sys\n",
    "import glob\n",
    "import os\n",
    "import io\n",
    "import logging\n",
    "import emcee\n",
    "from pprint import pprint\n",
    "\n",
    "print(sys.version)\n",
    "\n",
    "\n",
    "import socket \n",
    "if  'hypersion' or 'mini' in socket.gethostname() :\n",
    "    os.chdir('/Users/Rui/Dropbox/Worklib/projects/GMaKE/examples/output/')\n",
    "print(socket.gethostname())\n",
    "print(os.getcwd())\n",
    "\n",
    "import gmake\n",
    "print(gmake.__version__)\n",
    "print(gmake.__email__)\n",
    "print(gmake.__demo__)\n",
    "gmake.check_deps()\n",
    "\n",
    "inpfile=gmake.__demo__+'/../examples/inpfile/bx610_band6_uv_mc.inp'\n",
    "logfile=''\n",
    "\n",
    "print('>'*40)\n",
    "#gmake.logger_config()\n",
    "#gmake.logger_status()\n",
    "#import pprint\n",
    "#pprint.pprint(logging.Logger.manager.loggerDict) \n",
    "gmake.logger_config()\n",
    "inp_dct=gmake.read_inp(inpfile)\n",
    "outdir=inp_dct['general']['outdir']\n",
    "gmake.logger_config(logfile=outdir+'/gmake.log',loglevel='DEBUG',logfilelevel='DEBUG')\n",
    "gmake.logger_status()\n"
   ]
  },
  {
   "cell_type": "code",
   "execution_count": 19,
   "metadata": {},
   "outputs": [
    {
     "name": "stderr",
     "output_type": "stream",
     "text": [
      "read data (may take some time..)\n",
      "\n",
      "Read: ../data/bx610/alma/2015.1.00250.S/bb2.ms\n",
      "\n",
      "data@../data/bx610/alma/2015.1.00250.S/bb2.ms                (56354, 238)         102 MiB             \n",
      "uvw@../data/bx610/alma/2015.1.00250.S/bb2.ms                 (56354, 3)           661 KiB             \n",
      "weight@../data/bx610/alma/2015.1.00250.S/bb2.ms              (56354,)             220 KiB             161.43835\n",
      "chanfreq@../data/bx610/alma/2015.1.00250.S/bb2.ms            (238,)                 250.7529 GHz   252.6043 GHz\n",
      "chanfreq@../data/bx610/alma/2015.1.00250.S/bb2.ms            (238,)                   7.8118 MHz     7.8118 MHz\n",
      "phasecenter@../data/bx610/alma/2015.1.00250.S/bb2.ms>>[356.53933333  12.82202778]\n"
     ]
    },
    {
     "name": "stdout",
     "output_type": "stream",
     "text": [
      "250.7528594380543 GHz 252.60426423403908 GHz\n",
      "7.811834582214355 MHz 7.811834582214355 MHz\n"
     ]
    },
    {
     "name": "stderr",
     "output_type": "stream",
     "text": [
      "\n",
      "Read: ../data/bx610/alma/2015.1.00250.S/bb3.ms\n",
      "\n",
      "data@../data/bx610/alma/2015.1.00250.S/bb3.ms                (53466, 238)          97 MiB             \n",
      "uvw@../data/bx610/alma/2015.1.00250.S/bb3.ms                 (53466, 3)           627 KiB             \n",
      "weight@../data/bx610/alma/2015.1.00250.S/bb3.ms              (53466,)             209 KiB             187.34055\n",
      "chanfreq@../data/bx610/alma/2015.1.00250.S/bb3.ms            (238,)                 233.2543 GHz   235.1058 GHz\n",
      "chanfreq@../data/bx610/alma/2015.1.00250.S/bb3.ms            (238,)                  -7.8118 MHz    -7.8118 MHz\n",
      "phasecenter@../data/bx610/alma/2015.1.00250.S/bb3.ms>>[356.53933333  12.82202778]\n",
      "\n",
      "Read: ../data/bx610/alma/2015.1.00250.S/bb1.mfs.ms\n",
      "\n",
      "data@../data/bx610/alma/2015.1.00250.S/bb1.mfs.ms            (56354, 1)           440 KiB             \n",
      "uvw@../data/bx610/alma/2015.1.00250.S/bb1.mfs.ms             (56354, 3)           661 KiB             \n",
      "weight@../data/bx610/alma/2015.1.00250.S/bb1.mfs.ms          (56354,)             220 KiB             35061.727\n",
      "chanfreq@../data/bx610/alma/2015.1.00250.S/bb1.mfs.ms        (1,)                   250.0734 GHz   250.0734 GHz\n",
      "chanfreq@../data/bx610/alma/2015.1.00250.S/bb1.mfs.ms        (1,)                     1.8592 GHz     1.8592 GHz\n",
      "phasecenter@../data/bx610/alma/2015.1.00250.S/bb1.mfs.ms>>[356.53933333  12.82202778]\n",
      "\n",
      "Read: ../data/bx610/alma/2015.1.00250.S/bb4.mfs.ms\n",
      "\n",
      "data@../data/bx610/alma/2015.1.00250.S/bb4.mfs.ms            (56354, 1)           440 KiB             \n",
      "uvw@../data/bx610/alma/2015.1.00250.S/bb4.mfs.ms             (56354, 3)           661 KiB             \n",
      "weight@../data/bx610/alma/2015.1.00250.S/bb4.mfs.ms          (56354,)             220 KiB             48239.17\n",
      "chanfreq@../data/bx610/alma/2015.1.00250.S/bb4.mfs.ms        (1,)                   235.8799 GHz   235.8799 GHz\n",
      "chanfreq@../data/bx610/alma/2015.1.00250.S/bb4.mfs.ms        (1,)                    -1.8592 GHz    -1.8592 GHz\n",
      "phasecenter@../data/bx610/alma/2015.1.00250.S/bb4.mfs.ms>>[356.53933333  12.82202778]\n",
      "--------------------------------------------------------------------------------\n",
      "--- took 1.21518  seconds ---\n",
      "--- dat_dct size 203.66967391967773 Mibyte ---\n"
     ]
    },
    {
     "name": "stdout",
     "output_type": "stream",
     "text": [
      "233.25434997369425 GHz 235.10575476967907 GHz\n",
      "-7.811834582214355 MHz -7.811834582214355 MHz\n",
      "250.07337356705435 GHz 250.07337356705435 GHz\n",
      "1.859216630559723 GHz 1.859216630559723 GHz\n",
      "235.87990757677653 GHz 235.87990757677653 GHz\n",
      "-1.8592166305670168 GHz -1.8592166305670168 GHz\n"
     ]
    }
   ],
   "source": [
    "dat_dct=gmake.read_data(inp_dct,fill_mask=True,fill_error=True)"
   ]
  },
  {
   "cell_type": "code",
   "execution_count": 14,
   "metadata": {},
   "outputs": [
    {
     "data": {
      "text/plain": [
       "203.66967391967773"
      ]
     },
     "execution_count": 14,
     "metadata": {},
     "output_type": "execute_result"
    }
   ],
   "source": [
    "gmake.gmake_utils.get_obj_size(dat_dct)/1024/1024"
   ]
  },
  {
   "cell_type": "code",
   "execution_count": 6,
   "metadata": {},
   "outputs": [
    {
     "ename": "NameError",
     "evalue": "name 'fit_dct' is not defined",
     "output_type": "error",
     "traceback": [
      "\u001b[0;31m---------------------------------------------------------------------------\u001b[0m",
      "\u001b[0;31mNameError\u001b[0m                                 Traceback (most recent call last)",
      "\u001b[0;32m<ipython-input-6-aa0d98907ee6>\u001b[0m in \u001b[0;36m<module>\u001b[0;34m\u001b[0m\n\u001b[1;32m      1\u001b[0m \u001b[0;32mfrom\u001b[0m \u001b[0mgmake\u001b[0m \u001b[0;32mimport\u001b[0m \u001b[0mmodel_lnprob\u001b[0m\u001b[0;34m\u001b[0m\u001b[0;34m\u001b[0m\u001b[0m\n\u001b[0;32m----> 2\u001b[0;31m lnl,blobs=model_lnprob(fit_dct['p_start'],fit_dct,inp_dct,dat_dct,\n\u001b[0m\u001b[1;32m      3\u001b[0m                                savemodel='')\n\u001b[1;32m      4\u001b[0m \u001b[0;31m#fit_dct,sampler=gmake.fit_setup(inp_dct,dat_dct)\u001b[0m\u001b[0;34m\u001b[0m\u001b[0;34m\u001b[0m\u001b[0;34m\u001b[0m\u001b[0m\n\u001b[1;32m      5\u001b[0m \u001b[0mprint\u001b[0m\u001b[0;34m(\u001b[0m\u001b[0mtype\u001b[0m\u001b[0;34m(\u001b[0m\u001b[0mblobs\u001b[0m\u001b[0;34m)\u001b[0m\u001b[0;34m)\u001b[0m\u001b[0;34m\u001b[0m\u001b[0;34m\u001b[0m\u001b[0m\n",
      "\u001b[0;31mNameError\u001b[0m: name 'fit_dct' is not defined"
     ]
    }
   ],
   "source": [
    "from gmake import model_lnprob\n",
    "lnl,blobs=model_lnprob(fit_dct['p_start'],fit_dct,inp_dct,dat_dct,\n",
    "                               savemodel='')\n",
    "#fit_dct,sampler=gmake.fit_setup(inp_dct,dat_dct)\n",
    "print(type(blobs))\n",
    "print(np.shape(blobs))"
   ]
  },
  {
   "cell_type": "code",
   "execution_count": null,
   "metadata": {},
   "outputs": [],
   "source": [
    "blobs.item()['npar']"
   ]
  },
  {
   "cell_type": "code",
   "execution_count": null,
   "metadata": {},
   "outputs": [],
   "source": [
    "gmake.fit_iterate(fit_dct,sampler,nstep=inp_dct['optimize']['niter'])"
   ]
  },
  {
   "cell_type": "code",
   "execution_count": null,
   "metadata": {},
   "outputs": [],
   "source": [
    "gmake.fit_analyze(inpfile)"
   ]
  },
  {
   "cell_type": "code",
   "execution_count": 5,
   "metadata": {},
   "outputs": [],
   "source": []
  },
  {
   "cell_type": "code",
   "execution_count": null,
   "metadata": {},
   "outputs": [],
   "source": []
  }
 ],
 "metadata": {
  "kernelspec": {
   "display_name": "Python 3",
   "language": "python",
   "name": "python3"
  },
  "language_info": {
   "codemirror_mode": {
    "name": "ipython",
    "version": 3
   },
   "file_extension": ".py",
   "mimetype": "text/x-python",
   "name": "python",
   "nbconvert_exporter": "python",
   "pygments_lexer": "ipython3",
   "version": "3.7.5"
  }
 },
 "nbformat": 4,
 "nbformat_minor": 4
}
