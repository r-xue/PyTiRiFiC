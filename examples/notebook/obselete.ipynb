{
 "cells": [
  {
   "cell_type": "code",
   "execution_count": null,
   "metadata": {},
   "outputs": [],
   "source": [
    "\n",
    "# Import wurlitzer for display real-time console logs\n",
    "# ref: https://github.com/minrk/wurlitzer\n",
    "\n",
    "%load_ext wurlitzer\n",
    "# from wurlitzer import sys_pipes\n",
    "# with sys_pipes():\n",
    "#    ctasks.listobs(vis_name)\n",
    "\n",
    "\n",
    "# Import wurlitzer for display real-time console logs\n",
    "# ref: https://github.com/minrk/wurlitzer\n",
    "\n",
    "\n",
    "# from wurlitzer import sys_pipes\n",
    "# with sys_pipes():\n",
    "#    ctasks.listobs(vis_name)\n",
    "\n"
   ]
  }
 ],
 "metadata": {
  "kernelspec": {
   "display_name": "Python 3",
   "language": "python",
   "name": "python3"
  },
  "language_info": {
   "codemirror_mode": {
    "name": "ipython",
    "version": 3
   },
   "file_extension": ".py",
   "mimetype": "text/x-python",
   "name": "python",
   "nbconvert_exporter": "python",
   "pygments_lexer": "ipython3",
   "version": "3.7.4"
  }
 },
 "nbformat": 4,
 "nbformat_minor": 4
}
