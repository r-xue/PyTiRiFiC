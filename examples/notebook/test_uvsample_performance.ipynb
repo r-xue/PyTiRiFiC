{
 "cells": [
  {
   "cell_type": "code",
   "execution_count": 64,
   "metadata": {},
   "outputs": [
    {
     "name": "stderr",
     "output_type": "stream",
     "text": [
      "Python version:   3.7.4 (default, Sep  7 2019, 19:52:29) \n",
      "[Clang 10.0.1 (clang-1001.0.46.4)]\n",
      "Host Name:        hyperion\n",
      "Num of Core:      8\n",
      "Total Memory:     32.0 GB\n",
      "Available Memory: 9.64 GB\n",
      "################################################################################\n",
      "astropy            >=3.0        3.2.1       \n",
      "scikit-image       unspecified  0.14.2      \n",
      "alpy               unspecified  0.22.0      \n",
      "regions            unspecified  0.3         \n",
      "scipy              unspecified  1.2.1       \n",
      "reproject          unspecified  0.4         \n",
      "fitsio             unspecified  0.9.12      \n",
      "fits-tools         unspecified  0.2         \n",
      "yt                 unspecified  3.5.0       \n",
      "memory-profiler    unspecified  0.55.0      \n",
      "python-casacore    >=3.1.1      3.1.1       \n",
      "galpy              unspecified  1.5.dev0    \n",
      "reikna             unspecified  0.7.2       \n",
      "tqdm               unspecified  4.31.1      \n",
      "asteval            >=0.9.14     0.9.14      \n",
      "numexpr            >=2.6.9      2.6.9       \n",
      "pvextractor        unspecified  0.1         \n",
      "spectral-cube      unspecified  0.4.4.dev2011\n",
      "emcee              >=3.0rc2     3.0rc2      \n",
      "corner             >=2.0        2.0.1       \n",
      "lmfit              unspecified  0.9.12      \n",
      "mkl-fft            unspecified  1.0.14      \n",
      "pyyaml             unspecified  5.1         \n",
      "hickle             unspecified  3.4.5       \n",
      "casa-proc          unspecified  0.1.dev3    \n"
     ]
    },
    {
     "name": "stdout",
     "output_type": "stream",
     "text": [
      "3.7.4 (default, Sep  7 2019, 19:52:29) \n",
      "[Clang 10.0.1 (clang-1001.0.46.4)]\n",
      "hyperion\n",
      "/Users/Rui/Dropbox/Worklib/projects/GMaKE/examples/output\n",
      "0.1.dev3\n",
      "rx.astro@gmail.com\n",
      "/Users/Rui/Dropbox/Worklib/projects/GMaKE/gmake\n",
      ">>>>>>>>>>>>>>>>>>>>>>>>>>>>>>>>>>>>>>>>\n",
      "<Logger gmake (DEBUG)>\n",
      "[<FileHandler /Users/Rui/Dropbox/Worklib/projects/GMaKE/examples/output/bx610_band6_uv_mc/gmake.log (DEBUG)>, <StreamHandler stderr (DEBUG)>]\n"
     ]
    }
   ],
   "source": [
    "import sys\n",
    "import glob\n",
    "import os\n",
    "import io\n",
    "import logging\n",
    "import emcee\n",
    "from pprint import pprint\n",
    "\n",
    "print(sys.version)\n",
    "\n",
    "\n",
    "import socket \n",
    "if  'hypersion' or 'mini' in socket.gethostname() :\n",
    "    os.chdir('/Users/Rui/Dropbox/Worklib/projects/GMaKE/examples/output/')\n",
    "print(socket.gethostname())\n",
    "print(os.getcwd())\n",
    "\n",
    "import gmake\n",
    "print(gmake.__version__)\n",
    "print(gmake.__email__)\n",
    "print(gmake.__demo__)\n",
    "gmake.check_setup()\n",
    "\n",
    "inpfile=gmake.__demo__+'/../examples/inpfile/bx610_band6_uv_mc.inp'\n",
    "logfile=''\n",
    "\n",
    "print('>'*40)\n",
    "#gmake.logger_config()\n",
    "#gmake.logger_status()\n",
    "#import pprint\n",
    "#pprint.pprint(logging.Logger.manager.loggerDict) \n",
    "gmake.logger_config()\n",
    "inp_dct=gmake.read_inp(inpfile)\n",
    "outdir=inp_dct['optimize']['outdir']\n",
    "gmake.logger_config(logfile=outdir+'/gmake.log',loglevel='DEBUG',logfilelevel='DEBUG')\n",
    "gmake.logger_status()"
   ]
  },
  {
   "cell_type": "code",
   "execution_count": 51,
   "metadata": {},
   "outputs": [
    {
     "name": "stderr",
     "output_type": "stream",
     "text": [
      "read data (may take some time..)\n",
      "\n",
      "loading: ../data/bx610/alma/band6/bx610_band6.bb2.cube3.ms\n",
      "\n",
      "data@../data/bx610/alma/band6/bx610_band6.bb2.cube3.ms>>(515942, 79)310.97 MB\n",
      "uvw@../data/bx610/alma/band6/bx610_band6.bb2.cube3.ms>>(515942, 3)5.9 MB\n",
      "weight@../data/bx610/alma/band6/bx610_band6.bb2.cube3.ms>>(515942,)1.97 MB156.00705\n",
      "chanfreq@../data/bx610/alma/band6/bx610_band6.bb2.cube3.ms>> [GHz]250.77629494180084252.6042642340366379\n",
      "chanwidth@../data/bx610/alma/band6/bx610_band6.bb2.cube3.ms>> [GHz]0.023435503746612550.023435503746612550.02343550374661255\n",
      "phasecenter@../data/bx610/alma/band6/bx610_band6.bb2.cube3.ms>>[356.53933333  12.82202778]\n",
      "\n",
      "loading: ../data/bx610/alma/band6/bx610_band6.bb3.cube3.ms\n",
      "\n",
      "data@../data/bx610/alma/band6/bx610_band6.bb3.cube3.ms>>(489423, 79)294.99 MB\n",
      "uvw@../data/bx610/alma/band6/bx610_band6.bb3.cube3.ms>>(489423, 3)5.6 MB\n",
      "weight@../data/bx610/alma/band6/bx610_band6.bb3.cube3.ms>>(489423,)1.87 MB179.50488\n",
      "chanfreq@../data/bx610/alma/band6/bx610_band6.bb3.cube3.ms>> [GHz]233.2777854774409235.1057547696790479\n",
      "chanwidth@../data/bx610/alma/band6/bx610_band6.bb3.cube3.ms>> [GHz]-0.023435503746643067-0.023435503746643067-0.023435503746643067\n",
      "phasecenter@../data/bx610/alma/band6/bx610_band6.bb3.cube3.ms>>[356.53933333  12.82202778]\n",
      "\n",
      "loading: ../data/bx610/alma/band6/bx610_band6.bb1.mfs.ms\n",
      "\n",
      "data@../data/bx610/alma/band6/bx610_band6.bb1.mfs.ms>>(515942, 1)3.94 MB\n",
      "uvw@../data/bx610/alma/band6/bx610_band6.bb1.mfs.ms>>(515942, 3)5.9 MB\n",
      "weight@../data/bx610/alma/band6/bx610_band6.bb1.mfs.ms>>(515942,)1.97 MB3660.7656\n",
      "chanfreq@../data/bx610/alma/band6/bx610_band6.bb1.mfs.ms>> [GHz]250.0968783125849250.09687831258491\n",
      "chanwidth@../data/bx610/alma/band6/bx610_band6.bb1.mfs.ms>> [GHz]1.81241907798936451.81241907798936451.8124190779893645\n",
      "phasecenter@../data/bx610/alma/band6/bx610_band6.bb1.mfs.ms>>[356.53933333  12.82202778]\n",
      "\n",
      "loading: ../data/bx610/alma/band6/bx610_band6.bb4.mfs.ms\n",
      "\n",
      "data@../data/bx610/alma/band6/bx610_band6.bb4.mfs.ms>>(515942, 1)3.94 MB\n",
      "uvw@../data/bx610/alma/band6/bx610_band6.bb4.mfs.ms>>(515942, 3)5.9 MB\n",
      "weight@../data/bx610/alma/band6/bx610_band6.bb4.mfs.ms>>(515942,)1.97 MB5153.2075\n",
      "chanfreq@../data/bx610/alma/band6/bx610_band6.bb4.mfs.ms>> [GHz]235.8799719934693235.87997199346931\n",
      "chanwidth@../data/bx610/alma/band6/bx610_band6.bb4.mfs.ms>> [GHz]-1.859287724233795-1.859287724233795-1.859287724233795\n",
      "phasecenter@../data/bx610/alma/band6/bx610_band6.bb4.mfs.ms>>[356.53933333  12.82202778]\n",
      "--------------------------------------------------------------------------------\n",
      "--- took 4.73459  seconds ---\n"
     ]
    }
   ],
   "source": [
    "dat_dct=gmake.read_data(inp_dct,fill_mask=True,fill_error=True)"
   ]
  },
  {
   "cell_type": "code",
   "execution_count": 48,
   "metadata": {},
   "outputs": [
    {
     "name": "stderr",
     "output_type": "stream",
     "text": [
      "++++++++++++++++++++++++++++++++++++++++++++++++++++++++++++++++++++++++++++++++++++++++++\n",
      "optimizer: emcee\n",
      "optimizing parameters: index / name / start / lo_limit / up_limit / scale\n",
      " 0   vsys@co76          117.49      (    -120.00   ,     280.00     )     40.00     \n",
      " 1   vrot[1:5]@co76     197.04      (     0.00     ,     800.00     )     40.00     \n",
      " 2   vdis[0:5]@co76      50.82      (     0.00     ,     800.00     )     10.00     \n",
      " 3   pa@co76            -52.41      (    -132.41   ,      27.59     )     5.00      \n",
      " 4   inc@co76            44.06      (     5.00     ,      85.00     )     5.00      \n",
      " 5   xypos[0]@co76    356.5393259   (  356.5390481 ,   356.5396037  )   0.0000389   \n",
      " 6   xypos[1]@co76    12.8220182    (  12.8217404  ,   12.8222960   )   0.0000389   \n",
      " 7   intflux@co76        1.30       (     0.10     ,     200.00     )     0.05      \n",
      " 8   intflux@ci21        0.65       (     0.10     ,     200.00     )     0.01      \n",
      " 9   intflux@h2o         0.38       (     0.10     ,     200.00     )     0.01      \n",
      " 10  intflux@cont        0.00       (     0.00     ,      0.01      )     0.01      \n",
      " 11  alpha@cont          3.72       (     3.00     ,      4.50      )     0.10      \n",
      " 12  pa@cont             12.06      (    -47.94    ,      72.06     )     5.00      \n",
      " 13  inc@cont            27.53      (     0.00     ,      45.00     )     5.00      \n",
      "++++++++++++++++++++++++++++++++++++++++++++++++++++++++++++++++++++++++++++++++++++++++++\n",
      "nwalkers:40\n",
      "nthreads:1\n",
      "ndim:    14\n",
      "outdir:  bx610_band6_uv_mc\n"
     ]
    },
    {
     "name": "stdout",
     "output_type": "stream",
     "text": [
      "  C_CONTIGUOUS : True\n",
      "  F_CONTIGUOUS : False\n",
      "  OWNDATA : True\n",
      "  WRITEABLE : True\n",
      "  ALIGNED : True\n",
      "  WRITEBACKIFCOPY : False\n",
      "  UPDATEIFCOPY : False\n",
      "\n",
      "---fill:../data/bx610/alma/band6/bx610_band6.bb2.cube3.ms : 0.00000  seconds ---\n",
      "---build:../data/bx610/alma/band6/bx610_band6.bb2.cube3.ms : 0.06314  seconds ---\n",
      "---fill:../data/bx610/alma/band6/bx610_band6.bb2.cube3.ms : 0.00000  seconds ---\n",
      "---build:../data/bx610/alma/band6/bx610_band6.bb2.cube3.ms : 0.05733  seconds ---\n",
      "  C_CONTIGUOUS : True\n",
      "  F_CONTIGUOUS : False\n",
      "  OWNDATA : True\n",
      "  WRITEABLE : True\n",
      "  ALIGNED : True\n",
      "  WRITEBACKIFCOPY : False\n",
      "  UPDATEIFCOPY : False\n",
      "\n",
      "---fill:../data/bx610/alma/band6/bx610_band6.bb3.cube3.ms : 0.00000  seconds ---\n",
      "---build:../data/bx610/alma/band6/bx610_band6.bb3.cube3.ms : 0.05853  seconds ---\n",
      "  C_CONTIGUOUS : True\n",
      "  F_CONTIGUOUS : True\n",
      "  OWNDATA : True\n",
      "  WRITEABLE : True\n",
      "  ALIGNED : True\n",
      "  WRITEBACKIFCOPY : False\n",
      "  UPDATEIFCOPY : False\n",
      "\n",
      "---fill:../data/bx610/alma/band6/bx610_band6.bb1.mfs.ms : 0.00000  seconds ---\n",
      "---build:../data/bx610/alma/band6/bx610_band6.bb1.mfs.ms : 0.08783  seconds ---\n",
      "---fill:../data/bx610/alma/band6/bx610_band6.bb2.cube3.ms : 0.00000  seconds ---\n",
      "---build:../data/bx610/alma/band6/bx610_band6.bb2.cube3.ms : 0.08835  seconds ---\n",
      "---fill:../data/bx610/alma/band6/bx610_band6.bb3.cube3.ms : 0.00000  seconds ---\n",
      "---build:../data/bx610/alma/band6/bx610_band6.bb3.cube3.ms : 0.08778  seconds ---\n",
      "  C_CONTIGUOUS : True\n",
      "  F_CONTIGUOUS : True\n",
      "  OWNDATA : True\n",
      "  WRITEABLE : True\n",
      "  ALIGNED : True\n",
      "  WRITEBACKIFCOPY : False\n",
      "  UPDATEIFCOPY : False\n",
      "\n",
      "---fill:../data/bx610/alma/band6/bx610_band6.bb4.mfs.ms : 0.00000  seconds ---\n",
      "---build:../data/bx610/alma/band6/bx610_band6.bb4.mfs.ms : 0.08826  seconds ---\n"
     ]
    },
    {
     "name": "stderr",
     "output_type": "stream",
     "text": [
      "one trial                                          : 1.94780  seconds\n",
      "ndata->80455719.0\n",
      "chisq->627572169.3453246\n"
     ]
    }
   ],
   "source": [
    "fit_dct,sampler=gmake.fit_setup(inp_dct,dat_dct)"
   ]
  },
  {
   "cell_type": "code",
   "execution_count": 132,
   "metadata": {},
   "outputs": [
    {
     "name": "stdout",
     "output_type": "stream",
     "text": [
      "---initialize-total : 0.06227  seconds ---\n",
      "\n",
      "---fill:  co76-->../data/bx610/alma/band6/bx610_band6.bb2.cube3.ms kinmspy : 0.06237  seconds ---\n",
      "(1, 79, 128, 128)\n",
      "---fill:  ci21-->../data/bx610/alma/band6/bx610_band6.bb2.cube3.ms kinmspy : 0.05697  seconds ---\n",
      "(1, 79, 128, 128)\n",
      "---fill:  h2o-->../data/bx610/alma/band6/bx610_band6.bb3.cube3.ms kinmspy : 0.05860  seconds ---\n",
      "(1, 79, 128, 128)\n",
      "--- disk2d 0.07990002632141113 seconds ---\n",
      "---fill:  cont-->../data/bx610/alma/band6/bx610_band6.bb1.mfs.ms disk2d : 0.08591  seconds ---\n",
      "(1, 1, 128, 128)\n",
      "--- disk2d 0.08438992500305176 seconds ---\n",
      "---fill:  cont-->../data/bx610/alma/band6/bx610_band6.bb2.cube3.ms disk2d : 0.09134  seconds ---\n",
      "(1, 79, 128, 128)\n",
      "--- disk2d 0.07880592346191406 seconds ---\n",
      "---fill:  cont-->../data/bx610/alma/band6/bx610_band6.bb3.cube3.ms disk2d : 0.08566  seconds ---\n",
      "(1, 79, 128, 128)\n",
      "--- disk2d 0.07941198348999023 seconds ---\n",
      "---fill:  cont-->../data/bx610/alma/band6/bx610_band6.bb4.mfs.ms disk2d : 0.08530  seconds ---\n",
      "(1, 1, 128, 128)\n",
      "---fill-total : 0.54381  seconds ---\n",
      "\n",
      "---simulate-total : 1.07118  seconds ---\n",
      "CPU times: user 6.6 s, sys: 237 ms, total: 6.83 s\n",
      "Wall time: 2.05 s\n"
     ]
    }
   ],
   "source": [
    "#import gmake,time\n",
    "#import memory_profiler\n",
    "#%load_ext line_profiler\n",
    "#%load_ext memory_profiler\n",
    "\n",
    "%time nl,blobs=gmake.model_lnlike(fit_dct['p_start'],fit_dct,inp_dct,dat_dct,savemodel=None,verbose=True)\n"
   ]
  },
  {
   "cell_type": "code",
   "execution_count": null,
   "metadata": {},
   "outputs": [],
   "source": []
  },
  {
   "cell_type": "code",
   "execution_count": null,
   "metadata": {},
   "outputs": [],
   "source": []
  },
  {
   "cell_type": "code",
   "execution_count": null,
   "metadata": {},
   "outputs": [],
   "source": []
  }
 ],
 "metadata": {
  "kernelspec": {
   "display_name": "Python 3",
   "language": "python",
   "name": "python3"
  },
  "language_info": {
   "codemirror_mode": {
    "name": "ipython",
    "version": 3
   },
   "file_extension": ".py",
   "mimetype": "text/x-python",
   "name": "python",
   "nbconvert_exporter": "python",
   "pygments_lexer": "ipython3",
   "version": "3.7.4"
  }
 },
 "nbformat": 4,
 "nbformat_minor": 4
}
