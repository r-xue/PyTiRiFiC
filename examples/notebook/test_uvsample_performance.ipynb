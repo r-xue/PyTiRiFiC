{
 "cells": [
  {
   "cell_type": "markdown",
   "metadata": {},
   "source": [
    "## Test the performance of the Image-to-MS-related modules"
   ]
  },
  {
   "cell_type": "code",
   "execution_count": 1,
   "metadata": {},
   "outputs": [
    {
     "name": "stdout",
     "output_type": "stream",
     "text": [
      "/Users/Rui/Dropbox/Worklib/projects/GMaKE/examples/notebook\n",
      "hyperion\n"
     ]
    },
    {
     "name": "stderr",
     "output_type": "stream",
     "text": [
      "Python version:   3.7.4 (default, Sep  7 2019, 19:52:29) \n",
      "[Clang 10.0.1 (clang-1001.0.46.4)]\n",
      "Host Name:        hyperion\n",
      "Num of Core:      8\n",
      "Total Memory:     32.0 GB\n",
      "Available Memory: 11.33 GB\n",
      "################################################################################\n",
      "astropy            >=3.2.2      4.0.dev25797\n",
      "emcee              >=3.0.0      3.0.0       \n",
      "corner             >=2.0        2.0.1       \n",
      "tqdm               unspecified  4.31.1      \n",
      "lmfit              unspecified  0.9.12      \n",
      "asteval            >=0.9.14     0.9.14      \n",
      "numexpr            >=2.7.0      2.7.0       \n",
      "hickle             unspecified  3.4.5       \n",
      "alpy               unspecified  0.22.0      \n",
      "regions            unspecified  0.3         \n",
      "scipy              unspecified  1.2.1       \n",
      "reproject          unspecified  0.6.dev644  \n",
      "python-casacore    >=3.1.1      3.1.1       \n",
      "scikit-image       unspecified  0.14.2      \n",
      "galpy              unspecified  1.5.dev0    \n",
      "mkl-fft            unspecified  1.0.14      \n",
      "pvextractor        >=0.2.dev327 0.2.dev327  \n",
      "spectral-cube      >=0.4.5.dev  0.4.5.dev2235\n",
      "radio-beam         >=0.3        0.3.3.dev397\n",
      "reproject          >=0.6.dev    0.6.dev644  \n",
      "casa-proc          unspecified  0.1.dev3    \n"
     ]
    },
    {
     "name": "stdout",
     "output_type": "stream",
     "text": [
      "0.2.dev1\n",
      "rx.astro@gmail.com\n",
      "/Users/Rui/Dropbox/Worklib/projects/GMaKE/gmake\n",
      ">>>>>>>>>>>>>>>>>>>>>>>>>>>>>>>>>>>>>>>>\n"
     ]
    },
    {
     "ename": "KeyError",
     "evalue": "'outdir'",
     "output_type": "error",
     "traceback": [
      "\u001b[0;31m---------------------------------------------------------------------------\u001b[0m",
      "\u001b[0;31mKeyError\u001b[0m                                  Traceback (most recent call last)",
      "\u001b[0;32m<ipython-input-1-fecfb0ed8cdd>\u001b[0m in \u001b[0;36m<module>\u001b[0;34m\u001b[0m\n\u001b[1;32m     29\u001b[0m \u001b[0mgmake\u001b[0m\u001b[0;34m.\u001b[0m\u001b[0mlogger_config\u001b[0m\u001b[0;34m(\u001b[0m\u001b[0;34m)\u001b[0m\u001b[0;34m\u001b[0m\u001b[0;34m\u001b[0m\u001b[0m\n\u001b[1;32m     30\u001b[0m \u001b[0minp_dct\u001b[0m\u001b[0;34m=\u001b[0m\u001b[0mgmake\u001b[0m\u001b[0;34m.\u001b[0m\u001b[0mread_inp\u001b[0m\u001b[0;34m(\u001b[0m\u001b[0minpfile\u001b[0m\u001b[0;34m)\u001b[0m\u001b[0;34m\u001b[0m\u001b[0;34m\u001b[0m\u001b[0m\n\u001b[0;32m---> 31\u001b[0;31m \u001b[0moutdir\u001b[0m\u001b[0;34m=\u001b[0m\u001b[0minp_dct\u001b[0m\u001b[0;34m[\u001b[0m\u001b[0;34m'optimize'\u001b[0m\u001b[0;34m]\u001b[0m\u001b[0;34m[\u001b[0m\u001b[0;34m'outdir'\u001b[0m\u001b[0;34m]\u001b[0m\u001b[0;34m\u001b[0m\u001b[0;34m\u001b[0m\u001b[0m\n\u001b[0m\u001b[1;32m     32\u001b[0m \u001b[0mgmake\u001b[0m\u001b[0;34m.\u001b[0m\u001b[0mlogger_config\u001b[0m\u001b[0;34m(\u001b[0m\u001b[0mlogfile\u001b[0m\u001b[0;34m=\u001b[0m\u001b[0moutdir\u001b[0m\u001b[0;34m+\u001b[0m\u001b[0;34m'/gmake.log'\u001b[0m\u001b[0;34m,\u001b[0m\u001b[0mloglevel\u001b[0m\u001b[0;34m=\u001b[0m\u001b[0;34m'DEBUG'\u001b[0m\u001b[0;34m,\u001b[0m\u001b[0mlogfilelevel\u001b[0m\u001b[0;34m=\u001b[0m\u001b[0;34m'DEBUG'\u001b[0m\u001b[0;34m)\u001b[0m\u001b[0;34m\u001b[0m\u001b[0;34m\u001b[0m\u001b[0m\n\u001b[1;32m     33\u001b[0m \u001b[0mgmake\u001b[0m\u001b[0;34m.\u001b[0m\u001b[0mlogger_status\u001b[0m\u001b[0;34m(\u001b[0m\u001b[0;34m)\u001b[0m\u001b[0;34m\u001b[0m\u001b[0;34m\u001b[0m\u001b[0m\n",
      "\u001b[0;31mKeyError\u001b[0m: 'outdir'"
     ]
    }
   ],
   "source": [
    "import sys\n",
    "import glob\n",
    "import os\n",
    "import io\n",
    "import logging\n",
    "import emcee\n",
    "from pprint import pprint\n",
    "\n",
    "import socket \n",
    "print(os.getcwd())\n",
    "print(socket.gethostname())\n",
    "if  'hypersion' or 'mini' in socket.gethostname() :\n",
    "    os.chdir('/Users/Rui/Dropbox/Worklib/projects/GMaKE/examples/output/')\n",
    "\n",
    "import gmake\n",
    "print(gmake.__version__)\n",
    "print(gmake.__email__)\n",
    "print(gmake.__demo__)\n",
    "gmake.check_setup()\n",
    "\n",
    "inpfile=gmake.__demo__+'/../examples/inpfile/bx610_band6_uv_mc.inp'\n",
    "logfile=''\n",
    "\n",
    "print('>'*40)\n",
    "#gmake.logger_config()\n",
    "#gmake.logger_status()\n",
    "#import pprint\n",
    "#pprint.pprint(logging.Logger.manager.loggerDict) \n",
    "gmake.logger_config()\n",
    "inp_dct=gmake.read_inp(inpfile)\n",
    "outdir=inp_dct['optimize']['outdir']\n",
    "gmake.logger_config(logfile=outdir+'/gmake.log',loglevel='DEBUG',logfilelevel='DEBUG')\n",
    "gmake.logger_status()"
   ]
  },
  {
   "cell_type": "code",
   "execution_count": 2,
   "metadata": {},
   "outputs": [
    {
     "name": "stderr",
     "output_type": "stream",
     "text": [
      "read data (may take some time..)\n"
     ]
    },
    {
     "ename": "RuntimeError",
     "evalue": "Table ../data/bx610/alma/band6/bx610_band6.bb2.cube3.ms does not exist",
     "output_type": "error",
     "traceback": [
      "\u001b[0;31m---------------------------------------------------------------------------\u001b[0m",
      "\u001b[0;31mRuntimeError\u001b[0m                              Traceback (most recent call last)",
      "\u001b[0;32m<ipython-input-2-7b83568be513>\u001b[0m in \u001b[0;36m<module>\u001b[0;34m\u001b[0m\n\u001b[0;32m----> 1\u001b[0;31m \u001b[0mdat_dct\u001b[0m\u001b[0;34m=\u001b[0m\u001b[0mgmake\u001b[0m\u001b[0;34m.\u001b[0m\u001b[0mread_data\u001b[0m\u001b[0;34m(\u001b[0m\u001b[0minp_dct\u001b[0m\u001b[0;34m,\u001b[0m\u001b[0mfill_mask\u001b[0m\u001b[0;34m=\u001b[0m\u001b[0;32mTrue\u001b[0m\u001b[0;34m,\u001b[0m\u001b[0mfill_error\u001b[0m\u001b[0;34m=\u001b[0m\u001b[0;32mTrue\u001b[0m\u001b[0;34m)\u001b[0m\u001b[0;34m\u001b[0m\u001b[0;34m\u001b[0m\u001b[0m\n\u001b[0m",
      "\u001b[0;32m~/Dropbox/Worklib/projects/GMaKE/gmake/io_utils.py\u001b[0m in \u001b[0;36mread_data\u001b[0;34m(inp_dct, fill_mask, fill_error, memorytable, polaverage, dataflag, saveflag)\u001b[0m\n\u001b[1;32m     50\u001b[0m \u001b[0;34m\u001b[0m\u001b[0m\n\u001b[1;32m     51\u001b[0m \u001b[0;34m\u001b[0m\u001b[0m\n\u001b[0;32m---> 52\u001b[0;31m                     \u001b[0mt\u001b[0m\u001b[0;34m=\u001b[0m\u001b[0mctb\u001b[0m\u001b[0;34m.\u001b[0m\u001b[0mtable\u001b[0m\u001b[0;34m(\u001b[0m\u001b[0mvis_list\u001b[0m\u001b[0;34m[\u001b[0m\u001b[0mind\u001b[0m\u001b[0;34m]\u001b[0m\u001b[0;34m,\u001b[0m\u001b[0mack\u001b[0m\u001b[0;34m=\u001b[0m\u001b[0;32mFalse\u001b[0m\u001b[0;34m,\u001b[0m\u001b[0mmemorytable\u001b[0m\u001b[0;34m=\u001b[0m\u001b[0mmemorytable\u001b[0m\u001b[0;34m)\u001b[0m\u001b[0;34m\u001b[0m\u001b[0;34m\u001b[0m\u001b[0m\n\u001b[0m\u001b[1;32m     53\u001b[0m                     \u001b[0;31m# set order='F' for the quick access of u/v/w\u001b[0m\u001b[0;34m\u001b[0m\u001b[0;34m\u001b[0m\u001b[0;34m\u001b[0m\u001b[0m\n\u001b[1;32m     54\u001b[0m                     \u001b[0mdat_dct\u001b[0m\u001b[0;34m[\u001b[0m\u001b[0;34m'uvw@'\u001b[0m\u001b[0;34m+\u001b[0m\u001b[0mvis_list\u001b[0m\u001b[0;34m[\u001b[0m\u001b[0mind\u001b[0m\u001b[0;34m]\u001b[0m\u001b[0;34m]\u001b[0m\u001b[0;34m=\u001b[0m\u001b[0;34m(\u001b[0m\u001b[0mt\u001b[0m\u001b[0;34m.\u001b[0m\u001b[0mgetcol\u001b[0m\u001b[0;34m(\u001b[0m\u001b[0;34m'UVW'\u001b[0m\u001b[0;34m)\u001b[0m\u001b[0;34m)\u001b[0m\u001b[0;34m.\u001b[0m\u001b[0mastype\u001b[0m\u001b[0;34m(\u001b[0m\u001b[0mnp\u001b[0m\u001b[0;34m.\u001b[0m\u001b[0mfloat32\u001b[0m\u001b[0;34m,\u001b[0m\u001b[0morder\u001b[0m\u001b[0;34m=\u001b[0m\u001b[0;34m'F'\u001b[0m\u001b[0;34m)\u001b[0m\u001b[0;34m\u001b[0m\u001b[0;34m\u001b[0m\u001b[0m\n",
      "\u001b[0;32m~/Library/Python/3.7/lib/python/site-packages/casacore/tables/table.py\u001b[0m in \u001b[0;36m__init__\u001b[0;34m(self, tablename, tabledesc, nrow, readonly, lockoptions, ack, dminfo, endian, memorytable, concatsubtables, _columnnames, _datatypes, _oper, _delete)\u001b[0m\n\u001b[1;32m    370\u001b[0m                         \u001b[0mopt\u001b[0m \u001b[0;34m=\u001b[0m \u001b[0;36m6\u001b[0m\u001b[0;34m\u001b[0m\u001b[0;34m\u001b[0m\u001b[0m\n\u001b[1;32m    371\u001b[0m                 \u001b[0;32mif\u001b[0m \u001b[0misinstance\u001b[0m\u001b[0;34m(\u001b[0m\u001b[0mtabname\u001b[0m\u001b[0;34m,\u001b[0m \u001b[0mstring_types\u001b[0m\u001b[0;34m)\u001b[0m\u001b[0;34m:\u001b[0m\u001b[0;34m\u001b[0m\u001b[0;34m\u001b[0m\u001b[0m\n\u001b[0;32m--> 372\u001b[0;31m                     \u001b[0mTable\u001b[0m\u001b[0;34m.\u001b[0m\u001b[0m__init__\u001b[0m\u001b[0;34m(\u001b[0m\u001b[0mself\u001b[0m\u001b[0;34m,\u001b[0m \u001b[0mtabname\u001b[0m\u001b[0;34m,\u001b[0m \u001b[0mlockopt\u001b[0m\u001b[0;34m,\u001b[0m \u001b[0mopt\u001b[0m\u001b[0;34m)\u001b[0m\u001b[0;34m\u001b[0m\u001b[0;34m\u001b[0m\u001b[0m\n\u001b[0m\u001b[1;32m    373\u001b[0m                     \u001b[0;32mif\u001b[0m \u001b[0mack\u001b[0m\u001b[0;34m:\u001b[0m\u001b[0;34m\u001b[0m\u001b[0;34m\u001b[0m\u001b[0m\n\u001b[1;32m    374\u001b[0m                         six.print_('Successful', typstr, 'open of',\n",
      "\u001b[0;31mRuntimeError\u001b[0m: Table ../data/bx610/alma/band6/bx610_band6.bb2.cube3.ms does not exist"
     ]
    }
   ],
   "source": [
    "dat_dct=gmake.read_data(inp_dct,fill_mask=True,fill_error=True)"
   ]
  },
  {
   "cell_type": "code",
   "execution_count": 3,
   "metadata": {},
   "outputs": [],
   "source": [
    "from pprint import pprint\n",
    "#pprint(dat_dct)"
   ]
  },
  {
   "cell_type": "code",
   "execution_count": 5,
   "metadata": {},
   "outputs": [
    {
     "name": "stderr",
     "output_type": "stream",
     "text": [
      "++++++++++++++++++++++++++++++++++++++++++++++++++++++++++++++++++++++++++++++++++++++++++\n",
      "optimizer: emcee\n",
      "optimizing parameters: index / name / start / lo_limit / up_limit / scale\n",
      " 0   vsys@co76          117.49      (    -120.00   ,     280.00     )     40.00     \n",
      " 1   vrot[1:5]@co76     197.04      (     0.00     ,     800.00     )     40.00     \n",
      " 2   vdis[0:5]@co76      50.82      (     0.00     ,     800.00     )     10.00     \n",
      " 3   pa@co76            -52.41      (    -132.41   ,      27.59     )     5.00      \n",
      " 4   inc@co76            44.06      (     5.00     ,      85.00     )     5.00      \n",
      " 5   xypos[0]@co76    356.5393259   (  356.5390481 ,   356.5396037  )   0.0000389   \n",
      " 6   xypos[1]@co76    12.8220182    (  12.8217404  ,   12.8222960   )   0.0000389   \n",
      " 7   intflux@co76        1.30       (     0.10     ,     200.00     )     0.05      \n",
      " 8   sbser[0]@co76       0.22       (     0.01     ,      1.00      )     0.01      \n",
      " 9   intflux@ci21        0.65       (     0.10     ,     200.00     )     0.01      \n",
      " 10  sbser[0]@ci21       0.19       (     0.01     ,      1.00      )     0.01      \n",
      " 11  intflux@h2o         0.38       (     0.10     ,     200.00     )     0.01      \n",
      " 12  sbser[0]@h2o        0.17       (     0.01     ,      1.00      )     0.01      \n",
      " 13  intflux@cont        0.00       (     0.00     ,      0.01      )     0.01      \n",
      " 14  sbser[0]@cont       0.12       (     0.01     ,      0.30      )     0.01      \n",
      " 15  alpha@cont          3.72       (     3.00     ,      4.50      )     0.10      \n",
      " 16  pa@cont             12.06      (    -47.94    ,      72.06     )     5.00      \n",
      " 17  inc@cont            27.53      (     0.00     ,      45.00     )     5.00      \n",
      "++++++++++++++++++++++++++++++++++++++++++++++++++++++++++++++++++++++++++++++++++++++++++\n",
      "nwalkers:40\n",
      "nthreads:1\n",
      "ndim:    18\n",
      "outdir:  bx610_band6_uv_mc\n",
      "one trial                                          : 2.12374  seconds\n",
      "ndata->80455719.0\n",
      "chisq->627572167.2467092\n"
     ]
    }
   ],
   "source": [
    "fit_dct,sampler=gmake.fit_setup(inp_dct,dat_dct)"
   ]
  },
  {
   "cell_type": "code",
   "execution_count": 6,
   "metadata": {},
   "outputs": [
    {
     "name": "stdout",
     "output_type": "stream",
     "text": [
      "++++++++++++++++++++++++++++++++++++++++\n",
      "@ co76\n",
      "method: disk3d\n",
      "----------------------------------------\n",
      "++++++++++++++++++++++++++++++++++++++++\n",
      "@ ci21\n",
      "method: disk3d\n",
      "----------------------------------------\n",
      "++++++++++++++++++++++++++++++++++++++++\n",
      "@ h2o\n",
      "method: disk3d\n",
      "----------------------------------------\n",
      "++++++++++++++++++++++++++++++++++++++++\n",
      "@ cont\n",
      "method: disk2d\n",
      "----------------------------------------\n",
      ">>>>>initialize-total : 0.09252  seconds ---\n",
      "\n",
      "++++++++++++++++++++++++++++++++++++++++\n",
      "@ co76\n",
      "method: disk3d\n",
      "----------------------------------------\n",
      "++++++++++++++++++++++++++++++++++++++++\n",
      "@ ci21\n",
      "method: disk3d\n",
      "----------------------------------------\n",
      "++++++++++++++++++++++++++++++++++++++++\n",
      "@ h2o\n",
      "method: disk3d\n",
      "----------------------------------------\n",
      "++++++++++++++++++++++++++++++++++++++++\n",
      "@ cont\n",
      "method: disk2d\n",
      "----------------------------------------\n",
      ">>>>>fill-total : 0.24356  seconds ---\n",
      "\n",
      "nchan,nrecord: 79 515942\n",
      "uvsampling plane counts:  43\n",
      "--- uvsample  : 0.54576  seconds ---\n",
      "out=in+model: True\n",
      "nchan,nrecord: 79 489423\n",
      "uvsampling plane counts:  21\n",
      "--- uvsample  : 0.29338  seconds ---\n",
      "out=in+model: True\n",
      "nchan,nrecord: 1 515942\n",
      "uvsampling plane counts:  1\n",
      "--- uvsample  : 0.01252  seconds ---\n",
      "out=in+model: True\n",
      "nchan,nrecord: 1 515942\n",
      "uvsampling plane counts:  1\n",
      "--- uvsample  : 0.01337  seconds ---\n",
      "out=in+model: True\n",
      ">>>>>simulate-total : 0.87912  seconds ---\n",
      "CPU times: user 6.6 s, sys: 244 ms, total: 6.84 s\n",
      "Wall time: 1.58 s\n",
      "-178748866.65472293 {'lnprob': -178748866.65472293, 'chisq': 627572160.4978713, 'ndata': 80455719.0, 'npar': 18}\n"
     ]
    }
   ],
   "source": [
    "#import gmake,time\n",
    "#import memory_profiler\n",
    "#%load_ext line_profiler\n",
    "#%load_ext memory_profiler\n",
    "#gmake.galario_threads(12)\n",
    "from galario.single import threads as galario_threads\n",
    "import multiprocessing\n",
    "galario_threads(multiprocessing.cpu_count())\n",
    "%time lnl,blobs=gmake.model_lnlike(fit_dct['p_start'],fit_dct,inp_dct,dat_dct,savemodel=None,verbose=True)\n",
    "print(lnl,blobs)"
   ]
  },
  {
   "cell_type": "markdown",
   "metadata": {},
   "source": [
    "-178748872.1410836 {'lnprob': -178748872.1410836, 'chisq': 627572171.4705925, 'ndata': 80455719.0, 'npar': 14}"
   ]
  },
  {
   "cell_type": "markdown",
   "metadata": {},
   "source": [
    "++++++++++++++++++++++++++++++++++++++++\n",
    "@ co76\n",
    "method: disk3d\n",
    "----------------------------------------\n",
    "++++++++++++++++++++++++++++++++++++++++\n",
    "@ ci21\n",
    "method: disk3d\n",
    "----------------------------------------\n",
    "++++++++++++++++++++++++++++++++++++++++\n",
    "@ h2o\n",
    "method: disk3d\n",
    "----------------------------------------\n",
    "++++++++++++++++++++++++++++++++++++++++\n",
    "@ cont\n",
    "method: disk2d\n",
    "----------------------------------------\n",
    ">>>>>initialize-total : 0.10390  seconds ---\n",
    "\n",
    "++++++++++++++++++++++++++++++++++++++++\n",
    "@ co76\n",
    "method: disk3d\n",
    "----------------------------------------\n",
    "(21, 110, 110) --> (1, 79, 256, 256)\n",
    "---fill:  co76-->../data/bx610/alma/band6/bx610_band6.bb2.cube3.ms disk3d : 0.07991  seconds ---\n",
    "++++++++++++++++++++++++++++++++++++++++\n",
    "@ ci21\n",
    "method: disk3d\n",
    "----------------------------------------\n",
    "(21, 95, 95) --> (1, 79, 256, 256)\n",
    "---fill:  ci21-->../data/bx610/alma/band6/bx610_band6.bb2.cube3.ms disk3d : 0.07804  seconds ---\n",
    "++++++++++++++++++++++++++++++++++++++++\n",
    "@ h2o\n",
    "method: disk3d\n",
    "----------------------------------------\n",
    "(20, 79, 79) --> (1, 79, 256, 256)\n",
    "---fill:  h2o-->../data/bx610/alma/band6/bx610_band6.bb3.cube3.ms disk3d : 0.07822  seconds ---\n",
    "++++++++++++++++++++++++++++++++++++++++\n",
    "@ cont\n",
    "method: disk2d\n",
    "----------------------------------------\n",
    "(1, 1, 59, 59) --> (1, 1, 256, 256)\n",
    "---fill:  cont-->../data/bx610/alma/band6/bx610_band6.bb1.mfs.ms disk2d : 0.01697  seconds ---\n",
    "(1, 79, 61, 61) --> (1, 79, 256, 256)\n",
    "---fill:  cont-->../data/bx610/alma/band6/bx610_band6.bb2.cube3.ms disk2d : 0.01645  seconds ---\n",
    "(1, 79, 55, 55) --> (1, 79, 256, 256)\n",
    "---fill:  cont-->../data/bx610/alma/band6/bx610_band6.bb3.cube3.ms disk2d : 0.01396  seconds ---\n",
    "(1, 1, 57, 57) --> (1, 1, 256, 256)\n",
    "---fill:  cont-->../data/bx610/alma/band6/bx610_band6.bb4.mfs.ms disk2d : 0.01095  seconds ---\n",
    ">>>>>fill-total : 0.34662  seconds ---\n",
    "\n",
    "\n",
    " ../data/bx610/alma/band6/bx610_band6.bb2.cube3.ms  image model shape:  (1, 79, 256, 256)\n",
    "nchan,nrecord: 79 515942\n",
    "uvsampling plane counts:  43\n",
    "--- uvsample  : 0.78571  seconds ---\n",
    "out=in+model: True\n",
    "\n",
    " ../data/bx610/alma/band6/bx610_band6.bb3.cube3.ms  image model shape:  (1, 79, 256, 256)\n",
    "nchan,nrecord: 79 489423\n",
    "uvsampling plane counts:  21\n",
    "--- uvsample  : 0.39530  seconds ---\n",
    "out=in+model: True\n",
    "\n",
    " ../data/bx610/alma/band6/bx610_band6.bb1.mfs.ms  image model shape:  (1, 1, 256, 256)\n",
    "nchan,nrecord: 1 515942\n",
    "uvsampling plane counts:  1\n",
    "--- uvsample  : 0.01611  seconds ---\n",
    "out=in+model: True\n",
    "\n",
    " ../data/bx610/alma/band6/bx610_band6.bb4.mfs.ms  image model shape:  (1, 1, 256, 256)\n",
    "nchan,nrecord: 1 515942\n",
    "uvsampling plane counts:  1\n",
    "--- uvsample  : 0.01723  seconds ---\n",
    "out=in+model: True\n",
    ">>>>>simulate-total : 1.21742  seconds ---\n",
    "CPU times: user 6.99 s, sys: 426 ms, total: 7.41 s\n",
    "Wall time: 2.09 s\n",
    "-178748873.92085266 {'lnprob': -178748873.92085266, 'chisq': 627572175.0301305, 'ndata': 80455719.0, 'npar': 14}"
   ]
  },
  {
   "cell_type": "code",
   "execution_count": 30,
   "metadata": {},
   "outputs": [
    {
     "name": "stdout",
     "output_type": "stream",
     "text": [
      "CPU times: user 352 µs, sys: 292 µs, total: 644 µs\n",
      "Wall time: 354 µs\n",
      "CPU times: user 3.64 ms, sys: 419 µs, total: 4.06 ms\n",
      "Wall time: 489 µs\n"
     ]
    },
    {
     "data": {
      "text/plain": [
       "array([0.00000e+00, 1.00000e-04, 2.00000e-04, ..., 5.15939e+01,\n",
       "       5.15940e+01, 5.15941e+01])"
      ]
     },
     "execution_count": 30,
     "metadata": {},
     "output_type": "execute_result"
    }
   ],
   "source": [
    "import numpy as np\n",
    "import numexpr as ne\n",
    "test1=np.arange(515942,dtype='float64')\n",
    "%time test1*=1/100.0\n",
    "#print(test1)\n",
    "%time ne.evaluate(\"a*0.01\",local_dict={'a':test1},out=test1)"
   ]
  },
  {
   "cell_type": "code",
   "execution_count": 14,
   "metadata": {},
   "outputs": [
    {
     "name": "stdout",
     "output_type": "stream",
     "text": [
      "--- 0.0295867919921875 seconds ---\n"
     ]
    }
   ],
   "source": [
    "from gmake.tests.test_model_build import *\n",
    "test_gmake_model_disk2d()"
   ]
  },
  {
   "cell_type": "code",
   "execution_count": 13,
   "metadata": {},
   "outputs": [
    {
     "data": {
      "text/plain": [
       "'/Users/Rui/Dropbox/Worklib/projects/GMaKE/gmake'"
      ]
     },
     "execution_count": 13,
     "metadata": {},
     "output_type": "execute_result"
    }
   ],
   "source": [
    "import gmake\n",
    "gmake.__demo__"
   ]
  },
  {
   "cell_type": "code",
   "execution_count": 42,
   "metadata": {},
   "outputs": [],
   "source": []
  },
  {
   "cell_type": "code",
   "execution_count": 5,
   "metadata": {},
   "outputs": [
    {
     "name": "stdout",
     "output_type": "stream",
     "text": [
      "--- uvsample  : 0.30309  seconds ---\n",
      "[[0. 0. 0. ... 0. 0. 0.]\n",
      " [0. 0. 0. ... 0. 0. 0.]\n",
      " [0. 0. 0. ... 0. 0. 0.]\n",
      " ...\n",
      " [0. 0. 0. ... 0. 0. 0.]\n",
      " [0. 0. 0. ... 0. 0. 0.]\n",
      " [0. 0. 0. ... 0. 0. 0.]]\n"
     ]
    }
   ],
   "source": [
    "\n",
    "a=np.ones(1000000)\n",
    "s=np.arange(100)\n",
    "c=np.empty((1000000,100),order='F')\n",
    "start=time.time()\n",
    "for i in range(len(s)):\n",
    "    #c[:,i]=a*s[i] # 0.57\n",
    "    #ne.evaluate(\"a*b\",local_dict={\"a\":a,'b':s[i]},casting='same_kind',out=c[:,i]) # 0.31954\n",
    "    c[:,i]*=s[i]\n",
    "print(\"---{0:^10} : {1:<8.5f} seconds ---\".format('uvsample',time.time()-start))    \n",
    "print(c)"
   ]
  },
  {
   "cell_type": "code",
   "execution_count": 6,
   "metadata": {},
   "outputs": [
    {
     "name": "stdout",
     "output_type": "stream",
     "text": [
      "--->>>>loop-fancy1 : 0.05199  seconds ---\n",
      "--->>>>loop-fancy1 : 0.01873  seconds ---\n",
      "--->>>>loop-fancy1 : 0.20160  seconds ---\n",
      "--->>>>loop-fancy1 : 0.02011  seconds ---\n"
     ]
    }
   ],
   "source": [
    "from gmake.tests.test_array_operations import *\n",
    "test_numexpr()"
   ]
  },
  {
   "cell_type": "code",
   "execution_count": 40,
   "metadata": {},
   "outputs": [
    {
     "name": "stdout",
     "output_type": "stream",
     "text": [
      "--- uvsample  : 0.00088  seconds ---\n",
      "--- uvsample  : 0.09021  seconds ---\n",
      "[[  2.   3.   4. ...  99. 100. 101.]\n",
      " [  2.   3.   4. ...  99. 100. 101.]\n",
      " [  2.   3.   4. ...  99. 100. 101.]\n",
      " ...\n",
      " [  2.   3.   4. ...  99. 100. 101.]\n",
      " [  2.   3.   4. ...  99. 100. 101.]\n",
      " [  2.   3.   4. ...  99. 100. 101.]] (1000000, 100)\n",
      "[3. 3. 3. ... 3. 3. 3.]\n",
      "[4. 4. 4. ... 4. 4. 4.]\n"
     ]
    }
   ],
   "source": [
    "import numexpr3 as ne3\n",
    "import numexpr as ne\n",
    "import numpy as np\n",
    "import time\n",
    "import scipy\n",
    "\n",
    "\n",
    "plane=np.ones(1000000)\n",
    "start=time.time()\n",
    "x=np.broadcast_to(plane[:,np.newaxis],(1000000,100))\n",
    "print(\"---{0:^10} : {1:<8.5f} seconds ---\".format('uvsample',time.time()-start)) \n",
    "\n",
    "#scale=np.arange(100)\n",
    "\n",
    "c=np.ones((1000000,100),order='F')*2\n",
    "\n",
    "start=time.time()\n",
    "ne.evaluate(\"c+x*y\",local_dict={\"x\":np.broadcast_to(plane[:,np.newaxis],(1000000,100)),'y':scale},casting='same_kind',out=out) # 0.31954\n",
    "print(\"---{0:^10} : {1:<8.5f} seconds ---\".format('uvsample',time.time()-start)) \n",
    "#out=ne.evaluate(\"x*y\",local_dict={\"x\":c,'y':scale},casting='same_kind') # 0.31954\n",
    "#   \n",
    "print(out,out.shape)\n",
    "print(out[:,1])\n",
    "print(out[:,2])"
   ]
  },
  {
   "cell_type": "code",
   "execution_count": 31,
   "metadata": {},
   "outputs": [
    {
     "data": {
      "text/plain": [
       "array([[0.+0.j, 0.+0.j],\n",
       "       [0.+0.j, 0.+0.j]], dtype=complex64)"
      ]
     },
     "execution_count": 31,
     "metadata": {},
     "output_type": "execute_result"
    }
   ],
   "source": [
    "import numpy as np\n",
    "np.zeros((2,2),dtype='complex64')"
   ]
  },
  {
   "cell_type": "code",
   "execution_count": 50,
   "metadata": {},
   "outputs": [],
   "source": [
    "s=np.arange(100)"
   ]
  },
  {
   "cell_type": "code",
   "execution_count": 54,
   "metadata": {},
   "outputs": [
    {
     "data": {
      "text/plain": [
       "(1, 100)"
      ]
     },
     "execution_count": 54,
     "metadata": {},
     "output_type": "execute_result"
    }
   ],
   "source": [
    "(np.broadcast_to(s,(1,100))).shape"
   ]
  },
  {
   "cell_type": "code",
   "execution_count": 30,
   "metadata": {},
   "outputs": [
    {
     "name": "stdout",
     "output_type": "stream",
     "text": [
      "(1000, 100)\n"
     ]
    }
   ],
   "source": [
    "import numpy as np\n",
    "model2d=np.ones(1000)\n",
    "model3d=model2d[:,np.newaxis]*np.arange(100)[np.newaxis,:]\n",
    "#model2d=np.ones((10,10))\n",
    "#model3d=model2d[np.newaxis,:,:]*np.arange(100)[:,np.newaxis]\n",
    "print(model3d.shape)"
   ]
  },
  {
   "cell_type": "code",
   "execution_count": 36,
   "metadata": {},
   "outputs": [
    {
     "name": "stdout",
     "output_type": "stream",
     "text": [
      "CPU times: user 1.22 ms, sys: 776 µs, total: 2 ms\n",
      "Wall time: 1.17 ms\n"
     ]
    }
   ],
   "source": [
    "import numpy as np\n",
    "%time x=np.zeros((1,30,256,256))"
   ]
  },
  {
   "cell_type": "code",
   "execution_count": 25,
   "metadata": {},
   "outputs": [
    {
     "data": {
      "text/plain": [
       "'38.15 MB'"
      ]
     },
     "execution_count": 25,
     "metadata": {},
     "output_type": "execute_result"
    }
   ],
   "source": [
    "import numpy as np\n",
    "gmake.convert_size(gmake.getsizeof(np.zeros((1000,100,100),dtype=np.float32)))"
   ]
  },
  {
   "cell_type": "code",
   "execution_count": null,
   "metadata": {},
   "outputs": [],
   "source": []
  }
 ],
 "metadata": {
  "kernelspec": {
   "display_name": "Python 3",
   "language": "python",
   "name": "python3"
  },
  "language_info": {
   "codemirror_mode": {
    "name": "ipython",
    "version": 3
   },
   "file_extension": ".py",
   "mimetype": "text/x-python",
   "name": "python",
   "nbconvert_exporter": "python",
   "pygments_lexer": "ipython3",
   "version": "3.7.4"
  }
 },
 "nbformat": 4,
 "nbformat_minor": 4
}
