{
 "cells": [
  {
   "cell_type": "code",
   "execution_count": 1,
   "metadata": {},
   "outputs": [
    {
     "name": "stdout",
     "output_type": "stream",
     "text": [
      "3.8.2 (default, Feb 27 2020, 22:13:36) \n",
      "[Clang 11.0.0 (clang-1100.0.33.17)]\n",
      "hyperion\n",
      "/Users/Rui/Resilio/Workspace/projects/GMaKE/gmake/tests/results/mockup/sbrci\n",
      "0.2.dev1\n",
      "rx.astro@gmail.com\n",
      "/Users/Rui/Resilio/Workspace/projects/GMaKE/gmake\n",
      "<Logger gmake (DEBUG)>\n",
      "[<FileHandler /Users/Rui/Resilio/Workspace/projects/GMaKE/gmake/tests/results/mockup/sbrci/xy00/gmake.log (DEBUG)>, <StreamHandler stderr (DEBUG)>]\n"
     ]
    }
   ],
   "source": [
    "import sys\n",
    "import glob\n",
    "import os\n",
    "import io\n",
    "import logging\n",
    "from pprint import pprint\n",
    "import gmake\n",
    "from gmake.model import clouds_morph\n",
    "from gmake.model import clouds_kin\n",
    "from gmake.model import clouds_tosky\n",
    "from gmake.model import clouds_fromobj\n",
    "from gmake.discretize import xy_mapper\n",
    "from gmake.evaluate import uv_chisq\n",
    "from astropy.coordinates import SkyCoord\n",
    "from gmake.tests.test_cloudlet import *\n",
    "import astropy.units as u\n",
    "import numpy as np\n",
    "\n",
    "import socket\n",
    "if  'hypersion' or 'mini' in socket.gethostname() :\n",
    "    os.chdir(gmake.__demo__+'/../gmake/tests/results/mockup/uv_nelder')\n",
    "    os.chdir(gmake.__demo__+'/../gmake/tests/results/mockup/sbrci')\n",
    "print(sys.version)\n",
    "\n",
    "print(socket.gethostname())\n",
    "print(os.getcwd())\n",
    "print(gmake.__version__)\n",
    "print(gmake.__email__)\n",
    "print(gmake.__demo__)\n",
    "inpfile=gmake.__demo__+'/../gmake/tests/data/mockup_basic_opt_ab.inp'\n",
    "inpfile='xy00_mc.inp'\n",
    "logfile=''\n",
    "#gmake.logger_config()\n",
    "#gmake.logger_status()\n",
    "#import pprint\n",
    "#pprint.pprint(logging.Logger.manager.loggerDict)\n",
    "inp_dct=gmake.read_inp(inpfile)\n",
    "inp_dct=gmake.inp_validate(inp_dct)\n",
    "outdir=inp_dct['general']['outdir']\n",
    "gmake.logger_config(logfile=outdir+'/gmake.log',loglevel='DEBUG',logfilelevel='DEBUG')\n",
    "gmake.logger_status()\n",
    "%reload_ext line_profiler\n",
    "%reload_ext memory_profiler\n",
    "\n",
    "#%time dat_dct=gmake.read_data(inp_dct,fill_mask=True,fill_error=True)\n",
    "#%prun dat_dct=gmake.read_data(inp_dct,fill_mask=True,fill_error=True)\n",
    "#%lprun -f gmake.read_data dat_dct=gmake.read_data(inp_dct,fill_mask=True,fill_error=True)\n",
    "#%memit dat_dct=gmake.read_data(inp_dct)\n",
    "#%mprun -f gmake.read_data dat_dct=gmake.read_data(inp_dct)"
   ]
  },
  {
   "cell_type": "code",
   "execution_count": 24,
   "metadata": {},
   "outputs": [
    {
     "name": "stderr",
     "output_type": "stream",
     "text": [
      "use MKL_FFT for convolve_fft\n",
      "use MKL_RANDOM for RNG\n",
      "read data (may take some time..)\n",
      "loading: ../../../data/mockup_basic/00.ms/dm.image.fits to \n",
      "data@../../../data/mockup_basic/00.ms/dm.image.fits header@../../../data/mockup_basic/00.ms/dm.image.fits\n",
      "(1, 120, 384, 384)67.50013732910156 Mibyte\n",
      "loading: ../../../data/mockup_basic/00.ms/dm.psf.fits to \n",
      "psf@../../../data/mockup_basic/00.ms/dm.image.fits\n",
      "(1, 120, 384, 384)67.50013732910156 Mibyte\n",
      "loading: ../../../data/mockup_basic/00.ms/dm.pb.fits to \n",
      "pbeam@../../../data/mockup_basic/00.ms/dm.image.fits\n",
      "(1, 120, 384, 384)144.0 byte\n",
      "--------------------------------------------------------------------------------\n",
      "--- dat_dct size 47.18 Kibyte ---\n",
      "--- took 0.14201  seconds ---\n"
     ]
    }
   ],
   "source": [
    "inp_dct=gmake.read_inp(inpfile)\n",
    "dat_dct=gmake.read_data(inp_dct)\n",
    "mod_dct=gmake.inp2mod(inp_dct)\n",
    "#pprint(dat_dct)\n",
    "#pprint(inp_dct)\n",
    "#pprint(dat_dct)"
   ]
  },
  {
   "cell_type": "code",
   "execution_count": 25,
   "metadata": {},
   "outputs": [
    {
     "name": "stderr",
     "output_type": "stream",
     "text": [
      "++++++++++++++++++++++++++++++++++++++++++++++++++++++++++++++++++++++++++++++++++++++++++++++++++++\n",
      "optimizer: lmfit-leastsq\n",
      "optimizing parameters:\n",
      "----------------------------------------------------------------------------------------------------\n",
      "index    name    unit    start    lo_limit    up_limit    scale\n",
      " 0   lineflux@co21         1.00      Jy km / s  (     0.10      Jy km / s,      10.00     Jy km / s )     9.00      Jy km / s \n",
      " 1   inc@basics            44.06     deg  (     10.00     deg,      80.00     deg )     35.94     deg \n",
      " 2   vSigma@basics         60.00     km / s  (     5.00      km / s,     200.00     km / s )    140.00     km / s \n",
      " 3   rcProf[1]@basics     300.00     km / s  (     0.00      km / s,     500.00     km / s )    300.00     km / s \n",
      " 4   sbProf[1]@co21        3.20      kpc  (     1.00      kpc,      50.00     kpc )     46.80     kpc \n",
      "++++++++++++++++++++++++++++++++++++++++++++++++++++++++++++++++++++++++++++++++++++++++++++++++++++\n",
      "ndim:    5\n",
      "outdir:  ./xy00\n",
      "npar ->5\n",
      "ndata->277800\n",
      "--- save to: ./xy00/fit.h5\n",
      "max_iteration:10\n",
      " \n",
      "Running Optimizer: lmfit-leastsq\n",
      ">>./xy00/chisq_chain.h5\n",
      " \n",
      "set OpenMP threading: 8\n"
     ]
    },
    {
     "name": "stdout",
     "output_type": "stream",
     "text": [
      "<module 'mkl_fft._numpy_fft' from '/Users/Rui/Library/Python/3.8/lib/python/site-packages/mkl_fft/_numpy_fft.py'>\n"
     ]
    },
    {
     "name": "stderr",
     "output_type": "stream",
     "text": [
      "[<Quantity 1. Jy km / s>, <Quantity 44.06 deg>, <Quantity 60. km / s>, <Quantity 300. km / s>, <Quantity 3.2 kpc>] 2574778.933844644 277800\n",
      "[<Quantity 1. Jy km / s>, <Quantity 44.06 deg>, <Quantity 60. km / s>, <Quantity 300. km / s>, <Quantity 3.2 kpc>] 2574774.166246652 277800\n",
      "[<Quantity 1. Jy km / s>, <Quantity 44.06 deg>, <Quantity 60. km / s>, <Quantity 300. km / s>, <Quantity 3.2 kpc>] 2574746.1847878443 277800\n",
      "[<Quantity 2.03380215 Jy km / s>, <Quantity 44.06 deg>, <Quantity 60. km / s>, <Quantity 300. km / s>, <Quantity 3.2 kpc>] 2731617.9022878488 277800\n",
      "[<Quantity 1. Jy km / s>, <Quantity 44.35721294 deg>, <Quantity 60. km / s>, <Quantity 300. km / s>, <Quantity 3.2 kpc>] 2574754.6182747474 277800\n",
      "[<Quantity 1. Jy km / s>, <Quantity 44.06 deg>, <Quantity 72.90488887 km / s>, <Quantity 300. km / s>, <Quantity 3.2 kpc>] 2575372.5122405114 277800\n",
      "[<Quantity 1. Jy km / s>, <Quantity 44.06 deg>, <Quantity 60. km / s>, <Quantity 315.48525157 km / s>, <Quantity 3.2 kpc>] 2574734.3072844115 277800\n",
      "[<Quantity 1. Jy km / s>, <Quantity 44.06 deg>, <Quantity 60. km / s>, <Quantity 300. km / s>, <Quantity 8.2334173 kpc>] 2586405.578127472 277800\n",
      "[<Quantity 0.96173598 Jy km / s>, <Quantity 44.25306985 deg>, <Quantity 57.85500502 km / s>, <Quantity 285.79817746 km / s>, <Quantity 3.46408304 kpc>] 2574355.640511762 277800\n",
      "[<Quantity 1.99749752 Jy km / s>, <Quantity 44.25306985 deg>, <Quantity 57.85500502 km / s>, <Quantity 285.79817746 km / s>, <Quantity 3.46408304 kpc>] 2720537.740364452 277800\n",
      "[<Quantity 0.96173598 Jy km / s>, <Quantity 44.48924925 deg>, <Quantity 57.85500502 km / s>, <Quantity 285.79817746 km / s>, <Quantity 3.46408304 kpc>] 2574375.4111154974 277800\n",
      "[<Quantity 0.96173598 Jy km / s>, <Quantity 44.25306985 deg>, <Quantity 71.3469151 km / s>, <Quantity 285.79817746 km / s>, <Quantity 3.46408304 kpc>] 2575338.1886846204 277800\n",
      "[<Quantity 0.96173598 Jy km / s>, <Quantity 44.25306985 deg>, <Quantity 57.85500502 km / s>, <Quantity 296.99972556 km / s>, <Quantity 3.46408304 kpc>] 2574412.4385691606 277800\n",
      "[<Quantity 0.96173598 Jy km / s>, <Quantity 44.25306985 deg>, <Quantity 57.85500502 km / s>, <Quantity 285.79817746 km / s>, <Quantity 8.53696517 kpc>] 2587509.9485352985 277800\n",
      "[<Quantity 0.9531839 Jy km / s>, <Quantity 44.24472024 deg>, <Quantity 60.06781675 km / s>, <Quantity 270.36890389 km / s>, <Quantity 3.4787922 kpc>] 2574356.977020371 277800\n",
      "[<Quantity 0.9531839 Jy km / s>, <Quantity 44.24472024 deg>, <Quantity 60.06781675 km / s>, <Quantity 270.36890389 km / s>, <Quantity 3.4787922 kpc>] 2574362.2305434 277800\n",
      "[<Quantity 0.95322114 Jy km / s>, <Quantity 44.22129748 deg>, <Quantity 59.7291726 km / s>, <Quantity 272.30952079 km / s>, <Quantity 3.47911422 kpc>] 2574383.7692664317 277800\n",
      "[<Quantity 0.95688326 Jy km / s>, <Quantity 44.16333264 deg>, <Quantity 58.2483613 km / s>, <Quantity 282.07572101 km / s>, <Quantity 3.48665872 kpc>] 2574370.7968050055 277800\n",
      "[<Quantity 0.96000245 Jy km / s>, <Quantity 44.21549632 deg>, <Quantity 57.96763172 km / s>, <Quantity 284.85245743 km / s>, <Quantity 3.47523902 kpc>] 2574365.7842924977 277800\n",
      "[<Quantity 0.96127376 Jy km / s>, <Quantity 44.24336097 deg>, <Quantity 57.88573441 km / s>, <Quantity 285.59155465 km / s>, <Quantity 3.46739733 kpc>] 2574373.7263412755 277800\n",
      "[<Quantity 0.96168661 Jy km / s>, <Quantity 44.2520623 deg>, <Quantity 57.85836795 km / s>, <Quantity 285.77795848 km / s>, <Quantity 3.46444995 kpc>] 2574387.9987466848 277800\n",
      "[<Quantity 0.961731 Jy km / s>, <Quantity 44.25296876 deg>, <Quantity 57.85534477 km / s>, <Quantity 285.79616227 km / s>, <Quantity 3.46412013 kpc>] 2574388.3719636085 277800\n",
      "[<Quantity 0.96173548 Jy km / s>, <Quantity 44.25305973 deg>, <Quantity 57.85503903 km / s>, <Quantity 285.79797601 km / s>, <Quantity 3.46408675 kpc>] 2574379.9632822024 277800\n",
      "[<Quantity 0.96173598 Jy km / s>, <Quantity 44.25306985 deg>, <Quantity 57.85500502 km / s>, <Quantity 285.79817746 km / s>, <Quantity 3.46408304 kpc>] 2574365.574557618 277800\n",
      "--- save to: ./xy00/chisq_chain.h5\n"
     ]
    },
    {
     "name": "stdout",
     "output_type": "stream",
     "text": [
      "[[Fit Statistics]]\n",
      "    # fitting method   = leastsq\n",
      "    # function evals   = 21\n",
      "    # data points      = 277800\n",
      "    # variables        = 5\n",
      "    chi-square         = 2574365.57\n",
      "    reduced chi-square = 9.26714151\n",
      "    Akaike info crit   = 618519.747\n",
      "    Bayesian info crit = 618572.421\n",
      "[[Variables]]\n",
      "    p_1:  0.96173598 +/- 0.01168256 (1.21%) (init = 1)\n",
      "    p_2:  44.2530698 +/- 0.32055330 (0.72%) (init = 44.06)\n",
      "    p_3:  57.8550050 +/- 2.37305438 (4.10%) (init = 60)\n",
      "    p_4:  285.798177 +/- 12.0880869 (4.23%) (init = 300)\n",
      "    p_5:  3.46408304 +/- 0.18925317 (5.46%) (init = 3.2)\n",
      "[[Correlations]] (unreported correlations are < 0.100)\n",
      "    C(p_3, p_4) = -0.667\n",
      "    C(p_1, p_5) =  0.666\n",
      "    C(p_2, p_4) = -0.533\n",
      "    C(p_4, p_5) = -0.275\n",
      "    C(p_1, p_3) =  0.247\n",
      "    C(p_1, p_4) = -0.207\n",
      "    C(p_2, p_3) =  0.192\n",
      "    C(p_3, p_5) = -0.101\n"
     ]
    },
    {
     "data": {
      "text/plain": [
       "Timer unit: 1e-06 s\n",
       "\n",
       "Total time: 32.8172 s\n",
       "File: /Users/Rui/Resilio/Workspace/projects/GMaKE/gmake/opt.py\n",
       "Function: opt_iterate at line 266\n",
       "\n",
       "Line #      Hits         Time  Per Hit   % Time  Line Contents\n",
       "==============================================================\n",
       "   266                                           def opt_iterate(fit_dct,inp_dct,dat_dct,models,resume=False):\n",
       "   267                                           \n",
       "   268         1          2.0      2.0      0.0      method=fit_dct['method'].split('-')[0]\n",
       "   269                                               \n",
       "   270         1          0.0      0.0      0.0      if  method=='emcee':\n",
       "   271                                                   opt_name='emcee'\n",
       "   272                                               else:\n",
       "   273         1          2.0      2.0      0.0          opt_name='chisq'\n",
       "   274                                               \n",
       "   275         1        596.0    596.0      0.0      logger.debug('max_iteration:'+str(inp_dct['optimize']['niter']))\n",
       "   276         2   32816571.0 16408285.5    100.0      globals()[opt_name+'_iterate'](fit_dct,inp_dct,dat_dct,models,\n",
       "   277         1          1.0      1.0      0.0                                     nstep=inp_dct['optimize']['niter'],\n",
       "   278         1          0.0      0.0      0.0                                     resume=resume)\n",
       "   279                                           \n",
       "   280         1          1.0      1.0      0.0      return"
      ]
     },
     "metadata": {},
     "output_type": "display_data"
    }
   ],
   "source": [
    "#pprint(np.sum(dat_dct['weight@../../../data/mockup_basic_withnoise.ms']==0))\n",
    "inp_dct=gmake.read_inp(inpfile)\n",
    "#inp_dct=gmake.inp_validate(inp_dct)\n",
    "#mod_dct=gmake.inp2mod(inp_dct)\n",
    "#gmake.clouds_fill(mod_dct)\n",
    "#print(mod_dct)\n",
    "#models=gmake.model_setup(gmake.inp2mod(inp_dct),dat_dct)\n",
    "\n",
    "fit_dct,models=gmake.opt_setup(inp_dct,dat_dct)\n",
    "#pprint(models)\n",
    "#models['error@../../data/mockup_basic_withnoise.ms/dm.image.fits']\n",
    "#pprint(fit_dct)\n",
    "#pprint(models)\n",
    "from gmake.utils import fft_use\n",
    "import gmake\n",
    "print(fft_use)\n",
    "%lprun -f gmake.opt_iterate gmake.opt_iterate(fit_dct,inp_dct,dat_dct,models,resume=False)\n",
    "#gmake.opt_iterate(fit_dct,inp_dct,dat_dct,models)"
   ]
  },
  {
   "cell_type": "code",
   "execution_count": 2,
   "metadata": {},
   "outputs": [
    {
     "name": "stdout",
     "output_type": "stream",
     "text": [
      "3.8.2 (default, Feb 27 2020, 22:13:36) \n",
      "[Clang 11.0.0 (clang-1100.0.33.17)]\n",
      "hyperion\n",
      "/Users/Rui/Resilio/Workspace/projects/GMaKE/gmake/tests/results/mockup/sbrci\n",
      "0.2.dev1\n",
      "rx.astro@gmail.com\n",
      "/Users/Rui/Resilio/Workspace/projects/GMaKE/gmake\n"
     ]
    }
   ],
   "source": [
    "import gmake\n",
    "import socket\n",
    "if  'hypersion' or 'mini' in socket.gethostname() :\n",
    "    os.chdir(gmake.__demo__+'/../gmake/tests/results/mockup/uv_nelder')\n",
    "    os.chdir(gmake.__demo__+'/../gmake/tests/results/mockup/sbrci')\n",
    "print(sys.version)\n",
    "\n",
    "print(socket.gethostname())\n",
    "print(os.getcwd())\n",
    "print(gmake.__version__)\n",
    "print(gmake.__email__)\n",
    "print(gmake.__demo__)\n",
    "inpfile=gmake.__demo__+'/../gmake/tests/data/mockup_basic_opt_ab.inp'\n",
    "inpfile='xy00_mc.inp'\n",
    "#pprint(np.sum(dat_dct['weight@../../../data/mockup_basic_withnoise.ms']==0))\n",
    "inp_dct=gmake.read_inp(inpfile)\n",
    "#inp_dct=gmake.inp_validate(inp_dct)\n",
    "mod_dct=gmake.inp2mod(inp_dct)\n",
    "gmake.clouds_fill(mod_dct)\n",
    "#print(mod_dct)\n",
    "#models=gmake.model_setup(gmake.inp2mod(inp_dct),dat_dct)\n",
    "\n",
    "#fit_dct,models=gmake.opt_setup(inp_dct,dat_dct,initial_model=True)\n",
    "#pprint(models)\n",
    "#models['error@../../data/mockup_basic_withnoise.ms/dm.image.fits']\n",
    "#pprint(fit_dct)\n",
    "#pprint(models)\n",
    "#%lprun -f gmake.evaluate.calc_wdev gmake.opt_iterate(fit_dct,inp_dct,dat_dct,models,resume=False)\n",
    "#gmake.opt_iterate(fit_dct,inp_dct,dat_dct,models)\n",
    "#p0=[q.value for q in fit_dct['p_start']]\n",
    "#gmake.utils.set_threads(1)\n",
    "##%timeit gmake.evaluate.calc_wdev(p0,fit_dct=fit_dct,inp_dct=inp_dct,models=models)\n",
    "#%lprun -f gmake.evaluate.xy_mapper gmake.evaluate.calc_wdev(p0,fit_dct=fit_dct,inp_dct=inp_dct,models=models)"
   ]
  },
  {
   "cell_type": "code",
   "execution_count": 29,
   "metadata": {},
   "outputs": [
    {
     "data": {
      "text/plain": [
       "Timer unit: 1e-06 s\n",
       "\n",
       "Total time: 0.173958 s\n",
       "File: /Users/Rui/Resilio/Workspace/projects/GMaKE/gmake/model.py\n",
       "Function: clouds_fromobj at line 536\n",
       "\n",
       "Line #      Hits         Time  Per Hit   % Time  Line Contents\n",
       "==============================================================\n",
       "   536                                           def clouds_fromobj(obj,\n",
       "   537                                                              nc=100000,nv=20,seeds=[None,None,None,None]):\n",
       "   538                                               \"\"\"\n",
       "   539                                               This is a wrapper function to create a cloudlet model from a object dict \n",
       "   540                                               \"\"\"\n",
       "   541         2      13068.0   6534.0      7.5      car,cloudmeta=clouds_morph(sbProf=obj['sbProf'],\n",
       "   542         1          1.0      1.0      0.0                            rotPhi=obj['rotAz'] if  'rotAz' in obj else None,\n",
       "   543         1          1.0      1.0      0.0                            sbQ=obj['sbQ'] if  'sbQ' in obj else None,\n",
       "   544         1          1.0      1.0      0.0                            vbProf=obj['vbProf'],\n",
       "   545         1          1.0      1.0      0.0                            seeds=seeds[0:3],size=nc)    \n",
       "   546                                           \n",
       "   547         2      79964.0  39982.0     46.0      car_k=clouds_kin(car,\n",
       "   548         1          1.0      1.0      0.0                       rcProf=obj['rcProf'],\n",
       "   549         1          0.0      0.0      0.0                       vRadial=obj['vRadial'],\n",
       "   550         1          1.0      1.0      0.0                       vSigma=obj['vSigma'],\n",
       "   551         1          1.0      1.0      0.0                       seed=seeds[3],nV=nv)\n",
       "   552                                               \n",
       "   553         1      36509.0  36509.0     21.0      clouds_tosky(car_k,obj['inc'],obj['pa'],inplace=True)\n",
       "   554                                               \n",
       "   555         1      44410.0  44410.0     25.5      return car_k.ravel(),None"
      ]
     },
     "metadata": {},
     "output_type": "display_data"
    }
   ],
   "source": [
    "%lprun -f gmake.clouds_fromobj gmake.clouds_fill(mod_dct)\n",
    "#%timeit gmake.clouds_fill(mod_dct)"
   ]
  },
  {
   "cell_type": "code",
   "execution_count": 12,
   "metadata": {},
   "outputs": [],
   "source": [
    "inp_dct=gmake.read_inp(inpfile)\n",
    "inp_dct=gmake.inp_validate(inp_dct)\n",
    "mod_dct=gmake.inp2mod(inp_dct)\n",
    "gmake.clouds_fill(mod_dct)\n",
    "#print(mod_dct)\n",
    "#models=gmake.model_setup(gmake.inp2mod(inp_dct),dat_dct)\n",
    "\n",
    "#fit_dct,models=gmake.opt_setup(inp_dct,dat_dct,initial_model=False)\n",
    "#pprint(models)\n",
    "#models['error@../../data/mockup_basic_withnoise.ms/dm.image.fits']\n",
    "#pprint(fit_dct)\n",
    "#pprint(models)\n",
    "#%lprun -f gmake.opt_iterate gmake.opt_iterate(fit_dct,inp_dct,dat_dct,models,resume=False)\n",
    "#gmake.opt_iterate(fit_dct,inp_dct,dat_dct,models)"
   ]
  },
  {
   "cell_type": "code",
   "execution_count": 65,
   "metadata": {},
   "outputs": [
    {
     "name": "stdout",
     "output_type": "stream",
     "text": [
      "545 ms ± 14.1 ms per loop (mean ± std. dev. of 7 runs, 1 loop each)\n"
     ]
    }
   ],
   "source": [
    "#p_chisq=gmake.hdf2dct(fit_dct['outfolder']+'/chisq_chain.h5')\n",
    "#p_chisq['blobs']['pars'].shape\n",
    "#print(models['sample@../../data/mockup_basic_withnoise.ms/dm.image.fits'].shape)\n",
    "#print(models['data-sp@../../data/mockup_basic_withnoise.ms/dm.image.fits'].shape)\n",
    "#print(gmake.xy_chisq([mod_dct['co21']],'../../data/mockup_basic_withnoise.ms/dm.image.fits',dat_dct,models))\n",
    "%timeit gmake.xy_chisq([mod_dct['co21']],'../../data/mockup_basic_withnoise.ms/dm.image.fits',dat_dct,models)\n"
   ]
  },
  {
   "cell_type": "code",
   "execution_count": 66,
   "metadata": {},
   "outputs": [
    {
     "name": "stdout",
     "output_type": "stream",
     "text": [
      "542 ms ± 16.5 ms per loop (mean ± std. dev. of 7 runs, 1 loop each)\n"
     ]
    }
   ],
   "source": [
    "#print(gmake.evaluate.xy_chisq0([mod_dct['co21']],'../../data/mockup_basic_withnoise.ms/dm.image.fits',dat_dct,models))\n",
    "%timeit gmake.evaluate.xy_chisq0([mod_dct['co21']],'../../data/mockup_basic_withnoise.ms/dm.image.fits',dat_dct,models)\n",
    "#%lprun -f gmake.evaluate.xy_chisq0 gmake.evaluate.xy_chisq0([mod_dct['co21']],'../../data/mockup_basic_withnoise.ms/dm.image.fits',dat_dct,models)"
   ]
  },
  {
   "cell_type": "code",
   "execution_count": 3,
   "metadata": {},
   "outputs": [
    {
     "name": "stderr",
     "output_type": "stream",
     "text": [
      "The chain is shorter than 50 times the integrated autocorrelation time for 2 parameter(s). Use this estimate with caution and run a longer chain!\n",
      "N/50 = 8;\n",
      "tau: [21.47239717 21.71853599]\n",
      "tau: [21.47239717 21.71853599]\n",
      "select burnin:   180\n",
      "chain shape  :   (400, 40, 2)\n",
      "++++++++++++++++++++++++++++++++++++++++++++++++++++++++++++++++++++++++++++++++++++++++++\n",
      ">>>  vsini@basics:\n",
      " median(sigma) = 209.54       -33.41       -16.96       19.48        38.24       \n",
      " median(ptile) = 209.54       176.13       192.57       229.02       247.78      \n",
      " start(iscale) = 250.00      /150.00      \n",
      " mode          = 211.71      \n",
      ">>>  sbProf[1]@co21:\n",
      " median(sigma) = 6.95           -1.00          -0.54          0.59           1.25          \n",
      " median(ptile) = 6.95           5.94           6.41           7.54           8.19          \n",
      " start(iscale) = 3.00          /27.00         \n",
      " mode          = 7.02          \n",
      "------------------------------------------------------------------------------------------\n",
      "analyzing outfolder:./\n",
      "plotting....//emcee-iteration.pdf\n",
      "analyzing outfolder:./\n",
      "plotting....//emcee-iteration-blobs.pdf\n",
      "plotting....//emcee-corner.pdf\n",
      "input data size:(8800, 2)\n",
      "Took 0.17630577087402344 seconds\n",
      "--- save to: .//fit.h5\n"
     ]
    }
   ],
   "source": [
    "#import emcee\n",
    "#h5name=fit_dct['outfolder']+'/emcee_chain.h5'\n",
    "#backend = emcee.backends.HDFBackend(h5name)\n",
    "#print(backend)\n",
    "#p_amoeba=gmake.hdf2dct(fit_dct['outfolder']+'/amoeba_chain.h5')\n",
    "#import gmake\n",
    "gmake.analyze.opt_analyze(inpfile,export=False,burnin=180)\n",
    "#p_chisq=gmake.hdf2dct(fit_dct['outfolder']+'/chisq_chain.h5')\n",
    "#p_chisq['result'].var_names\n",
    "#pprint(p_amoeba)\n",
    "#p_lmfit=gmake.hdf2dct(inp_dct['general']['outdir']+'/lmfit_chain.h5')\n",
    "#from lmfit import report_fit\n",
    "#report_fit(p_lmfit['lmfit_result'])\n",
    "#result=p_lmfit['lmfit_result']\n",
    "#result.flatchain\n",
    "#help(result)"
   ]
  },
  {
   "cell_type": "code",
   "execution_count": 18,
   "metadata": {},
   "outputs": [
    {
     "name": "stdout",
     "output_type": "stream",
     "text": [
      "Help on method reset in module emcee.backends.hdf:\n",
      "\n",
      "reset(nwalkers, ndim) method of emcee.backends.hdf.HDFBackend instance\n",
      "    Clear the state of the chain and empty the backend\n",
      "    \n",
      "    Args:\n",
      "        nwakers (int): The size of the ensemble\n",
      "        ndim (int): The number of dimensions\n",
      "\n"
     ]
    }
   ],
   "source": [
    "help(backend.reset)"
   ]
  },
  {
   "cell_type": "code",
   "execution_count": 40,
   "metadata": {},
   "outputs": [
    {
     "ename": "KeyError",
     "evalue": "'header@test_data.fits'",
     "output_type": "error",
     "traceback": [
      "\u001b[0;31m---------------------------------------------------------------------------\u001b[0m",
      "\u001b[0;31mKeyError\u001b[0m                                  Traceback (most recent call last)",
      "\u001b[0;32m<ipython-input-40-5a42a30375fa>\u001b[0m in \u001b[0;36m<module>\u001b[0;34m\u001b[0m\n\u001b[1;32m     13\u001b[0m \u001b[0;34m\u001b[0m\u001b[0m\n\u001b[1;32m     14\u001b[0m \u001b[0;34m\u001b[0m\u001b[0m\n\u001b[0;32m---> 15\u001b[0;31m \u001b[0mheader\u001b[0m\u001b[0;34m=\u001b[0m\u001b[0mmodels\u001b[0m\u001b[0;34m[\u001b[0m\u001b[0;34m'header@test_data.fits'\u001b[0m\u001b[0;34m]\u001b[0m\u001b[0;34m\u001b[0m\u001b[0;34m\u001b[0m\u001b[0m\n\u001b[0m\u001b[1;32m     16\u001b[0m \u001b[0mpsf\u001b[0m\u001b[0;34m=\u001b[0m\u001b[0mmodels\u001b[0m\u001b[0;34m[\u001b[0m\u001b[0;34m'psf@test_data.fits'\u001b[0m\u001b[0;34m]\u001b[0m\u001b[0;34m\u001b[0m\u001b[0;34m\u001b[0m\u001b[0m\n\u001b[1;32m     17\u001b[0m \u001b[0;31m#%lprun -f gmake.discretize.mapper cube,scube=gmake.discretize.mapper(objs,header,psf=psf)\u001b[0m\u001b[0;34m\u001b[0m\u001b[0;34m\u001b[0m\u001b[0;34m\u001b[0m\u001b[0m\n",
      "\u001b[0;31mKeyError\u001b[0m: 'header@test_data.fits'"
     ]
    }
   ],
   "source": [
    "import gmake\n",
    "from astropy.io import fits\n",
    "inp_dct=gmake.read_inp(inpfile)\n",
    "inp_dct=gmake.inp_validate(inp_dct)\n",
    "mod_dct=gmake.inp2mod(inp_dct)\n",
    "gmake.clouds_fill(mod_dct)\n",
    "#pprint(mod_dct)\n",
    "models=gmake.model_setup(gmake.inp2mod(inp_dct),dat_dct)\n",
    "#pprint(models)\n",
    "#header=models['header@../../../../examples/data/gn20/vla/AC974.100408.ms']\n",
    "objs=[mod_dct['co21']]\n",
    "#psf=models['psf@../../../../examples/data/gn20/vla/AC974.100408.ms']\n",
    "\n",
    "\n",
    "header=models['header@test_data.fits']\n",
    "psf=models['psf@test_data.fits']\n",
    "#%lprun -f gmake.discretize.mapper cube,scube=gmake.discretize.mapper(objs,header,psf=psf)\n",
    "#%timeit cube,scube=gmake.discretize.mapper(objs,header,psf=psf)\n",
    "\n",
    "#fits.writeto('out_model.fits',cube,header,overwrite=True)\n",
    "#fits.writeto('out_smodel.fits',scube,header,overwrite=True)\n",
    "#fits.writeto('out_psf.fits',psf,header,overwrite=True)\n",
    "#%lprun -f gmake.uv_chisq fit_dct=gmake.fit_setup(inp_dct,dat_dct,initial_model=True)\n",
    "\n",
    "\n",
    "#%lprun -f gmake.log_likelihood gmake.fit_iterate(fit_dct,inp_dct,dat_dct)\n",
    "#gmake.fit_analyze(inpfile,export=True)\n",
    "%lprun -f uv_chisq chi2=uv_chisq(objs,header,uvdata,uvw,phasecenter,uvweight,uvflag)\n",
    "#%mprun -f uv_chisq chi2=uv_chisq(objs,header,uvdata,uvw,phasecenter,uvweight,uvflag)"
   ]
  },
  {
   "cell_type": "code",
   "execution_count": 135,
   "metadata": {},
   "outputs": [
    {
     "data": {
      "text/plain": [
       "Timer unit: 1e-06 s\n",
       "\n",
       "Total time: 0.392153 s\n",
       "File: /Users/Rui/Resilio/Workspace/projects/GMaKE/gmake/discretizer.py\n",
       "Function: uv_mapper at line 369\n",
       "\n",
       "Line #      Hits         Time  Per Hit   % Time  Line Contents\n",
       "==============================================================\n",
       "   369                                           def uv_mapper(objs,header,\n",
       "   370                                                         uvdata,uvw,phasecenter,uvweight,uvflag):\n",
       "   371                                               \"\"\"\n",
       "   372                                               map mutiple component into one header and calculate chisq\n",
       "   373                                               \n",
       "   374                                               models:    a list of model to be mapped into the visibility model for the chisq calculation\n",
       "   375                                               header:    pesudo fits header\n",
       "   376                                               uv...:     visibility data \n",
       "   377                                               \n",
       "   378                                               \"\"\"\n",
       "   379                                               \n",
       "   380         1          2.0      2.0      0.0      cc=0\n",
       "   381         1          1.0      1.0      0.0      chi2=0\n",
       "   382         1      11213.0  11213.0      2.9      w=WCS(header)\n",
       "   383         1          1.0      1.0      0.0      naxis=w._naxis    \n",
       "   384                                               \n",
       "   385         1        814.0    814.0      0.2      phasecenter_sc = SkyCoord(phasecenter[0], phasecenter[1], frame='icrs')\n",
       "   386         1        699.0    699.0      0.2      refimcenter_sc = SkyCoord(w.wcs.crval[0]*u.deg,w.wcs.crval[1]*u.deg, frame='icrs')\n",
       "   387         1       6950.0   6950.0      1.8      dra, ddec = phasecenter_sc.spherical_offsets_to(refimcenter_sc)    \n",
       "   388         1         19.0     19.0      0.0      dRA=dra.to_value(u.rad)\n",
       "   389         1         14.0     14.0      0.0      dDec=ddec.to_value(u.rad)\n",
       "   390         1        316.0    316.0      0.1      cell=np.mean(proj_plane_pixel_scales(w.celestial))\n",
       "   391         1          7.0      7.0      0.0      cell=(np.deg2rad(cell)).astype(np.float32)\n",
       "   392         1        200.0    200.0      0.1      wspec=w.sub(['spectral'])  \n",
       "   393         1        635.0    635.0      0.2      wv=wspec.pixel_to_world(np.arange(naxis[2])).to(u.m,equivalencies=u.spectral()).value.astype(np.float32) \n",
       "   394                                               \n",
       "   395                                               #   gather information per object before going into the channel loop,\n",
       "   396                                               #   so it won't need to reapt for each chanel\n",
       "   397                                               fluxscale_list,xrange_list,yrange_list,x_list,y_list,wt_list=\\\n",
       "   398         1      62757.0  62757.0     16.0          channel_split(objs,w,return_v=False) \n",
       "   399                                               \n",
       "   400         1      71299.0  71299.0     18.2      vis=np.zeros((uvdata.shape)[0:2],dtype=uvdata.dtype,order='F')\n",
       "   401                                                   \n",
       "   402       129        205.0      1.6      0.1      for iz in range(naxis[2]):\n",
       "   403                                                   \n",
       "   404       128        126.0      1.0      0.0          blank=True  \n",
       "   405       256        410.0      1.6      0.1          for i in range(len(objs)): \n",
       "   406       128        202.0      1.6      0.1              if  x_list[i][iz].size!=0:\n",
       "   407        61         60.0      1.0      0.0                  wt=wt_list[i][iz] if wt_list[i] is not None else None\n",
       "   408        61         57.0      0.9      0.0                  if  blank==True:\n",
       "   409        61        108.0      1.8      0.0                      plane=fh.histogram2d(y_list[i][iz+1],x_list[i][iz+1],\n",
       "   410        61         79.0      1.3      0.0                                           range=[yrange_list[i],xrange_list[i]],\n",
       "   411        61         68.0      1.1      0.0                                           bins=(naxis[1],naxis[0]),\n",
       "   412        61      22811.0    374.0      5.8                                           weights=wt)*fluxscale_list[i]\n",
       "   413        61         99.0      1.6      0.0                      blank=False\n",
       "   414                                                           else:\n",
       "   415                                                               plane+=fh.histogram2d(y_list[i][iz+1],x_list[i][iz+1],\n",
       "   416                                                                                    range=[yrange_list[i],xrange_list[i]],\n",
       "   417                                                                                    bins=(naxis[1],naxis[0]),\n",
       "   418                                                                                    weights=wt)*fluxscale_list[i]                    \n",
       "   419       128        114.0      0.9      0.0          if  blank==False:\n",
       "   420        61        939.0     15.4      0.2              vis[:,iz]=sampleImage(plane.astype(np.float32),\n",
       "   421        61         76.0      1.2      0.0                                    cell,\n",
       "   422        61       3753.0     61.5      1.0                                    (uvw[:,0]/wv[iz]),\n",
       "   423        61       3589.0     58.8      0.9                                    (uvw[:,1]/wv[iz]),                               \n",
       "   424        61         56.0      0.9      0.0                                    dRA=dRA,dDec=dDec,\n",
       "   425        61     204473.0   3352.0     52.1                                    PA=0.,check=False,origin='lower')\n",
       "   426                                           \n",
       "   427                                                       \n",
       "   428         1          1.0      1.0      0.0      return vis"
      ]
     },
     "metadata": {},
     "output_type": "display_data"
    }
   ],
   "source": [
    "import gmake\n",
    "from astropy.io import fits\n",
    "inp_dct=gmake.read_inp(inpfile)\n",
    "inp_dct=gmake.inp_validate(inp_dct)\n",
    "mod_dct=gmake.inp2mod(inp_dct)\n",
    "gmake.clouds_fill(mod_dct)\n",
    "\n",
    "models=gmake.model_setup(gmake.inp2mod(inp_dct),dat_dct)\n",
    "header=models['header@../../../../examples/data/gn20/vla/AC974.100408.ms']\n",
    "uvdata=dat_dct['data@../../../../examples/data/gn20/vla/AC974.100408.ms']\n",
    "uvw=dat_dct['uvw@../../../../examples/data/gn20/vla/AC974.100408.ms']\n",
    "phasecenter=dat_dct['phasecenter@../../../../examples/data/gn20/vla/AC974.100408.ms']\n",
    "uvweight=dat_dct['weight@../../../../examples/data/gn20/vla/AC974.100408.ms']\n",
    "uvflag=dat_dct['flag@../../../../examples/data/gn20/vla/AC974.100408.ms']\n",
    "objs=[mod_dct['co21']]\n",
    "\n",
    "%lprun -f gmake.discretize.uv_mapper vis=gmake.discretize.uv_mapper(objs,header,uvdata,uvw,phasecenter,uvweight,uvflag)\n",
    "#%lprun -f gmake.uv_chisq fit_dct=gmake.fit_setup(inp_dct,dat_dct,initial_model=True)\n",
    "#%lprun -f gmake.log_likelihood gmake.fit_iterate(fit_dct,inp_dct,dat_dct)\n",
    "#gmake.fit_analyze(inpfile,export=True)\n",
    "#%lprun -f uv_chisq chi2=uv_chisq(objs,header,uvdata,uvw,phasecenter,uvweight,uvflag)\n",
    "#%timeit chi2=uv_chisq(objs,header,uvdata,uvw,phasecenter,uvweight,uvflag)\n",
    "#print(chi2)\n",
    "#%mprun -f uv_chisq chi2=uv_chisq(objs,header,uvdata,uvw,phasecenter,uvweight,uvflag)\n",
    "\n",
    "#vis=gmake.discretize.uv_mapper(objs,header,uvdata,uvw,phasecenter,uvweight,uvflag)\n"
   ]
  },
  {
   "cell_type": "code",
   "execution_count": 144,
   "metadata": {},
   "outputs": [
    {
     "name": "stdout",
     "output_type": "stream",
     "text": [
      "complex64\n"
     ]
    }
   ],
   "source": [
    "print(vis.dtype)"
   ]
  },
  {
   "cell_type": "code",
   "execution_count": 44,
   "metadata": {},
   "outputs": [
    {
     "data": {
      "text/plain": [
       "(2000000, 3)"
      ]
     },
     "execution_count": 44,
     "metadata": {},
     "output_type": "execute_result"
    }
   ],
   "source": [
    "mod_dct['co21']['clouds_loc'].get_xyz(xyz_axis=-1).shape"
   ]
  },
  {
   "cell_type": "code",
   "execution_count": 18,
   "metadata": {},
   "outputs": [
    {
     "data": {
      "text/plain": [
       "(136555, 3)"
      ]
     },
     "execution_count": 18,
     "metadata": {},
     "output_type": "execute_result"
    }
   ],
   "source": [
    "uvw.shape"
   ]
  },
  {
   "cell_type": "code",
   "execution_count": 35,
   "metadata": {},
   "outputs": [
    {
     "name": "stdout",
     "output_type": "stream",
     "text": [
      "208 ns ± 1.59 ns per loop (mean ± std. dev. of 7 runs, 1000000 loops each)\n"
     ]
    }
   ],
   "source": [
    "%timeit uvdata0=uvdata[:,2]"
   ]
  },
  {
   "cell_type": "code",
   "execution_count": 40,
   "metadata": {},
   "outputs": [
    {
     "data": {
      "text/plain": [
       "  C_CONTIGUOUS : True\n",
       "  F_CONTIGUOUS : True\n",
       "  OWNDATA : False\n",
       "  WRITEABLE : True\n",
       "  ALIGNED : True\n",
       "  WRITEBACKIFCOPY : False\n",
       "  UPDATEIFCOPY : False"
      ]
     },
     "execution_count": 40,
     "metadata": {},
     "output_type": "execute_result"
    }
   ],
   "source": [
    "uvdata0=uvdata[:,2]\n",
    "uvdata0.flags"
   ]
  },
  {
   "cell_type": "code",
   "execution_count": 29,
   "metadata": {},
   "outputs": [],
   "source": [
    "u = np.ones (100, dtype=complex)"
   ]
  },
  {
   "cell_type": "code",
   "execution_count": 30,
   "metadata": {},
   "outputs": [
    {
     "data": {
      "text/plain": [
       "array([1.+0.j, 1.+0.j, 1.+0.j, 1.+0.j, 1.+0.j, 1.+0.j, 1.+0.j, 1.+0.j,\n",
       "       1.+0.j, 1.+0.j, 1.+0.j, 1.+0.j, 1.+0.j, 1.+0.j, 1.+0.j, 1.+0.j,\n",
       "       1.+0.j, 1.+0.j, 1.+0.j, 1.+0.j, 1.+0.j, 1.+0.j, 1.+0.j, 1.+0.j,\n",
       "       1.+0.j, 1.+0.j, 1.+0.j, 1.+0.j, 1.+0.j, 1.+0.j, 1.+0.j, 1.+0.j,\n",
       "       1.+0.j, 1.+0.j, 1.+0.j, 1.+0.j, 1.+0.j, 1.+0.j, 1.+0.j, 1.+0.j,\n",
       "       1.+0.j, 1.+0.j, 1.+0.j, 1.+0.j, 1.+0.j, 1.+0.j, 1.+0.j, 1.+0.j,\n",
       "       1.+0.j, 1.+0.j])"
      ]
     },
     "execution_count": 30,
     "metadata": {},
     "output_type": "execute_result"
    }
   ],
   "source": [
    "u[::2]"
   ]
  },
  {
   "cell_type": "code",
   "execution_count": 31,
   "metadata": {},
   "outputs": [],
   "source": [
    "uvdata_new=uvdata.transpose().copy()"
   ]
  },
  {
   "cell_type": "code",
   "execution_count": 33,
   "metadata": {},
   "outputs": [
    {
     "name": "stdout",
     "output_type": "stream",
     "text": [
      "  C_CONTIGUOUS : True\n",
      "  F_CONTIGUOUS : False\n",
      "  OWNDATA : True\n",
      "  WRITEABLE : True\n",
      "  ALIGNED : True\n",
      "  WRITEBACKIFCOPY : False\n",
      "  UPDATEIFCOPY : False\n",
      "\n"
     ]
    }
   ],
   "source": [
    "print(uvdata_new.flags)"
   ]
  },
  {
   "cell_type": "code",
   "execution_count": 34,
   "metadata": {},
   "outputs": [
    {
     "name": "stdout",
     "output_type": "stream",
     "text": [
      "211 ns ± 1.44 ns per loop (mean ± std. dev. of 7 runs, 1000000 loops each)\n"
     ]
    }
   ],
   "source": [
    "%timeit uvdata[2,:]"
   ]
  },
  {
   "cell_type": "code",
   "execution_count": 41,
   "metadata": {},
   "outputs": [
    {
     "data": {
      "text/plain": [
       "array([-0.26760855-0.17498447j,  0.02340355+0.09439102j,\n",
       "       -0.10140443+0.12782678j, ...,  0.06768706-0.37996066j,\n",
       "       -0.19639248-0.23046204j,  0.0222325 -0.3234178j ], dtype=complex64)"
      ]
     },
     "execution_count": 41,
     "metadata": {},
     "output_type": "execute_result"
    }
   ],
   "source": [
    "uvdata0"
   ]
  },
  {
   "cell_type": "code",
   "execution_count": 42,
   "metadata": {},
   "outputs": [],
   "source": [
    "uvdata0+=1"
   ]
  },
  {
   "cell_type": "code",
   "execution_count": 43,
   "metadata": {},
   "outputs": [
    {
     "data": {
      "text/plain": [
       "array([0.7323915-0.17498447j, 1.0234035+0.09439102j,\n",
       "       0.8985956+0.12782678j, ..., 1.067687 -0.37996066j,\n",
       "       0.8036075-0.23046204j, 1.0222325-0.3234178j ], dtype=complex64)"
      ]
     },
     "execution_count": 43,
     "metadata": {},
     "output_type": "execute_result"
    }
   ],
   "source": [
    "uvdata0"
   ]
  },
  {
   "cell_type": "code",
   "execution_count": 46,
   "metadata": {},
   "outputs": [
    {
     "data": {
      "text/plain": [
       "array([0.7323915-0.17498447j, 1.0234035+0.09439102j,\n",
       "       0.8985956+0.12782678j, ..., 1.067687 -0.37996066j,\n",
       "       0.8036075-0.23046204j, 1.0222325-0.3234178j ], dtype=complex64)"
      ]
     },
     "execution_count": 46,
     "metadata": {},
     "output_type": "execute_result"
    }
   ],
   "source": [
    "uvdata[:,2]"
   ]
  },
  {
   "cell_type": "code",
   "execution_count": 50,
   "metadata": {},
   "outputs": [
    {
     "data": {
      "text/plain": [
       "(136555, 128)"
      ]
     },
     "execution_count": 50,
     "metadata": {},
     "output_type": "execute_result"
    }
   ],
   "source": [
    "uvdata.shape"
   ]
  },
  {
   "cell_type": "code",
   "execution_count": 51,
   "metadata": {},
   "outputs": [],
   "source": [
    "import bottleneck as bn"
   ]
  },
  {
   "cell_type": "code",
   "execution_count": 61,
   "metadata": {},
   "outputs": [
    {
     "name": "stdout",
     "output_type": "stream",
     "text": [
      "53.1 ms ± 1.58 ms per loop (mean ± std. dev. of 7 runs, 10 loops each)\n"
     ]
    }
   ],
   "source": [
    "%timeit test=bn.nansum(uvdata)"
   ]
  },
  {
   "cell_type": "code",
   "execution_count": 68,
   "metadata": {},
   "outputs": [
    {
     "name": "stdout",
     "output_type": "stream",
     "text": [
      "52.7 ms ± 1.37 ms per loop (mean ± std. dev. of 7 runs, 10 loops each)\n"
     ]
    }
   ],
   "source": [
    "%timeit test=np.nansum(uvdata)\n",
    "test=np.sum(uvdata)"
   ]
  },
  {
   "cell_type": "code",
   "execution_count": 55,
   "metadata": {},
   "outputs": [],
   "source": [
    "import numexpr as ne"
   ]
  },
  {
   "cell_type": "code",
   "execution_count": 63,
   "metadata": {},
   "outputs": [
    {
     "name": "stdout",
     "output_type": "stream",
     "text": [
      "27.8 ms ± 744 µs per loop (mean ± std. dev. of 7 runs, 10 loops each)\n"
     ]
    }
   ],
   "source": [
    "%timeit test=ne.evaluate('sum(a)',local_dict={'a':uvdata})"
   ]
  },
  {
   "cell_type": "code",
   "execution_count": 59,
   "metadata": {},
   "outputs": [
    {
     "data": {
      "text/plain": [
       "(136179.36-905.8241j)"
      ]
     },
     "execution_count": 59,
     "metadata": {},
     "output_type": "execute_result"
    }
   ],
   "source": [
    "bn.nansum(uvdata)"
   ]
  },
  {
   "cell_type": "code",
   "execution_count": 60,
   "metadata": {},
   "outputs": [
    {
     "data": {
      "text/plain": [
       "array(136179.25953069-905.82455157j)"
      ]
     },
     "execution_count": 60,
     "metadata": {},
     "output_type": "execute_result"
    }
   ],
   "source": [
    "ne.evaluate('sum(a)',local_dict={'a':uvdata})"
   ]
  },
  {
   "cell_type": "code",
   "execution_count": 69,
   "metadata": {},
   "outputs": [
    {
     "data": {
      "text/plain": [
       "(136555, 128)"
      ]
     },
     "execution_count": 69,
     "metadata": {},
     "output_type": "execute_result"
    }
   ],
   "source": [
    "uvdata.shape"
   ]
  },
  {
   "cell_type": "code",
   "execution_count": 72,
   "metadata": {},
   "outputs": [],
   "source": [
    "a=uvdata[:,2]\n",
    "b=uvflag[:,2]\n",
    "c=uvweight"
   ]
  },
  {
   "cell_type": "code",
   "execution_count": 77,
   "metadata": {},
   "outputs": [
    {
     "name": "stdout",
     "output_type": "stream",
     "text": [
      "1.17 ms ± 16.9 µs per loop (mean ± std. dev. of 7 runs, 1000 loops each)\n"
     ]
    }
   ],
   "source": [
    "%timeit ne.evaluate('sum( ( (a.real)**2+(a.imag)**2 ) * (~b*c) )',local_dict={'a':a,'b':b,'c':c})"
   ]
  },
  {
   "cell_type": "code",
   "execution_count": 79,
   "metadata": {},
   "outputs": [
    {
     "name": "stdout",
     "output_type": "stream",
     "text": [
      "815 µs ± 23.9 µs per loop (mean ± std. dev. of 7 runs, 1000 loops each)\n"
     ]
    }
   ],
   "source": [
    "%timeit np.sum( ( (a.real)**2+(a.imag)**2 ) * (~b*c) )"
   ]
  },
  {
   "cell_type": "code",
   "execution_count": 7,
   "metadata": {},
   "outputs": [],
   "source": [
    "h5name='emcee_chain.h5-2020-0224-163856'"
   ]
  },
  {
   "cell_type": "code",
   "execution_count": 9,
   "metadata": {},
   "outputs": [],
   "source": [
    "import emcee\n",
    "reader = emcee.backends.HDFBackend(h5name,read_only=True)"
   ]
  },
  {
   "cell_type": "code",
   "execution_count": 10,
   "metadata": {},
   "outputs": [],
   "source": [
    "sampler0=reader"
   ]
  },
  {
   "cell_type": "code",
   "execution_count": 28,
   "metadata": {},
   "outputs": [
    {
     "name": "stdout",
     "output_type": "stream",
     "text": [
      "/Users/Rui/Library/Python/3.7/lib/python/site-packages/ipykernel_launcher.py:7: UserWarning: Attempting to set identical bottom == top == 207.0036540522829 results in singular transformations; automatically expanding.\n",
      "  import sys\n",
      "\n"
     ]
    },
    {
     "data": {
      "image/png": "[encoded data removed]",
      "text/plain": [
       "<Figure size 432x288 with 1 Axes>"
      ]
     },
     "metadata": {
      "needs_background": "light"
     },
     "output_type": "display_data"
    }
   ],
   "source": [
    "%matplotlib inline\n",
    "plt.plot(sampler0.get_chain()[:, 1, 0], \"k\", lw=0.5)\n",
    "plt.xlim(200, 1000)\n",
    "samp=sampler0.get_chain()[:, 1, 0]\n",
    "vmin=np.min(samp[400:1000])\n",
    "vmax=np.max(samp[400:1000])\n",
    "plt.ylim(vmin, vmax)\n",
    "plt.title(\"move: StretchMove\", fontsize=14)\n",
    "plt.xlabel(\"step number\")\n",
    "plt.ylabel(\"x\");\n",
    "#print(\"Autocorrelation time: {0:.2f} steps\".format(sampler0.get_autocorr_time()[0]))"
   ]
  },
  {
   "cell_type": "code",
   "execution_count": null,
   "metadata": {},
   "outputs": [],
   "source": []
  }
 ],
 "metadata": {
  "kernelspec": {
   "display_name": "Python 3",
   "language": "python",
   "name": "python3"
  },
  "language_info": {
   "codemirror_mode": {
    "name": "ipython",
    "version": 3
   },
   "file_extension": ".py",
   "mimetype": "text/x-python",
   "name": "python",
   "nbconvert_exporter": "python",
   "pygments_lexer": "ipython3",
   "version": "3.8.2"
  }
 },
 "nbformat": 4,
 "nbformat_minor": 4
}
