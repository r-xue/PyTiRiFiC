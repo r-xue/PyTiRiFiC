{
 "cells": [
  {
   "cell_type": "code",
   "execution_count": 18,
   "metadata": {},
   "outputs": [
    {
     "name": "stdout",
     "output_type": "stream",
     "text": [
      "3.8.2 (default, Feb 27 2020, 22:13:36) \n",
      "[Clang 11.0.0 (clang-1100.0.33.17)]\n",
      "hyperion\n",
      "/Users/Rui/Resilio/Workspace/projects/GMaKE/gmake/tests/results/mockup/xy00\n",
      "0.2.dev1\n",
      "rx.astro@gmail.com\n",
      "/Users/Rui/Resilio/Workspace/projects/GMaKE/gmake\n",
      "<Logger gmake (DEBUG)>\n",
      "[<FileHandler /Users/Rui/Resilio/Workspace/projects/GMaKE/gmake/tests/results/mockup/xy00/gmake.log (DEBUG)>, <StreamHandler stderr (DEBUG)>]\n"
     ]
    }
   ],
   "source": [
    "import sys\n",
    "import glob\n",
    "import os\n",
    "import io\n",
    "import logging\n",
    "from pprint import pprint\n",
    "import gmake\n",
    "from gmake.model import clouds_morph\n",
    "from gmake.model import clouds_kin\n",
    "from gmake.model import clouds_tosky\n",
    "from gmake.model import clouds_fromobj\n",
    "from gmake.discretize import xy_mapper\n",
    "from gmake.evaluate import uv_chisq\n",
    "from astropy.coordinates import SkyCoord\n",
    "from gmake.tests.test_cloudlet import *\n",
    "import astropy.units as u\n",
    "import numpy as np\n",
    "\n",
    "import socket\n",
    "if  'hypersion' or 'mini' in socket.gethostname() :\n",
    "    os.chdir(gmake.__demo__+'/../gmake/tests/results/mockup/uv_nelder')\n",
    "    os.chdir(gmake.__demo__+'/../gmake/tests/results/mockup/xy00')\n",
    "print(sys.version)\n",
    "\n",
    "print(socket.gethostname())\n",
    "print(os.getcwd())\n",
    "print(gmake.__version__)\n",
    "print(gmake.__email__)\n",
    "print(gmake.__demo__)\n",
    "inpfile=gmake.__demo__+'/../gmake/tests/data/mockup_basic_opt_ab.inp'\n",
    "inpfile='xy00_mc.inp'\n",
    "logfile=''\n",
    "#gmake.logger_config()\n",
    "#gmake.logger_status()\n",
    "#import pprint\n",
    "#pprint.pprint(logging.Logger.manager.loggerDict)\n",
    "inp_dct=gmake.read_inp(inpfile)\n",
    "inp_dct=gmake.inp_validate(inp_dct)\n",
    "outdir=inp_dct['general']['outdir']\n",
    "gmake.logger_config(logfile=outdir+'/gmake.log',loglevel='DEBUG',logfilelevel='DEBUG')\n",
    "gmake.logger_status()\n",
    "%reload_ext line_profiler\n",
    "%reload_ext memory_profiler\n",
    "\n",
    "#%time dat_dct=gmake.read_data(inp_dct,fill_mask=True,fill_error=True)\n",
    "#%prun dat_dct=gmake.read_data(inp_dct,fill_mask=True,fill_error=True)\n",
    "#%lprun -f gmake.read_data dat_dct=gmake.read_data(inp_dct,fill_mask=True,fill_error=True)\n",
    "#%memit dat_dct=gmake.read_data(inp_dct)\n",
    "#%mprun -f gmake.read_data dat_dct=gmake.read_data(inp_dct)"
   ]
  },
  {
   "cell_type": "code",
   "execution_count": 47,
   "metadata": {},
   "outputs": [
    {
     "name": "stderr",
     "output_type": "stream",
     "text": [
      "read data (may take some time..)\n",
      "loading: ../../../data/mockup_basic_00_withnoise.ms/dm.image.fits to \n",
      "data@../../../data/mockup_basic_00_withnoise.ms/dm.image.fits header@../../../data/mockup_basic_00_withnoise.ms/dm.image.fits\n",
      "(1, 120, 256, 256)30.000137329101562 Mibyte\n",
      "loading: ../../../data/mockup_basic_00_withnoise.ms/dm.psf.fits to \n",
      "psf@../../../data/mockup_basic_00_withnoise.ms/dm.image.fits\n",
      "(1, 120, 256, 256)30.000137329101562 Mibyte\n",
      "loading: ../../../data/mockup_basic_00_withnoise.ms/dm.pb.fits to \n",
      "pbeam@../../../data/mockup_basic_00_withnoise.ms/dm.image.fits\n",
      "(1, 120, 256, 256)144.0 byte\n",
      "--------------------------------------------------------------------------------\n",
      "--- dat_dct size 47.18 Kibyte ---\n",
      "--- took 0.14927  seconds ---\n"
     ]
    }
   ],
   "source": [
    "inp_dct=gmake.read_inp(inpfile)\n",
    "dat_dct=gmake.read_data(inp_dct)\n",
    "mod_dct=gmake.inp2mod(inp_dct)\n",
    "#pprint(dat_dct)\n",
    "#pprint(inp_dct)\n",
    "#pprint(dat_dct)"
   ]
  },
  {
   "cell_type": "code",
   "execution_count": 74,
   "metadata": {},
   "outputs": [
    {
     "name": "stderr",
     "output_type": "stream",
     "text": [
      "++++++++++++++++++++++++++++++++++++++++++++++++++++++++++++++++++++++++++++++++++++++++++++++++++++\n",
      "optimizer: lmfit-nelder\n",
      "optimizing parameters:\n",
      "----------------------------------------------------------------------------------------------------\n",
      "index    name    unit    start    lo_limit    up_limit    scale\n",
      " 0   lineflux@co21       1.20      Jy km / s  (     0.10      Jy km / s,      2.00      Jy km / s )     1.10      Jy km / s \n",
      " 1   sbProf[1]@co21      3.20      kpc  (     1.00      kpc,      20.00     kpc )     16.80     kpc \n",
      "++++++++++++++++++++++++++++++++++++++++++++++++++++++++++++++++++++++++++++++++++++++++++++++++++++\n",
      "ndim:    2\n",
      "outdir:  ./\n",
      "npar ->2\n",
      "ndata->190680\n",
      "--- save to: .//fit.h5\n",
      "max_iteration:30\n",
      " \n",
      "Running Optimizer: lmfit-nelder\n",
      ">>.//chisq_chain.h5\n",
      " \n",
      "set OpenMP threading: 8\n",
      "[<Quantity 1.05 Jy km / s>, <Quantity 10.5 kpc>]\n",
      "[<Quantity 2. Jy km / s>, <Quantity 10.5 kpc>]\n",
      "[<Quantity 1.05 Jy km / s>, <Quantity 20. kpc>]\n",
      "[<Quantity 2. Jy km / s>, <Quantity 1. kpc>]\n",
      "[<Quantity 1.41354926 Jy km / s>, <Quantity 17.21751442 kpc>]\n",
      "[<Quantity 1.92768556 Jy km / s>, <Quantity 3.78248558 kpc>]\n",
      "[<Quantity 1.57779172 Jy km / s>, <Quantity 14.13549261 kpc>]\n",
      "[<Quantity 0.26010387 Jy km / s>, <Quantity 14.13549261 kpc>]\n",
      "[<Quantity 1.81304715 Jy km / s>, <Quantity 11.43116283 kpc>]\n",
      "[<Quantity 1.37004536 Jy km / s>, <Quantity 7.74229557 kpc>]\n",
      "[<Quantity 1.25814618 Jy km / s>, <Quantity 4.84085661 kpc>]\n",
      "[<Quantity 1.91849927 Jy km / s>, <Quantity 5.61602393 kpc>]\n",
      "[<Quantity 1.32018716 Jy km / s>, <Quantity 9.22148327 kpc>]\n",
      "[<Quantity 0.65969899 Jy km / s>, <Quantity 3.23091098 kpc>]\n",
      "[<Quantity 0.96994456 Jy km / s>, <Quantity 4.91132529 kpc>]\n",
      "[<Quantity 0.90628301 Jy km / s>, <Quantity 1.89968079 kpc>]\n",
      "[<Quantity 1.19515733 Jy km / s>, <Quantity 1.86290416 kpc>]\n",
      "[<Quantity 1.02632162 Jy km / s>, <Quantity 3.97579873 kpc>]\n",
      "[<Quantity 1.37381576 Jy km / s>, <Quantity 8.02949087 kpc>]\n",
      "[<Quantity 1.02440959 Jy km / s>, <Quantity 2.97165314 kpc>]\n",
      "[<Quantity 0.79407822 Jy km / s>, <Quantity 2.33756457 kpc>]\n",
      "[<Quantity 1.14245911 Jy km / s>, <Quantity 4.11513014 kpc>]\n",
      "[<Quantity 1.14055532 Jy km / s>, <Quantity 3.08897587 kpc>]\n",
      "[<Quantity 1.11205534 Jy km / s>, <Quantity 3.29811945 kpc>]\n",
      "[<Quantity 0.99393294 Jy km / s>, <Quantity 2.31591911 kpc>]\n",
      "[<Quantity 1.10539792 Jy km / s>, <Quantity 3.60410867 kpc>]\n",
      "[<Quantity 1.19258164 Jy km / s>, <Quantity 3.96990474 kpc>]\n",
      "[<Quantity 1.06658463 Jy km / s>, <Quantity 3.20475012 kpc>]\n",
      "[<Quantity 1.0599151 Jy km / s>, <Quantity 3.50555133 kpc>]\n",
      "[<Quantity 1.09903169 Jy km / s>, <Quantity 3.34925705 kpc>]\n",
      "[<Quantity 1.0602094 Jy km / s>, <Quantity 2.96810767 kpc>]\n",
      "[<Quantity 1.09410856 Jy km / s>, <Quantity 3.43796177 kpc>]\n",
      "[<Quantity 1.0715127 Jy km / s>, <Quantity 3.11985556 kpc>]\n",
      "[<Quantity 1.07716331 Jy km / s>, <Quantity 3.19757526 kpc>]\n",
      "[<Quantity 1.10959587 Jy km / s>, <Quantity 3.34188247 kpc>]\n",
      "[<Quantity 1.07734408 Jy km / s>, <Quantity 3.23869753 kpc>]\n",
      "[<Quantity 1.0992123 Jy km / s>, <Quantity 3.39157418 kpc>]\n",
      "[<Quantity 1.09370208 Jy km / s>, <Quantity 3.34241236 kpc>]\n",
      "[<Quantity 1.07200991 Jy km / s>, <Quantity 3.23199385 kpc>]\n",
      "[<Quantity 1.09227912 Jy km / s>, <Quantity 3.31969872 kpc>]\n",
      "[<Quantity 1.07876788 Jy km / s>, <Quantity 3.26106646 kpc>]\n",
      "[<Quantity 1.088902 Jy km / s>, <Quantity 3.30497998 kpc>]\n",
      "[<Quantity 1.07254112 Jy km / s>, <Quantity 3.20199386 kpc>]\n",
      "[<Quantity 1.08841346 Jy km / s>, <Quantity 3.3069567 kpc>]\n",
      "[<Quantity 1.08312366 Jy km / s>, <Quantity 3.2717343 kpc>]\n",
      "[<Quantity 1.09130217 Jy km / s>, <Quantity 3.32366373 kpc>]\n",
      "[<Quantity 1.0807227 Jy km / s>, <Quantity 3.25323231 kpc>]\n",
      "[<Quantity 1.08865774 Jy km / s>, <Quantity 3.30596825 kpc>]\n",
      "[<Quantity 1.09443471 Jy km / s>, <Quantity 3.33942802 kpc>]\n",
      "[<Quantity 1.08595192 Jy km / s>, <Quantity 3.28857736 kpc>]\n",
      "[<Quantity 1.09160747 Jy km / s>, <Quantity 3.32242435 kpc>]\n",
      "[<Quantity 1.08736594 Jy km / s>, <Quantity 3.29701903 kpc>]\n",
      "[<Quantity 1.08877987 Jy km / s>, <Quantity 3.30547409 kpc>]\n",
      "[<Quantity 1.08742701 Jy km / s>, <Quantity 3.29677236 kpc>]\n",
      "[<Quantity 1.09025478 Jy km / s>, <Quantity 3.31369508 kpc>]\n",
      "[<Quantity 1.08813398 Jy km / s>, <Quantity 3.30099802 kpc>]\n",
      "[<Quantity 1.08884094 Jy km / s>, <Quantity 3.30522703 kpc>]\n",
      "[<Quantity 1.08810345 Jy km / s>, <Quantity 3.30112145 kpc>]\n",
      "[<Quantity 1.08804238 Jy km / s>, <Quantity 3.30136832 kpc>]\n",
      "[<Quantity 1.0887188 Jy km / s>, <Quantity 3.30572116 kpc>]\n",
      "[<Quantity 1.08945627 Jy km / s>, <Quantity 3.30983027 kpc>]\n",
      "[<Quantity 1.08839586 Jy km / s>, <Quantity 3.30348255 kpc>]\n",
      "[<Quantity 1.08874934 Jy km / s>, <Quantity 3.30559762 kpc>]\n",
      "[<Quantity 1.08841113 Jy km / s>, <Quantity 3.30342081 kpc>]\n",
      "[<Quantity 1.08844166 Jy km / s>, <Quantity 3.30329733 kpc>]\n",
      "[<Quantity 1.08867242 Jy km / s>, <Quantity 3.30502246 kpc>]\n",
      "[<Quantity 1.08841113 Jy km / s>, <Quantity 3.30342081 kpc>]\n"
     ]
    },
    {
     "name": "stdout",
     "output_type": "stream",
     "text": [
      "Warning: Maximum number of iterations has been exceeded.\n",
      "[[Fit Statistics]]\n",
      "    # fitting method   = Nelder-Mead\n",
      "    # function evals   = 66\n",
      "    # data points      = 1\n",
      "    # variables        = 2\n",
      "    chi-square         = 3.3555e+10\n",
      "    reduced chi-square = 3.3555e+10\n",
      "    Akaike info crit   = 28.2364557\n",
      "    Bayesian info crit = 24.2364557\n",
      "##  Warning: uncertainties could not be estimated:\n",
      "    this fitting method does not natively calculate uncertainties\n",
      "    and numdifftools is not installed for lmfit to do this. Use\n",
      "    `pip install numdifftools` for lmfit to estimate uncertainties\n",
      "    with this fitting method.\n",
      "[[Variables]]\n",
      "    p_1:  1.08841113 (init = 1.2)\n",
      "    p_2:  3.30342081 (init = 3.2)\n"
     ]
    },
    {
     "name": "stderr",
     "output_type": "stream",
     "text": [
      "--- save to: .//chisq_chain.h5\n"
     ]
    },
    {
     "data": {
      "text/plain": [
       "Timer unit: 1e-06 s\n",
       "\n",
       "Total time: 65.0139 s\n",
       "File: /Users/Rui/Resilio/Workspace/projects/GMaKE/gmake/opt.py\n",
       "Function: opt_iterate at line 257\n",
       "\n",
       "Line #      Hits         Time  Per Hit   % Time  Line Contents\n",
       "==============================================================\n",
       "   257                                           def opt_iterate(fit_dct,inp_dct,dat_dct,models,resume=False):\n",
       "   258                                           \n",
       "   259         1          2.0      2.0      0.0      method=fit_dct['method'].split('-')[0]\n",
       "   260                                               \n",
       "   261         1          1.0      1.0      0.0      if  method=='emcee':\n",
       "   262                                                   opt_name='emcee'\n",
       "   263                                               else:\n",
       "   264         1          0.0      0.0      0.0          opt_name='chisq'\n",
       "   265                                               \n",
       "   266         1        881.0    881.0      0.0      logger.debug('max_iteration:'+str(inp_dct['optimize']['niter']))\n",
       "   267         2   65013009.0 32506504.5    100.0      globals()[opt_name+'_iterate'](fit_dct,inp_dct,dat_dct,models,\n",
       "   268         1          1.0      1.0      0.0                                     nstep=inp_dct['optimize']['niter'],\n",
       "   269         1          0.0      0.0      0.0                                     resume=resume)\n",
       "   270                                           \n",
       "   271         1          2.0      2.0      0.0      return"
      ]
     },
     "metadata": {},
     "output_type": "display_data"
    }
   ],
   "source": [
    "#pprint(np.sum(dat_dct['weight@../../../data/mockup_basic_withnoise.ms']==0))\n",
    "inp_dct=gmake.read_inp(inpfile)\n",
    "#inp_dct=gmake.inp_validate(inp_dct)\n",
    "#mod_dct=gmake.inp2mod(inp_dct)\n",
    "#gmake.clouds_fill(mod_dct)\n",
    "#print(mod_dct)\n",
    "#models=gmake.model_setup(gmake.inp2mod(inp_dct),dat_dct)\n",
    "\n",
    "fit_dct,models=gmake.opt_setup(inp_dct,dat_dct)\n",
    "#pprint(models)\n",
    "#models['error@../../data/mockup_basic_withnoise.ms/dm.image.fits']\n",
    "#pprint(fit_dct)\n",
    "#pprint(models)\n",
    "%lprun -f gmake.opt_iterate gmake.opt_iterate(fit_dct,inp_dct,dat_dct,models,resume=False)\n",
    "#gmake.opt_iterate(fit_dct,inp_dct,dat_dct,models)"
   ]
  },
  {
   "cell_type": "code",
   "execution_count": 43,
   "metadata": {},
   "outputs": [
    {
     "name": "stderr",
     "output_type": "stream",
     "text": [
      "++++++++++++++++++++++++++++++++++++++++++++++++++++++++++++++++++++++++++++++++++++++++++++++++++++\n",
      "optimizer: lmfit-leastsq\n",
      "optimizing parameters:\n",
      "----------------------------------------------------------------------------------------------------\n",
      "index    name    unit    start    lo_limit    up_limit    scale\n",
      " 0   vsini@basics       250.00     km / s  (    100.00     km / s,     300.00     km / s )    150.00     km / s \n",
      " 1   sbProf[1]@co21      3.00      kpc  (     1.00      kpc,      30.00     kpc )     27.00     kpc \n",
      "++++++++++++++++++++++++++++++++++++++++++++++++++++++++++++++++++++++++++++++++++++++++++++++++++++\n",
      "ndim:    2\n",
      "outdir:  ./\n",
      "npar ->2\n",
      "ndata->190680\n",
      "--- save to: .//fit.h5\n",
      "chisq->25236.213086911837\n",
      "lnl  ->1232848.639722029\n",
      "one trial                                          : 0.85796  seconds\n",
      "max_iteration:40\n",
      " \n",
      "Running Optimizer: lmfit-leastsq\n",
      ">>.//chisq_chain.h5\n",
      " \n",
      "set OpenMP threading: 12\n",
      "[<Quantity 250. km / s>, <Quantity 3. kpc>]\n",
      "[<Quantity 250. km / s>, <Quantity 3. kpc>]\n",
      "[<Quantity 250. km / s>, <Quantity 3. kpc>]\n",
      "[<Quantity 254.4639035 km / s>, <Quantity 3. kpc>]\n",
      "[<Quantity 250. km / s>, <Quantity 3.82983332 kpc>]\n",
      "[<Quantity 198.35230013 km / s>, <Quantity 6.31225152 kpc>]\n",
      "[<Quantity 198.51705736 km / s>, <Quantity 6.31225152 kpc>]\n",
      "[<Quantity 198.35230013 km / s>, <Quantity 7.10307918 kpc>]\n",
      "[<Quantity 197.5351611 km / s>, <Quantity 7.50666565 kpc>]\n",
      "[<Quantity 197.7816023 km / s>, <Quantity 7.50666565 kpc>]\n",
      "[<Quantity 197.5351611 km / s>, <Quantity 8.22625046 kpc>]\n",
      "[<Quantity 197.58698462 km / s>, <Quantity 7.21800188 kpc>]\n",
      "[<Quantity 197.58698462 km / s>, <Quantity 7.21800188 kpc>]\n",
      "[<Quantity 197.55188379 km / s>, <Quantity 7.39280045 kpc>]\n",
      "[<Quantity 197.53777604 km / s>, <Quantity 7.48724528 kpc>]\n",
      "[<Quantity 197.53541897 km / s>, <Quantity 7.50472197 kpc>]\n",
      "[<Quantity 197.53518685 km / s>, <Quantity 7.50647126 kpc>]\n",
      "[<Quantity 197.53516368 km / s>, <Quantity 7.50664621 kpc>]\n",
      "[<Quantity 197.53516136 km / s>, <Quantity 7.5066637 kpc>]\n",
      "[<Quantity 197.5351611 km / s>, <Quantity 7.50666565 kpc>]\n",
      "--- save to: .//chisq_chain.h5\n"
     ]
    },
    {
     "name": "stdout",
     "output_type": "stream",
     "text": [
      "[[Fit Statistics]]\n",
      "    # fitting method   = leastsq\n",
      "    # function evals   = 17\n",
      "    # data points      = 190680\n",
      "    # variables        = 2\n",
      "    chi-square         = 186179.800\n",
      "    reduced chi-square = 0.97640944\n",
      "    Akaike info crit   = -4550.15518\n",
      "    Bayesian info crit = -4529.83848\n",
      "[[Variables]]\n",
      "    p_1:  197.535161 +/- 0.51329617 (0.26%) (init = 250)\n",
      "    p_2:  7.50666565 +/- 0.32441302 (4.32%) (init = 3)\n"
     ]
    },
    {
     "data": {
      "text/plain": [
       "Timer unit: 1e-06 s\n",
       "\n",
       "Total time: 17.4216 s\n",
       "File: /Users/Rui/Resilio/Workspace/projects/GMaKE/gmake/evaluate.py\n",
       "Function: calc_wdev at line 203\n",
       "\n",
       "Line #      Hits         Time  Per Hit   % Time  Line Contents\n",
       "==============================================================\n",
       "   203                                           def calc_wdev(p,\n",
       "   204                                                         fit_dct=None,inp_dct=None,\n",
       "   205                                                         models=None,blobs=None,\n",
       "   206                                                         savemodel=None):\n",
       "   207                                               \"\"\"\n",
       "   208                                               this might be slightly slower than calc_chisq due to memory usage to hold entire models\n",
       "   209                                               it's not ideal for parallel calculation as the models are saved in the same object \"models\"\n",
       "   210                                               \"\"\"\n",
       "   211        20         30.0      1.5      0.0      theta=[]    # with units for log_probability\n",
       "   212        20         16.0      0.8      0.0      pars=[]     # without units for bookkeeping  \n",
       "   213                                               \n",
       "   214        20         27.0      1.4      0.0      if  isinstance(p,Parameters):\n",
       "   215        20       1923.0     96.2      0.0          theta=[p['p_'+str(i+1)].value<<fit_dct['p_start'][i].unit for i in range(len(fit_dct['p_name']))]\n",
       "   216        20        154.0      7.7      0.0          pars=[p['p_'+str(i+1)].value for i in range(len(fit_dct['p_name']))]\n",
       "   217                                               else:\n",
       "   218                                                   theta=[p[i]<<fit_dct['p_start'][i].unit for i in range(len(fit_dct['p_name']))]\n",
       "   219                                                   pars=[p[i] for i in range(len(fit_dct['p_name']))]\n",
       "   220        20      23445.0   1172.2      0.1      logger.debug(str(theta))\n",
       "   221                                               \n",
       "   222                                               #\"\"\"\n",
       "   223                                               #obselet: only works for xy-optimiztion\n",
       "   224        20         66.0      3.3      0.0      ll,chisq,wdev=log_likelihood(theta,fit_dct,inp_dct,meta.dat_dct_global,\n",
       "   225        20         12.0      0.6      0.0                                models=models,\n",
       "   226        20   17395899.0 869794.9     99.9                                savemodel=savemodel,returnwdev=True) \n",
       "   227        20         42.0      2.1      0.0      return wdev   \n",
       "   228                                               #\"\"\"\n",
       "   229                                               \n",
       "   230                                               \"\"\"\n",
       "   231                                               models,inp_dct0,mod_dct0=model_mapper(theta,fit_dct,inp_dct,\n",
       "   232                                                                                     meta.dat_dct_global,\n",
       "   233                                                                                     models=models)\n",
       "   234                                               wdev=[]\n",
       "   235                                               for tag in list(models.keys()):\n",
       "   236                                                   if  'imodel@' in tag:\n",
       "   237                                                       dname=tag.replace('imodel@','')\n",
       "   238                                                       if  models['type@'+dname]=='vis':\n",
       "   239                                                           wdev_one=np.abs(models['model@'+dname]-meta.dat_dct_global['data@'+dname])*np.sqrt(meta.dat_dct_global['weight@'+dname][:,None])\n",
       "   240                                                           wdev.append(wdev_one[meta.dat_dct_global['flag@'+dname]==False].ravel())\n",
       "   241                                                       if  models['type@'+dname]=='image':\n",
       "   242                                                           if  'sample@'+dname in models:\n",
       "   243                                                               naxis=models['wcs@'+dname]._naxis\n",
       "   244                                                               scube=interpn(  (np.arange(naxis[2]),np.arange(naxis[1]),np.arange(naxis[0])),\n",
       "   245                                                                               np.squeeze(models['model@'+dname]),\n",
       "   246                                                                               models['sample@'+dname][:,::-1],method='linear')\n",
       "   247                                                               error=models['error-sp@'+dname]\n",
       "   248                                                               imdata=models['data-sp@'+dname]\n",
       "   249                                                           else:\n",
       "   250                                                               scube=models['model@'+dname]\n",
       "   251                                                               error=models['error@'+dname]\n",
       "   252                                                               imdata=models['data@'+dname]\n",
       "   253                                                           wdev_one=(scube-imdata)/error\n",
       "   254                                                           wdev.append(wdev_one.ravel())           \n",
       "   255                                               \n",
       "   256                                               wdev=np.hstack(wdev)\n",
       "   257                                               \n",
       "   258                                               return wdev\n",
       "   259                                               \"\"\""
      ]
     },
     "metadata": {},
     "output_type": "display_data"
    }
   ],
   "source": [
    "#pprint(np.sum(dat_dct['weight@../../../data/mockup_basic_withnoise.ms']==0))\n",
    "inp_dct=gmake.read_inp(inpfile)\n",
    "#inp_dct=gmake.inp_validate(inp_dct)\n",
    "#mod_dct=gmake.inp2mod(inp_dct)\n",
    "#gmake.clouds_fill(mod_dct)\n",
    "#print(mod_dct)\n",
    "#models=gmake.model_setup(gmake.inp2mod(inp_dct),dat_dct)\n",
    "\n",
    "fit_dct,models=gmake.opt_setup(inp_dct,dat_dct,initial_model=True)\n",
    "#pprint(models)\n",
    "#models['error@../../data/mockup_basic_withnoise.ms/dm.image.fits']\n",
    "#pprint(fit_dct)\n",
    "#pprint(models)\n",
    "%lprun -f gmake.evaluate.calc_wdev gmake.opt_iterate(fit_dct,inp_dct,dat_dct,models,resume=False)\n",
    "#gmake.opt_iterate(fit_dct,inp_dct,dat_dct,models)"
   ]
  },
  {
   "cell_type": "code",
   "execution_count": 64,
   "metadata": {},
   "outputs": [],
   "source": [
    "inp_dct=gmake.read_inp(inpfile)\n",
    "inp_dct=gmake.inp_validate(inp_dct)\n",
    "mod_dct=gmake.inp2mod(inp_dct)\n",
    "gmake.clouds_fill(mod_dct)\n",
    "#print(mod_dct)\n",
    "#models=gmake.model_setup(gmake.inp2mod(inp_dct),dat_dct)\n",
    "\n",
    "#fit_dct,models=gmake.opt_setup(inp_dct,dat_dct,initial_model=False)\n",
    "#pprint(models)\n",
    "#models['error@../../data/mockup_basic_withnoise.ms/dm.image.fits']\n",
    "#pprint(fit_dct)\n",
    "#pprint(models)\n",
    "#%lprun -f gmake.opt_iterate gmake.opt_iterate(fit_dct,inp_dct,dat_dct,models,resume=False)\n",
    "#gmake.opt_iterate(fit_dct,inp_dct,dat_dct,models)"
   ]
  },
  {
   "cell_type": "code",
   "execution_count": 65,
   "metadata": {},
   "outputs": [
    {
     "name": "stdout",
     "output_type": "stream",
     "text": [
      "545 ms ± 14.1 ms per loop (mean ± std. dev. of 7 runs, 1 loop each)\n"
     ]
    }
   ],
   "source": [
    "#p_chisq=gmake.hdf2dct(fit_dct['outfolder']+'/chisq_chain.h5')\n",
    "#p_chisq['blobs']['pars'].shape\n",
    "#print(models['sample@../../data/mockup_basic_withnoise.ms/dm.image.fits'].shape)\n",
    "#print(models['data-sp@../../data/mockup_basic_withnoise.ms/dm.image.fits'].shape)\n",
    "#print(gmake.xy_chisq([mod_dct['co21']],'../../data/mockup_basic_withnoise.ms/dm.image.fits',dat_dct,models))\n",
    "%timeit gmake.xy_chisq([mod_dct['co21']],'../../data/mockup_basic_withnoise.ms/dm.image.fits',dat_dct,models)\n"
   ]
  },
  {
   "cell_type": "code",
   "execution_count": 66,
   "metadata": {},
   "outputs": [
    {
     "name": "stdout",
     "output_type": "stream",
     "text": [
      "542 ms ± 16.5 ms per loop (mean ± std. dev. of 7 runs, 1 loop each)\n"
     ]
    }
   ],
   "source": [
    "#print(gmake.evaluate.xy_chisq0([mod_dct['co21']],'../../data/mockup_basic_withnoise.ms/dm.image.fits',dat_dct,models))\n",
    "%timeit gmake.evaluate.xy_chisq0([mod_dct['co21']],'../../data/mockup_basic_withnoise.ms/dm.image.fits',dat_dct,models)\n",
    "#%lprun -f gmake.evaluate.xy_chisq0 gmake.evaluate.xy_chisq0([mod_dct['co21']],'../../data/mockup_basic_withnoise.ms/dm.image.fits',dat_dct,models)"
   ]
  },
  {
   "cell_type": "code",
   "execution_count": 3,
   "metadata": {},
   "outputs": [
    {
     "name": "stderr",
     "output_type": "stream",
     "text": [
      "The chain is shorter than 50 times the integrated autocorrelation time for 2 parameter(s). Use this estimate with caution and run a longer chain!\n",
      "N/50 = 8;\n",
      "tau: [21.47239717 21.71853599]\n",
      "tau: [21.47239717 21.71853599]\n",
      "select burnin:   180\n",
      "chain shape  :   (400, 40, 2)\n",
      "++++++++++++++++++++++++++++++++++++++++++++++++++++++++++++++++++++++++++++++++++++++++++\n",
      ">>>  vsini@basics:\n",
      " median(sigma) = 209.54       -33.41       -16.96       19.48        38.24       \n",
      " median(ptile) = 209.54       176.13       192.57       229.02       247.78      \n",
      " start(iscale) = 250.00      /150.00      \n",
      " mode          = 211.71      \n",
      ">>>  sbProf[1]@co21:\n",
      " median(sigma) = 6.95           -1.00          -0.54          0.59           1.25          \n",
      " median(ptile) = 6.95           5.94           6.41           7.54           8.19          \n",
      " start(iscale) = 3.00          /27.00         \n",
      " mode          = 7.02          \n",
      "------------------------------------------------------------------------------------------\n",
      "analyzing outfolder:./\n",
      "plotting....//emcee-iteration.pdf\n",
      "analyzing outfolder:./\n",
      "plotting....//emcee-iteration-blobs.pdf\n",
      "plotting....//emcee-corner.pdf\n",
      "input data size:(8800, 2)\n",
      "Took 0.17630577087402344 seconds\n",
      "--- save to: .//fit.h5\n"
     ]
    }
   ],
   "source": [
    "#import emcee\n",
    "#h5name=fit_dct['outfolder']+'/emcee_chain.h5'\n",
    "#backend = emcee.backends.HDFBackend(h5name)\n",
    "#print(backend)\n",
    "#p_amoeba=gmake.hdf2dct(fit_dct['outfolder']+'/amoeba_chain.h5')\n",
    "#import gmake\n",
    "gmake.analyze.opt_analyze(inpfile,export=False,burnin=180)\n",
    "#p_chisq=gmake.hdf2dct(fit_dct['outfolder']+'/chisq_chain.h5')\n",
    "#p_chisq['result'].var_names\n",
    "#pprint(p_amoeba)\n",
    "#p_lmfit=gmake.hdf2dct(inp_dct['general']['outdir']+'/lmfit_chain.h5')\n",
    "#from lmfit import report_fit\n",
    "#report_fit(p_lmfit['lmfit_result'])\n",
    "#result=p_lmfit['lmfit_result']\n",
    "#result.flatchain\n",
    "#help(result)"
   ]
  },
  {
   "cell_type": "code",
   "execution_count": 18,
   "metadata": {},
   "outputs": [
    {
     "name": "stdout",
     "output_type": "stream",
     "text": [
      "Help on method reset in module emcee.backends.hdf:\n",
      "\n",
      "reset(nwalkers, ndim) method of emcee.backends.hdf.HDFBackend instance\n",
      "    Clear the state of the chain and empty the backend\n",
      "    \n",
      "    Args:\n",
      "        nwakers (int): The size of the ensemble\n",
      "        ndim (int): The number of dimensions\n",
      "\n"
     ]
    }
   ],
   "source": [
    "help(backend.reset)"
   ]
  },
  {
   "cell_type": "code",
   "execution_count": 40,
   "metadata": {},
   "outputs": [
    {
     "ename": "KeyError",
     "evalue": "'header@test_data.fits'",
     "output_type": "error",
     "traceback": [
      "\u001b[0;31m---------------------------------------------------------------------------\u001b[0m",
      "\u001b[0;31mKeyError\u001b[0m                                  Traceback (most recent call last)",
      "\u001b[0;32m<ipython-input-40-5a42a30375fa>\u001b[0m in \u001b[0;36m<module>\u001b[0;34m\u001b[0m\n\u001b[1;32m     13\u001b[0m \u001b[0;34m\u001b[0m\u001b[0m\n\u001b[1;32m     14\u001b[0m \u001b[0;34m\u001b[0m\u001b[0m\n\u001b[0;32m---> 15\u001b[0;31m \u001b[0mheader\u001b[0m\u001b[0;34m=\u001b[0m\u001b[0mmodels\u001b[0m\u001b[0;34m[\u001b[0m\u001b[0;34m'header@test_data.fits'\u001b[0m\u001b[0;34m]\u001b[0m\u001b[0;34m\u001b[0m\u001b[0;34m\u001b[0m\u001b[0m\n\u001b[0m\u001b[1;32m     16\u001b[0m \u001b[0mpsf\u001b[0m\u001b[0;34m=\u001b[0m\u001b[0mmodels\u001b[0m\u001b[0;34m[\u001b[0m\u001b[0;34m'psf@test_data.fits'\u001b[0m\u001b[0;34m]\u001b[0m\u001b[0;34m\u001b[0m\u001b[0;34m\u001b[0m\u001b[0m\n\u001b[1;32m     17\u001b[0m \u001b[0;31m#%lprun -f gmake.discretize.mapper cube,scube=gmake.discretize.mapper(objs,header,psf=psf)\u001b[0m\u001b[0;34m\u001b[0m\u001b[0;34m\u001b[0m\u001b[0;34m\u001b[0m\u001b[0m\n",
      "\u001b[0;31mKeyError\u001b[0m: 'header@test_data.fits'"
     ]
    }
   ],
   "source": [
    "import gmake\n",
    "from astropy.io import fits\n",
    "inp_dct=gmake.read_inp(inpfile)\n",
    "inp_dct=gmake.inp_validate(inp_dct)\n",
    "mod_dct=gmake.inp2mod(inp_dct)\n",
    "gmake.clouds_fill(mod_dct)\n",
    "#pprint(mod_dct)\n",
    "models=gmake.model_setup(gmake.inp2mod(inp_dct),dat_dct)\n",
    "#pprint(models)\n",
    "#header=models['header@../../../../examples/data/gn20/vla/AC974.100408.ms']\n",
    "objs=[mod_dct['co21']]\n",
    "#psf=models['psf@../../../../examples/data/gn20/vla/AC974.100408.ms']\n",
    "\n",
    "\n",
    "header=models['header@test_data.fits']\n",
    "psf=models['psf@test_data.fits']\n",
    "#%lprun -f gmake.discretize.mapper cube,scube=gmake.discretize.mapper(objs,header,psf=psf)\n",
    "#%timeit cube,scube=gmake.discretize.mapper(objs,header,psf=psf)\n",
    "\n",
    "#fits.writeto('out_model.fits',cube,header,overwrite=True)\n",
    "#fits.writeto('out_smodel.fits',scube,header,overwrite=True)\n",
    "#fits.writeto('out_psf.fits',psf,header,overwrite=True)\n",
    "#%lprun -f gmake.uv_chisq fit_dct=gmake.fit_setup(inp_dct,dat_dct,initial_model=True)\n",
    "\n",
    "\n",
    "#%lprun -f gmake.log_likelihood gmake.fit_iterate(fit_dct,inp_dct,dat_dct)\n",
    "#gmake.fit_analyze(inpfile,export=True)\n",
    "%lprun -f uv_chisq chi2=uv_chisq(objs,header,uvdata,uvw,phasecenter,uvweight,uvflag)\n",
    "#%mprun -f uv_chisq chi2=uv_chisq(objs,header,uvdata,uvw,phasecenter,uvweight,uvflag)"
   ]
  },
  {
   "cell_type": "code",
   "execution_count": 135,
   "metadata": {},
   "outputs": [
    {
     "data": {
      "text/plain": [
       "Timer unit: 1e-06 s\n",
       "\n",
       "Total time: 0.392153 s\n",
       "File: /Users/Rui/Resilio/Workspace/projects/GMaKE/gmake/discretizer.py\n",
       "Function: uv_mapper at line 369\n",
       "\n",
       "Line #      Hits         Time  Per Hit   % Time  Line Contents\n",
       "==============================================================\n",
       "   369                                           def uv_mapper(objs,header,\n",
       "   370                                                         uvdata,uvw,phasecenter,uvweight,uvflag):\n",
       "   371                                               \"\"\"\n",
       "   372                                               map mutiple component into one header and calculate chisq\n",
       "   373                                               \n",
       "   374                                               models:    a list of model to be mapped into the visibility model for the chisq calculation\n",
       "   375                                               header:    pesudo fits header\n",
       "   376                                               uv...:     visibility data \n",
       "   377                                               \n",
       "   378                                               \"\"\"\n",
       "   379                                               \n",
       "   380         1          2.0      2.0      0.0      cc=0\n",
       "   381         1          1.0      1.0      0.0      chi2=0\n",
       "   382         1      11213.0  11213.0      2.9      w=WCS(header)\n",
       "   383         1          1.0      1.0      0.0      naxis=w._naxis    \n",
       "   384                                               \n",
       "   385         1        814.0    814.0      0.2      phasecenter_sc = SkyCoord(phasecenter[0], phasecenter[1], frame='icrs')\n",
       "   386         1        699.0    699.0      0.2      refimcenter_sc = SkyCoord(w.wcs.crval[0]*u.deg,w.wcs.crval[1]*u.deg, frame='icrs')\n",
       "   387         1       6950.0   6950.0      1.8      dra, ddec = phasecenter_sc.spherical_offsets_to(refimcenter_sc)    \n",
       "   388         1         19.0     19.0      0.0      dRA=dra.to_value(u.rad)\n",
       "   389         1         14.0     14.0      0.0      dDec=ddec.to_value(u.rad)\n",
       "   390         1        316.0    316.0      0.1      cell=np.mean(proj_plane_pixel_scales(w.celestial))\n",
       "   391         1          7.0      7.0      0.0      cell=(np.deg2rad(cell)).astype(np.float32)\n",
       "   392         1        200.0    200.0      0.1      wspec=w.sub(['spectral'])  \n",
       "   393         1        635.0    635.0      0.2      wv=wspec.pixel_to_world(np.arange(naxis[2])).to(u.m,equivalencies=u.spectral()).value.astype(np.float32) \n",
       "   394                                               \n",
       "   395                                               #   gather information per object before going into the channel loop,\n",
       "   396                                               #   so it won't need to reapt for each chanel\n",
       "   397                                               fluxscale_list,xrange_list,yrange_list,x_list,y_list,wt_list=\\\n",
       "   398         1      62757.0  62757.0     16.0          channel_split(objs,w,return_v=False) \n",
       "   399                                               \n",
       "   400         1      71299.0  71299.0     18.2      vis=np.zeros((uvdata.shape)[0:2],dtype=uvdata.dtype,order='F')\n",
       "   401                                                   \n",
       "   402       129        205.0      1.6      0.1      for iz in range(naxis[2]):\n",
       "   403                                                   \n",
       "   404       128        126.0      1.0      0.0          blank=True  \n",
       "   405       256        410.0      1.6      0.1          for i in range(len(objs)): \n",
       "   406       128        202.0      1.6      0.1              if  x_list[i][iz].size!=0:\n",
       "   407        61         60.0      1.0      0.0                  wt=wt_list[i][iz] if wt_list[i] is not None else None\n",
       "   408        61         57.0      0.9      0.0                  if  blank==True:\n",
       "   409        61        108.0      1.8      0.0                      plane=fh.histogram2d(y_list[i][iz+1],x_list[i][iz+1],\n",
       "   410        61         79.0      1.3      0.0                                           range=[yrange_list[i],xrange_list[i]],\n",
       "   411        61         68.0      1.1      0.0                                           bins=(naxis[1],naxis[0]),\n",
       "   412        61      22811.0    374.0      5.8                                           weights=wt)*fluxscale_list[i]\n",
       "   413        61         99.0      1.6      0.0                      blank=False\n",
       "   414                                                           else:\n",
       "   415                                                               plane+=fh.histogram2d(y_list[i][iz+1],x_list[i][iz+1],\n",
       "   416                                                                                    range=[yrange_list[i],xrange_list[i]],\n",
       "   417                                                                                    bins=(naxis[1],naxis[0]),\n",
       "   418                                                                                    weights=wt)*fluxscale_list[i]                    \n",
       "   419       128        114.0      0.9      0.0          if  blank==False:\n",
       "   420        61        939.0     15.4      0.2              vis[:,iz]=sampleImage(plane.astype(np.float32),\n",
       "   421        61         76.0      1.2      0.0                                    cell,\n",
       "   422        61       3753.0     61.5      1.0                                    (uvw[:,0]/wv[iz]),\n",
       "   423        61       3589.0     58.8      0.9                                    (uvw[:,1]/wv[iz]),                               \n",
       "   424        61         56.0      0.9      0.0                                    dRA=dRA,dDec=dDec,\n",
       "   425        61     204473.0   3352.0     52.1                                    PA=0.,check=False,origin='lower')\n",
       "   426                                           \n",
       "   427                                                       \n",
       "   428         1          1.0      1.0      0.0      return vis"
      ]
     },
     "metadata": {},
     "output_type": "display_data"
    }
   ],
   "source": [
    "import gmake\n",
    "from astropy.io import fits\n",
    "inp_dct=gmake.read_inp(inpfile)\n",
    "inp_dct=gmake.inp_validate(inp_dct)\n",
    "mod_dct=gmake.inp2mod(inp_dct)\n",
    "gmake.clouds_fill(mod_dct)\n",
    "\n",
    "models=gmake.model_setup(gmake.inp2mod(inp_dct),dat_dct)\n",
    "header=models['header@../../../../examples/data/gn20/vla/AC974.100408.ms']\n",
    "uvdata=dat_dct['data@../../../../examples/data/gn20/vla/AC974.100408.ms']\n",
    "uvw=dat_dct['uvw@../../../../examples/data/gn20/vla/AC974.100408.ms']\n",
    "phasecenter=dat_dct['phasecenter@../../../../examples/data/gn20/vla/AC974.100408.ms']\n",
    "uvweight=dat_dct['weight@../../../../examples/data/gn20/vla/AC974.100408.ms']\n",
    "uvflag=dat_dct['flag@../../../../examples/data/gn20/vla/AC974.100408.ms']\n",
    "objs=[mod_dct['co21']]\n",
    "\n",
    "%lprun -f gmake.discretize.uv_mapper vis=gmake.discretize.uv_mapper(objs,header,uvdata,uvw,phasecenter,uvweight,uvflag)\n",
    "#%lprun -f gmake.uv_chisq fit_dct=gmake.fit_setup(inp_dct,dat_dct,initial_model=True)\n",
    "#%lprun -f gmake.log_likelihood gmake.fit_iterate(fit_dct,inp_dct,dat_dct)\n",
    "#gmake.fit_analyze(inpfile,export=True)\n",
    "#%lprun -f uv_chisq chi2=uv_chisq(objs,header,uvdata,uvw,phasecenter,uvweight,uvflag)\n",
    "#%timeit chi2=uv_chisq(objs,header,uvdata,uvw,phasecenter,uvweight,uvflag)\n",
    "#print(chi2)\n",
    "#%mprun -f uv_chisq chi2=uv_chisq(objs,header,uvdata,uvw,phasecenter,uvweight,uvflag)\n",
    "\n",
    "#vis=gmake.discretize.uv_mapper(objs,header,uvdata,uvw,phasecenter,uvweight,uvflag)\n"
   ]
  },
  {
   "cell_type": "code",
   "execution_count": 144,
   "metadata": {},
   "outputs": [
    {
     "name": "stdout",
     "output_type": "stream",
     "text": [
      "complex64\n"
     ]
    }
   ],
   "source": [
    "print(vis.dtype)"
   ]
  },
  {
   "cell_type": "code",
   "execution_count": 44,
   "metadata": {},
   "outputs": [
    {
     "data": {
      "text/plain": [
       "(2000000, 3)"
      ]
     },
     "execution_count": 44,
     "metadata": {},
     "output_type": "execute_result"
    }
   ],
   "source": [
    "mod_dct['co21']['clouds_loc'].get_xyz(xyz_axis=-1).shape"
   ]
  },
  {
   "cell_type": "code",
   "execution_count": 18,
   "metadata": {},
   "outputs": [
    {
     "data": {
      "text/plain": [
       "(136555, 3)"
      ]
     },
     "execution_count": 18,
     "metadata": {},
     "output_type": "execute_result"
    }
   ],
   "source": [
    "uvw.shape"
   ]
  },
  {
   "cell_type": "code",
   "execution_count": 35,
   "metadata": {},
   "outputs": [
    {
     "name": "stdout",
     "output_type": "stream",
     "text": [
      "208 ns ± 1.59 ns per loop (mean ± std. dev. of 7 runs, 1000000 loops each)\n"
     ]
    }
   ],
   "source": [
    "%timeit uvdata0=uvdata[:,2]"
   ]
  },
  {
   "cell_type": "code",
   "execution_count": 40,
   "metadata": {},
   "outputs": [
    {
     "data": {
      "text/plain": [
       "  C_CONTIGUOUS : True\n",
       "  F_CONTIGUOUS : True\n",
       "  OWNDATA : False\n",
       "  WRITEABLE : True\n",
       "  ALIGNED : True\n",
       "  WRITEBACKIFCOPY : False\n",
       "  UPDATEIFCOPY : False"
      ]
     },
     "execution_count": 40,
     "metadata": {},
     "output_type": "execute_result"
    }
   ],
   "source": [
    "uvdata0=uvdata[:,2]\n",
    "uvdata0.flags"
   ]
  },
  {
   "cell_type": "code",
   "execution_count": 29,
   "metadata": {},
   "outputs": [],
   "source": [
    "u = np.ones (100, dtype=complex)"
   ]
  },
  {
   "cell_type": "code",
   "execution_count": 30,
   "metadata": {},
   "outputs": [
    {
     "data": {
      "text/plain": [
       "array([1.+0.j, 1.+0.j, 1.+0.j, 1.+0.j, 1.+0.j, 1.+0.j, 1.+0.j, 1.+0.j,\n",
       "       1.+0.j, 1.+0.j, 1.+0.j, 1.+0.j, 1.+0.j, 1.+0.j, 1.+0.j, 1.+0.j,\n",
       "       1.+0.j, 1.+0.j, 1.+0.j, 1.+0.j, 1.+0.j, 1.+0.j, 1.+0.j, 1.+0.j,\n",
       "       1.+0.j, 1.+0.j, 1.+0.j, 1.+0.j, 1.+0.j, 1.+0.j, 1.+0.j, 1.+0.j,\n",
       "       1.+0.j, 1.+0.j, 1.+0.j, 1.+0.j, 1.+0.j, 1.+0.j, 1.+0.j, 1.+0.j,\n",
       "       1.+0.j, 1.+0.j, 1.+0.j, 1.+0.j, 1.+0.j, 1.+0.j, 1.+0.j, 1.+0.j,\n",
       "       1.+0.j, 1.+0.j])"
      ]
     },
     "execution_count": 30,
     "metadata": {},
     "output_type": "execute_result"
    }
   ],
   "source": [
    "u[::2]"
   ]
  },
  {
   "cell_type": "code",
   "execution_count": 31,
   "metadata": {},
   "outputs": [],
   "source": [
    "uvdata_new=uvdata.transpose().copy()"
   ]
  },
  {
   "cell_type": "code",
   "execution_count": 33,
   "metadata": {},
   "outputs": [
    {
     "name": "stdout",
     "output_type": "stream",
     "text": [
      "  C_CONTIGUOUS : True\n",
      "  F_CONTIGUOUS : False\n",
      "  OWNDATA : True\n",
      "  WRITEABLE : True\n",
      "  ALIGNED : True\n",
      "  WRITEBACKIFCOPY : False\n",
      "  UPDATEIFCOPY : False\n",
      "\n"
     ]
    }
   ],
   "source": [
    "print(uvdata_new.flags)"
   ]
  },
  {
   "cell_type": "code",
   "execution_count": 34,
   "metadata": {},
   "outputs": [
    {
     "name": "stdout",
     "output_type": "stream",
     "text": [
      "211 ns ± 1.44 ns per loop (mean ± std. dev. of 7 runs, 1000000 loops each)\n"
     ]
    }
   ],
   "source": [
    "%timeit uvdata[2,:]"
   ]
  },
  {
   "cell_type": "code",
   "execution_count": 41,
   "metadata": {},
   "outputs": [
    {
     "data": {
      "text/plain": [
       "array([-0.26760855-0.17498447j,  0.02340355+0.09439102j,\n",
       "       -0.10140443+0.12782678j, ...,  0.06768706-0.37996066j,\n",
       "       -0.19639248-0.23046204j,  0.0222325 -0.3234178j ], dtype=complex64)"
      ]
     },
     "execution_count": 41,
     "metadata": {},
     "output_type": "execute_result"
    }
   ],
   "source": [
    "uvdata0"
   ]
  },
  {
   "cell_type": "code",
   "execution_count": 42,
   "metadata": {},
   "outputs": [],
   "source": [
    "uvdata0+=1"
   ]
  },
  {
   "cell_type": "code",
   "execution_count": 43,
   "metadata": {},
   "outputs": [
    {
     "data": {
      "text/plain": [
       "array([0.7323915-0.17498447j, 1.0234035+0.09439102j,\n",
       "       0.8985956+0.12782678j, ..., 1.067687 -0.37996066j,\n",
       "       0.8036075-0.23046204j, 1.0222325-0.3234178j ], dtype=complex64)"
      ]
     },
     "execution_count": 43,
     "metadata": {},
     "output_type": "execute_result"
    }
   ],
   "source": [
    "uvdata0"
   ]
  },
  {
   "cell_type": "code",
   "execution_count": 46,
   "metadata": {},
   "outputs": [
    {
     "data": {
      "text/plain": [
       "array([0.7323915-0.17498447j, 1.0234035+0.09439102j,\n",
       "       0.8985956+0.12782678j, ..., 1.067687 -0.37996066j,\n",
       "       0.8036075-0.23046204j, 1.0222325-0.3234178j ], dtype=complex64)"
      ]
     },
     "execution_count": 46,
     "metadata": {},
     "output_type": "execute_result"
    }
   ],
   "source": [
    "uvdata[:,2]"
   ]
  },
  {
   "cell_type": "code",
   "execution_count": 50,
   "metadata": {},
   "outputs": [
    {
     "data": {
      "text/plain": [
       "(136555, 128)"
      ]
     },
     "execution_count": 50,
     "metadata": {},
     "output_type": "execute_result"
    }
   ],
   "source": [
    "uvdata.shape"
   ]
  },
  {
   "cell_type": "code",
   "execution_count": 51,
   "metadata": {},
   "outputs": [],
   "source": [
    "import bottleneck as bn"
   ]
  },
  {
   "cell_type": "code",
   "execution_count": 61,
   "metadata": {},
   "outputs": [
    {
     "name": "stdout",
     "output_type": "stream",
     "text": [
      "53.1 ms ± 1.58 ms per loop (mean ± std. dev. of 7 runs, 10 loops each)\n"
     ]
    }
   ],
   "source": [
    "%timeit test=bn.nansum(uvdata)"
   ]
  },
  {
   "cell_type": "code",
   "execution_count": 68,
   "metadata": {},
   "outputs": [
    {
     "name": "stdout",
     "output_type": "stream",
     "text": [
      "52.7 ms ± 1.37 ms per loop (mean ± std. dev. of 7 runs, 10 loops each)\n"
     ]
    }
   ],
   "source": [
    "%timeit test=np.nansum(uvdata)\n",
    "test=np.sum(uvdata)"
   ]
  },
  {
   "cell_type": "code",
   "execution_count": 55,
   "metadata": {},
   "outputs": [],
   "source": [
    "import numexpr as ne"
   ]
  },
  {
   "cell_type": "code",
   "execution_count": 63,
   "metadata": {},
   "outputs": [
    {
     "name": "stdout",
     "output_type": "stream",
     "text": [
      "27.8 ms ± 744 µs per loop (mean ± std. dev. of 7 runs, 10 loops each)\n"
     ]
    }
   ],
   "source": [
    "%timeit test=ne.evaluate('sum(a)',local_dict={'a':uvdata})"
   ]
  },
  {
   "cell_type": "code",
   "execution_count": 59,
   "metadata": {},
   "outputs": [
    {
     "data": {
      "text/plain": [
       "(136179.36-905.8241j)"
      ]
     },
     "execution_count": 59,
     "metadata": {},
     "output_type": "execute_result"
    }
   ],
   "source": [
    "bn.nansum(uvdata)"
   ]
  },
  {
   "cell_type": "code",
   "execution_count": 60,
   "metadata": {},
   "outputs": [
    {
     "data": {
      "text/plain": [
       "array(136179.25953069-905.82455157j)"
      ]
     },
     "execution_count": 60,
     "metadata": {},
     "output_type": "execute_result"
    }
   ],
   "source": [
    "ne.evaluate('sum(a)',local_dict={'a':uvdata})"
   ]
  },
  {
   "cell_type": "code",
   "execution_count": 69,
   "metadata": {},
   "outputs": [
    {
     "data": {
      "text/plain": [
       "(136555, 128)"
      ]
     },
     "execution_count": 69,
     "metadata": {},
     "output_type": "execute_result"
    }
   ],
   "source": [
    "uvdata.shape"
   ]
  },
  {
   "cell_type": "code",
   "execution_count": 72,
   "metadata": {},
   "outputs": [],
   "source": [
    "a=uvdata[:,2]\n",
    "b=uvflag[:,2]\n",
    "c=uvweight"
   ]
  },
  {
   "cell_type": "code",
   "execution_count": 77,
   "metadata": {},
   "outputs": [
    {
     "name": "stdout",
     "output_type": "stream",
     "text": [
      "1.17 ms ± 16.9 µs per loop (mean ± std. dev. of 7 runs, 1000 loops each)\n"
     ]
    }
   ],
   "source": [
    "%timeit ne.evaluate('sum( ( (a.real)**2+(a.imag)**2 ) * (~b*c) )',local_dict={'a':a,'b':b,'c':c})"
   ]
  },
  {
   "cell_type": "code",
   "execution_count": 79,
   "metadata": {},
   "outputs": [
    {
     "name": "stdout",
     "output_type": "stream",
     "text": [
      "815 µs ± 23.9 µs per loop (mean ± std. dev. of 7 runs, 1000 loops each)\n"
     ]
    }
   ],
   "source": [
    "%timeit np.sum( ( (a.real)**2+(a.imag)**2 ) * (~b*c) )"
   ]
  },
  {
   "cell_type": "code",
   "execution_count": 7,
   "metadata": {},
   "outputs": [],
   "source": [
    "h5name='emcee_chain.h5-2020-0224-163856'"
   ]
  },
  {
   "cell_type": "code",
   "execution_count": 9,
   "metadata": {},
   "outputs": [],
   "source": [
    "import emcee\n",
    "reader = emcee.backends.HDFBackend(h5name,read_only=True)"
   ]
  },
  {
   "cell_type": "code",
   "execution_count": 10,
   "metadata": {},
   "outputs": [],
   "source": [
    "sampler0=reader"
   ]
  },
  {
   "cell_type": "code",
   "execution_count": 28,
   "metadata": {},
   "outputs": [
    {
     "name": "stdout",
     "output_type": "stream",
     "text": [
      "/Users/Rui/Library/Python/3.7/lib/python/site-packages/ipykernel_launcher.py:7: UserWarning: Attempting to set identical bottom == top == 207.0036540522829 results in singular transformations; automatically expanding.\n",
      "  import sys\n",
      "\n"
     ]
    },
    {
     "data": {
      "image/png": "[encoded data removed]",
      "text/plain": [
       "<Figure size 432x288 with 1 Axes>"
      ]
     },
     "metadata": {
      "needs_background": "light"
     },
     "output_type": "display_data"
    }
   ],
   "source": [
    "%matplotlib inline\n",
    "plt.plot(sampler0.get_chain()[:, 1, 0], \"k\", lw=0.5)\n",
    "plt.xlim(200, 1000)\n",
    "samp=sampler0.get_chain()[:, 1, 0]\n",
    "vmin=np.min(samp[400:1000])\n",
    "vmax=np.max(samp[400:1000])\n",
    "plt.ylim(vmin, vmax)\n",
    "plt.title(\"move: StretchMove\", fontsize=14)\n",
    "plt.xlabel(\"step number\")\n",
    "plt.ylabel(\"x\");\n",
    "#print(\"Autocorrelation time: {0:.2f} steps\".format(sampler0.get_autocorr_time()[0]))"
   ]
  },
  {
   "cell_type": "code",
   "execution_count": null,
   "metadata": {},
   "outputs": [],
   "source": []
  }
 ],
 "metadata": {
  "kernelspec": {
   "display_name": "Python 3",
   "language": "python",
   "name": "python3"
  },
  "language_info": {
   "codemirror_mode": {
    "name": "ipython",
    "version": 3
   },
   "file_extension": ".py",
   "mimetype": "text/x-python",
   "name": "python",
   "nbconvert_exporter": "python",
   "pygments_lexer": "ipython3",
   "version": "3.8.2"
  }
 },
 "nbformat": 4,
 "nbformat_minor": 4
}
